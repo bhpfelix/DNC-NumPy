{
 "cells": [
  {
   "cell_type": "code",
   "execution_count": 75,
   "metadata": {},
   "outputs": [],
   "source": [
    "# Imports\n",
    "import autograd.numpy as np\n",
    "from autograd import grad\n",
    "from scipy.stats import truncnorm\n",
    "import pprint\n",
    "from autograd.misc.optimizers import rmsprop, adam\n",
    "\n",
    "import matplotlib.pyplot as plt"
   ]
  },
  {
   "cell_type": "code",
   "execution_count": 2,
   "metadata": {
    "code_folding": [
     1,
     14,
     20,
     25,
     33,
     42,
     49,
     56
    ]
   },
   "outputs": [],
   "source": [
    "# Utils: Numerically Stable, Vectorized implementations of util functions\n",
    "def nprn(*size):\n",
    "    return truncnorm.rvs(-2, 2, size=size)\n",
    "\n",
    "def oneplus(x, limit=30.):\n",
    "    \"\"\"\n",
    "    Numerically stable implementation: | log(1+exp(30)) - 30 | < 1e-10\n",
    "    Constraint to [1, inf)\n",
    "    \"\"\"\n",
    "#     limit = 30\n",
    "#     x[x < limit] = np.log(1. + np.exp(x[x < limit]))\n",
    "    x = np.log(1. + np.exp(x))\n",
    "    return 1. + x\n",
    "\n",
    "def sigmoid(x):\n",
    "    \"\"\"\n",
    "    Constraint to [0, 1]\n",
    "    \"\"\"\n",
    "    return 1. / (1. + np.exp(-x))\n",
    "\n",
    "def softmax(x): # row-wise softmax\n",
    "    res = np.exp(x - np.max(x, axis=1, keepdims=True))\n",
    "    res /= np.sum(res, axis=1, keepdims=True)\n",
    "    return res\n",
    "\n",
    "def shift_cumprod(x):\n",
    "    # solve dimension problem\n",
    "    c = np.squeeze(x)\n",
    "    slices = [1.]\n",
    "    for i in range(1,len(c)):\n",
    "        slices.append(np.prod(c[:i]))\n",
    "    return np.array([slices])\n",
    "\n",
    "def cos_sim(u, v):\n",
    "    \"\"\"\n",
    "    Cosine similarity between u,v\n",
    "    \"\"\"\n",
    "    n = np.dot(u,v)\n",
    "    d = np.sqrt(np.dot(u,u) * np.dot(v,v))\n",
    "    d += 1.e-20 # prevent undefined cos similarity at 0 from breaking the code\n",
    "    return n / d\n",
    "\n",
    "def d_tanh(x):\n",
    "    \"\"\"\n",
    "    Derivative for tanh used for gradient calculation\n",
    "    \"\"\"\n",
    "    y = np.tanh(x)\n",
    "    return 1. - y * y\n",
    "\n",
    "def d_sigmoid(x):\n",
    "    \"\"\"\n",
    "    Derivative for sigmoid used for gradient calculation\n",
    "    \"\"\"\n",
    "    y = sigmoid(x)\n",
    "    return y * (1. - y)\n",
    "\n",
    "def d_cos_sim(u, v):\n",
    "    \"\"\"\n",
    "    Differentiate Cos Similarity with regard to u, switch order to calculate for v\n",
    "    \"\"\"\n",
    "    n = np.dot(u, v)\n",
    "    u_inner_prod = np.dot(u*u)\n",
    "    d = np.sqrt(u_inner_prod * np.dot(v*v)) + 1.e-20 # deal with undefined cos sim for zero vec\n",
    "\n",
    "    return v / d - (n / d) * (u / u_inner_prod)    \n",
    "    "
   ]
  },
  {
   "cell_type": "code",
   "execution_count": 76,
   "metadata": {
    "code_folding": [
     0
    ]
   },
   "outputs": [],
   "source": [
    "def unwrap(x):\n",
    "    \"\"\"\n",
    "    Strip numpy values out of collections of Autograd values.\n",
    "    \"\"\"\n",
    "    if isinstance(x,dict):\n",
    "        r = {}\n",
    "        for k, v in x.iteritems():\n",
    "            if hasattr(v,'value'):\n",
    "                r[k] = v.value\n",
    "            else:\n",
    "                r[k] = v\n",
    "        return r\n",
    "    elif all(isinstance(elt, dict) for elt in x):\n",
    "        l = []\n",
    "        for d in x:\n",
    "            r = {}\n",
    "            for k, v in d.iteritems():\n",
    "                if hasattr(v,'value'):\n",
    "                    r[k] = v.value\n",
    "                else:\n",
    "                    r[k] = v\n",
    "            l.append(r)\n",
    "        return l\n",
    "    elif type(x) == np.numpy_extra.ArrayNode:\n",
    "        return x.value\n",
    "    else:\n",
    "        return x\n",
    "    \n",
    "\n",
    "a = np.random.uniform(size=(2,10))\n",
    "\n",
    "def display(arr):\n",
    "    plt.imshow(arr, cmap='Greys')\n",
    "#     plt.yticks([])\n",
    "#     plt.xticks([])\n",
    "    plt.show()"
   ]
  },
  {
   "cell_type": "code",
   "execution_count": 116,
   "metadata": {
    "code_folding": []
   },
   "outputs": [
    {
     "name": "stdout",
     "output_type": "stream",
     "text": [
      "Test Interface\n",
      "{'interface': array([[  1.17641278e+00,   5.12346378e-01,   2.45215104e-01,\n",
      "          9.99077909e-01,   7.17149422e-01,   4.05321135e-01,\n",
      "         -2.91003182e-01,   2.94664181e-01,   4.66777129e-01,\n",
      "         -1.26342356e+00,   2.57482200e-01,   7.49835709e-01,\n",
      "         -7.46771589e-01,  -7.36769963e-01,  -1.84431335e-01,\n",
      "         -9.92014188e-01,   5.95341947e-03,   1.25366643e+00,\n",
      "          1.74376278e+00,  -8.63142659e-01,   7.98825314e-01,\n",
      "          6.01827529e-03,  -1.20631632e+00,  -5.40779972e-01,\n",
      "          1.70128135e-03,   2.46266079e-01,  -5.39090261e-01,\n",
      "         -7.89593845e-01,  -8.80599916e-02,  -1.18202855e-01,\n",
      "          1.09482368e+00,  -2.46078013e-01,   1.44745610e+00]])}\n",
      "13.3251934089\n",
      "{'interface': array([[  1.17641278e+00,   5.12346378e-01,   2.45215104e-01,\n",
      "          9.99077909e-01,   7.17149422e-01,   4.05321135e-01,\n",
      "         -2.91003182e-01,   2.94664181e-01,   4.66777129e-01,\n",
      "         -1.26342356e+00,   2.57482200e-01,   7.49835709e-01,\n",
      "         -7.46771589e-01,  -7.36769963e-01,  -1.84431335e-01,\n",
      "         -9.92014188e-01,   5.95341947e-03,   1.25366643e+00,\n",
      "          1.74376278e+00,  -8.63142659e-01,   7.98825314e-01,\n",
      "          6.01827529e-03,  -1.20631632e+00,  -5.40779972e-01,\n",
      "          1.70128135e-03,   2.46266079e-01,  -5.39090261e-01,\n",
      "         -7.89593845e-01,  -8.80599916e-02,  -1.18202855e-01,\n",
      "          1.09482368e+00,  -2.46078013e-01,   1.44745610e+00]])}\n",
      "{'interface': array([[  1.00000000e+00,   1.00000000e+00,   1.00000000e+00,\n",
      "          1.00000000e+00,   1.00000000e+00,   1.00000000e+00,\n",
      "          1.00000000e+00,   1.00000000e+00,   6.14620663e-01,\n",
      "          2.20385108e-01,   1.00000000e+00,   1.00000000e+00,\n",
      "          1.00000000e+00,   1.00000000e+00,   4.54022419e-01,\n",
      "          1.97336369e-01,   2.49997785e-01,   1.72752751e-01,\n",
      "          1.26683580e-01,   1.00000000e+00,   1.00000000e+00,\n",
      "          1.00000000e+00,   1.00000000e+00,   2.32577626e-01,\n",
      "          2.49999819e-01,   2.46247550e-01,   2.32681239e-01,\n",
      "          0.00000000e+00,   0.00000000e+00,   0.00000000e+00,\n",
      "         -7.80304151e-17,  -2.04135112e-17,   9.84439263e-17]])}\n",
      "Test mem access\n",
      "{'mem': array([[ 0.79617187, -1.87071068,  0.33789797,  0.55173458],\n",
      "       [ 0.30947803,  0.47386181,  1.26987638,  0.6599303 ],\n",
      "       [-0.64520395,  0.23186455, -0.28909571, -0.63475448]]), 'ks': array([[ 1.54936485, -1.60263212, -0.68304947, -1.26621558],\n",
      "       [ 0.40741842,  0.09893572,  0.19030947, -0.00375904]]), 'betas': array([[ 0.66626226],\n",
      "       [-0.67285844]])}\n",
      "2.0\n",
      "{'mem': array([[ 0.79617187, -1.87071068,  0.33789797,  0.55173458],\n",
      "       [ 0.30947803,  0.47386181,  1.26987638,  0.6599303 ],\n",
      "       [-0.64520395,  0.23186455, -0.28909571, -0.63475448]]), 'ks': array([[ 1.54936485, -1.60263212, -0.68304947, -1.26621558],\n",
      "       [ 0.40741842,  0.09893572,  0.19030947, -0.00375904]]), 'betas': array([[ 0.66626226],\n",
      "       [-0.67285844]])}\n",
      "{'mem': array([[ 0.,  0.,  0.,  0.],\n",
      "       [ 0.,  0.,  0.,  0.],\n",
      "       [ 0.,  0.,  0.,  0.]]), 'ks': array([[ 0.,  0.,  0.,  0.],\n",
      "       [ 0.,  0.,  0.,  0.]]), 'betas': array([[ 0.],\n",
      "       [ 0.]])}\n",
      "Assert Cosine Sim working:  True\n",
      "Test usage vec\n",
      "{'f_t': array([[ 0.90426331],\n",
      "       [-1.76484509]]), 'u_prev': array([[-0.43291525, -1.76605089,  0.55656259]]), 'rw_prev': array([[-0.44526979,  1.69564015, -1.21771584],\n",
      "       [-0.20161285,  1.62470124,  1.11076461]]), 'ww_prev': array([[-1.14754097, -1.40634541, -0.19175105]])}\n",
      "12.7215592632\n",
      "{'f_t': array([[ 0.90426331],\n",
      "       [-1.76484509]]), 'u_prev': array([[-0.43291525, -1.76605089,  0.55656259]]), 'rw_prev': array([[-0.44526979,  1.69564015, -1.21771584],\n",
      "       [-0.20161285,  1.62470124,  1.11076461]]), 'ww_prev': array([[-1.14754097, -1.40634541, -0.19175105]])}\n",
      "{'f_t': array([[ 38.19439529],\n",
      "       [ -6.58869107]]), 'u_prev': array([[ 1.94043157, -4.96302885,  7.41275099]]), 'rw_prev': array([[  1.21002061,  19.77985086,  -1.26225402],\n",
      "       [ -5.14210235,   5.32350254,   1.74852885]]), 'ww_prev': array([[ 1.29472453, -5.70491264,  2.7582028 ]])}\n",
      "Test alloc weight\n",
      "{'u': array([[-0.31498479, -0.50463619, -0.4076016 ]])}\n",
      "1.06478938497\n",
      "{'u': array([[-0.31498479, -0.50463619, -0.4076016 ]])}\n",
      "{'u': array([[-0.20569052, -0.1283883 , -0.15895273]])}\n",
      "Test write weighting\n",
      "{'ws_t': array([[-0.46888242]]), 'wk_t': array([[ 0.03716398, -0.82561599, -0.87576362, -0.49059563]]), 'M_prev': array([[ 1.81523215,  1.3061083 , -1.43961438,  0.15357834],\n",
      "       [-1.0477377 ,  0.09458682, -1.55318276,  1.64801443],\n",
      "       [-0.52511792, -0.73749346,  1.7553662 , -0.14678199]]), 'u': array([[-0.67559122,  0.24491041,  1.18837708]]), 'ga_t': array([[-1.64114094]]), 'gw_t': array([[ 0.59219753]])}\n",
      "0.401098719337\n",
      "{'ws_t': array([[-0.46888242]]), 'wk_t': array([[ 0.03716398, -0.82561599, -0.87576362, -0.49059563]]), 'M_prev': array([[ 1.81523215,  1.3061083 , -1.43961438,  0.15357834],\n",
      "       [-1.0477377 ,  0.09458682, -1.55318276,  1.64801443],\n",
      "       [-0.52511792, -0.73749346,  1.7553662 , -0.14678199]]), 'u': array([[-0.67559122,  0.24491041,  1.18837708]]), 'ga_t': array([[-1.64114094]]), 'gw_t': array([[ 0.59219753]])}\n",
      "{'ws_t': array([[ 0.]]), 'wk_t': array([[ 0.,  0.,  0.,  0.]]), 'M_prev': array([[ 0.,  0.,  0.,  0.],\n",
      "       [ 0.,  0.,  0.,  0.],\n",
      "       [ 0.,  0.,  0.,  0.]]), 'u': array([[ 0.2828616 , -0.78028048, -0.16080655]]), 'ga_t': array([[ 0.11644266]]), 'gw_t': array([[ 0.67730562]])}\n",
      "Test linkage\n",
      "{'ww': array([[-0.61742334, -0.66245103,  0.79273086]]), 'L_prev': array([[-0.80382106, -0.36598819, -0.21622409],\n",
      "       [-0.16262581,  1.04215803, -0.63091035],\n",
      "       [-0.54350623,  0.84910089,  1.11204893]]), 'p_prev': array([[ 1.88102285, -1.17271137,  0.19821824]])}\n",
      "-0.995176607669\n",
      "{'ww': array([[-0.61742334, -0.66245103,  0.79273086]]), 'L_prev': array([[-0.80382106, -0.36598819, -0.21622409],\n",
      "       [-0.16262581,  1.04215803, -0.63091035],\n",
      "       [-0.54350623,  0.84910089,  1.11204893]]), 'p_prev': array([[ 1.88102285, -1.17271137,  0.19821824]])}\n",
      "{'ww': array([[ 0.40732146,  2.48313483,  1.34332154]]), 'L_prev': array([[ 0.        ,  2.27987436,  0.82469248],\n",
      "       [ 2.27987436,  0.        ,  0.86972017],\n",
      "       [ 0.82469248,  0.86972017,  0.        ]]), 'p_prev': array([[ 1.61742334,  1.66245103,  0.20726914]])}\n",
      "Test read weighting\n",
      "{'rs_t': array([[-1.69455667],\n",
      "       [ 0.09267841]]), 'rw_prev': array([[ 1.08377324,  0.5061609 ,  1.96031697],\n",
      "       [ 1.24468887,  0.09470793, -0.90067847]]), 'rk_t': array([[ 0.90405374, -0.55338659,  0.24536804,  0.73464057],\n",
      "       [-0.96366495, -0.24640903, -1.73895702, -0.25847149]]), 'M': array([[ 1.18607701,  0.58783022, -1.66799914, -1.01225484],\n",
      "       [ 0.5453217 ,  0.46936767, -1.24817304, -1.47760356],\n",
      "       [ 0.38090456,  1.27052782, -1.30771484,  0.0752439 ]]), 'pi_t': array([[-0.15743632, -0.81801704, -0.53197741],\n",
      "       [ 0.03976084,  0.7791622 , -0.61908646]]), 'L': array([[ 0.58548482,  0.58188472,  0.79357767],\n",
      "       [-1.17061404,  1.63631021,  1.49773021],\n",
      "       [ 1.21638306,  0.25601849, -0.16441446]])}\n",
      "-4.95586885311\n",
      "{'rs_t': array([[-1.69455667],\n",
      "       [ 0.09267841]]), 'rw_prev': array([[ 1.08377324,  0.5061609 ,  1.96031697],\n",
      "       [ 1.24468887,  0.09470793, -0.90067847]]), 'rk_t': array([[ 0.90405374, -0.55338659,  0.24536804,  0.73464057],\n",
      "       [-0.96366495, -0.24640903, -1.73895702, -0.25847149]]), 'M': array([[ 1.18607701,  0.58783022, -1.66799914, -1.01225484],\n",
      "       [ 0.5453217 ,  0.46936767, -1.24817304, -1.47760356],\n",
      "       [ 0.38090456,  1.27052782, -1.30771484,  0.0752439 ]]), 'pi_t': array([[-0.15743632, -0.81801704, -0.53197741],\n",
      "       [ 0.03976084,  0.7791622 , -0.61908646]]), 'L': array([[ 0.58548482,  0.58188472,  0.79357767],\n",
      "       [-1.17061404,  1.63631021,  1.49773021],\n",
      "       [ 1.21638306,  0.25601849, -0.16441446]])}\n",
      "{'rs_t': array([[  0.00000000e+00],\n",
      "       [ -5.81494483e-18]]), 'rw_prev': array([[-1.14256189, -1.43402952, -1.03066985],\n",
      "       [-1.18889667, -1.11715387, -0.72519002]]), 'rk_t': array([[  0.00000000e+00,   0.00000000e+00,   0.00000000e+00,\n",
      "          0.00000000e+00],\n",
      "       [  3.25260370e-19,   1.17512746e-18,  -7.34823312e-19,\n",
      "          2.61081837e-18]]), 'pi_t': array([[ 6.10587137,  1.        ,  5.68310107],\n",
      "       [-0.89560485,  1.        ,  1.44864538]]), 'M': array([[ -1.46412991e-18,  -4.77394623e-19,  -1.26332516e-18,\n",
      "          8.89375352e-20],\n",
      "       [  2.96816755e-18,   1.12264464e-18,   2.89552985e-18,\n",
      "         -9.93895156e-19],\n",
      "       [ -1.54661836e-18,  -1.11895019e-18,  -1.56053554e-18,\n",
      "         -3.98227037e-19]]), 'L': array([[-1.46824829, -1.42303534, -1.69154972],\n",
      "       [-0.44903395, -0.403821  , -0.67233538],\n",
      "       [-0.60638189, -0.56116894, -0.82968332]])}\n",
      "Test step forward\n",
      "{'interface': array([[-1.04874972, -1.28665919,  0.55316853,  0.79412529, -1.10180687,\n",
      "        -1.12424555, -0.88155827, -0.48178414, -0.6163883 ,  1.23044498,\n",
      "        -0.24989151,  1.4695031 , -0.32220893,  0.53008159,  1.91460171,\n",
      "         0.77203036, -0.20052561,  0.35010735, -0.04915548, -0.54954138,\n",
      "        -0.44493409,  0.32379592, -0.42375971,  0.32404326,  0.86558638,\n",
      "        -1.22466309, -1.28497163,  0.70785172,  0.67939503, -1.32535409,\n",
      "        -0.02553471,  0.49285402,  1.02281621]]), 'M_prev': array([[-1.11251247, -0.53464671, -1.72793582, -0.75448094],\n",
      "       [ 0.14999724, -0.51209805,  0.72138915, -1.55968434],\n",
      "       [ 0.75528325, -0.66245696,  0.73794616, -0.19442337]])}\n",
      "-6.2219620341\n",
      "{'interface': array([[-1.04874972, -1.28665919,  0.55316853,  0.79412529, -1.10180687,\n",
      "        -1.12424555, -0.88155827, -0.48178414, -0.6163883 ,  1.23044498,\n",
      "        -0.24989151,  1.4695031 , -0.32220893,  0.53008159,  1.91460171,\n",
      "         0.77203036, -0.20052561,  0.35010735, -0.04915548, -0.54954138,\n",
      "        -0.44493409,  0.32379592, -0.42375971,  0.32404326,  0.86558638,\n",
      "        -1.22466309, -1.28497163,  0.70785172,  0.67939503, -1.32535409,\n",
      "        -0.02553471,  0.49285402,  1.02281621]]), 'M_prev': array([[-1.11251247, -0.53464671, -1.72793582, -0.75448094],\n",
      "       [ 0.14999724, -0.51209805,  0.72138915, -1.55968434],\n",
      "       [ 0.75528325, -0.66245696,  0.73794616, -0.19442337]])}\n",
      "{'interface': array([[  3.16467138e-01,  -6.76210119e-02,   3.82229974e-01,\n",
      "          4.21243771e-02,   4.73333489e-02,  -1.20911414e-01,\n",
      "          1.41016713e-01,  -8.41300815e-02,   1.46829474e-03,\n",
      "         -9.74040619e-02,  -1.25189282e-01,  -6.00341893e-02,\n",
      "         -1.88804457e-01,  -7.35319514e-03,   4.50849070e-02,\n",
      "          6.23184503e-02,   4.39284302e-02,   8.49943022e-02,\n",
      "          5.43967796e-02,   3.15892361e-01,   3.29457500e-01,\n",
      "          2.73467532e-01,   2.75283049e-01,   8.67741320e-05,\n",
      "          5.18736417e-06,   2.49264055e-02,   1.85517275e-01,\n",
      "          3.27856430e-01,  -3.70781058e-01,   4.29246282e-02,\n",
      "          1.83887021e-01,  -7.08495790e-01,   5.24608768e-01]]), 'M_prev': array([[ 1.35991865,  1.625894  ,  1.1223531 ,  1.20564002],\n",
      "       [ 1.06820641,  1.0187034 ,  1.09119778,  1.16216735],\n",
      "       [ 0.83706093,  0.79404207,  1.19978703,  1.29977918]])}\n"
     ]
    }
   ],
   "source": [
    "class DNCAccessor(object):\n",
    "    \"\"\"\n",
    "    DNC Accessor, using autodiff, with batchsize=1\n",
    "    \"\"\"\n",
    "\n",
    "    def __init__(self, R, N, W):\n",
    "\n",
    "        self.R = R  # number of read heads\n",
    "        self.N = N  # number of memory locations\n",
    "        self.W = W  # number of columns in a memory location\n",
    "         \n",
    "        self.states = [self._init_state()]\n",
    "        \n",
    "    def _init_state(self):\n",
    "        state = {}\n",
    "        # linkage matrix\n",
    "        state['L'] = np.zeros((self.N, self.N))\n",
    "        # read_weighting\n",
    "        state['rw'] = np.ones((self.R, self.N))*1e-6\n",
    "        # precedence_weighting\n",
    "        state['p'] = np.zeros((1, self.N))\n",
    "        # write_weighting\n",
    "        state['ww'] = np.ones((1, self.N))*1e-6\n",
    "        # usage_vector\n",
    "        state['u'] = np.ones((1, self.N))*1e-6\n",
    "        return state\n",
    "    \n",
    "    def process_interface(self, interface):\n",
    "        \"\"\"\n",
    "        Parse and process the input interface vector\n",
    "        interface      - 1x(W*R+3W+5R+3) interface vector\n",
    "\n",
    "        Return:\n",
    "        rk_t         - RxW read keys\n",
    "        rs_t         - Rx1 read strength\n",
    "        wk_t         - 1xW write key\n",
    "        ws_t         - 1x1 write strength\n",
    "        e_t          - 1xW erase vector\n",
    "        v_t          - 1xW write vector\n",
    "        f_t          - Rx1 free gates\n",
    "        ga_t         - 1x1 allocation gate\n",
    "        gw_t         - 1x1 write gate\n",
    "        pi_t         - Rx3 read modes\n",
    "        \"\"\"\n",
    "        section_index = np.cumsum([self.R*self.W, self.R, self.W, 1, self.W, self.W, self.R, 1, 1, self.R*3])\n",
    "        rk_t, rs_t, wk_t, ws_t, e_t, v_t, f_t, ga_t, gw_t, pi_t = np.split(interface, section_index[:-1], axis=1)\n",
    "        rk_t = rk_t.reshape(self.R, self.W)\n",
    "        rs_t = oneplus(rs_t.reshape(self.R, 1))\n",
    "        wk_t = wk_t.reshape(1, self.W)\n",
    "        ws_t = oneplus(ws_t)\n",
    "        e_t = sigmoid(e_t.reshape(1, self.W))\n",
    "        v_t = v_t.reshape(1, self.W)\n",
    "        f_t = sigmoid(f_t.reshape(self.R, 1))\n",
    "        ga_t = sigmoid(ga_t)\n",
    "        gw_t = sigmoid(gw_t)\n",
    "        pi_t = softmax(pi_t.reshape(self.R, 3))\n",
    "        return rk_t, rs_t, wk_t, ws_t, e_t, v_t, f_t, ga_t, gw_t, pi_t  \n",
    "        \n",
    "    def content_weighting(self, mem, ks, betas):\n",
    "        \"\"\"\n",
    "        The content based addressing method\n",
    "        mem   - NxW memory     (N locations,  W entries)\n",
    "        ks    - RxW lookup key (R heads, W entries)\n",
    "        betas - 1xR lookup strength\n",
    "\n",
    "        Return:\n",
    "        RxN addressing matrix\n",
    "        \"\"\"\n",
    "#         if len(ks.shape) < 2: ks = ks[np.newaxis, :] # deal with write head\n",
    "\n",
    "        # Cosine Similarity\n",
    "        n = np.dot(ks, mem.T)\n",
    "        # einsum is fast: https://stackoverflow.com/questions/15616742/vectorized-way-of-calculating-row-wise-dot-product-two-matrices-with-scipy\n",
    "        ks_inner_prod = np.einsum('ij,ij->i', ks, ks)\n",
    "        mem_inner_prod = np.einsum('ij,ij->i', mem, mem)\n",
    "        d = np.sqrt(np.einsum('i,j->ij', ks_inner_prod, mem_inner_prod)) + 1.e-20 # prevent undefined cos similarity at 0 from breaking the code\n",
    "        sim = betas * (n / d)\n",
    "        \n",
    "        return softmax(sim)\n",
    "    \n",
    "    def usage_vec(self, f_t, rw_prev, ww_prev, u_prev):\n",
    "        \"\"\"\n",
    "        Update usage vector\n",
    "        f_t           - Rx1 free gates\n",
    "        rw_prev       - RxN previous read weightings (R read heads, N locations)\n",
    "        ww_prev       - 1xN previous write weighting (R read heads, 1 location)\n",
    "        u_prev        - 1xN previous usage vector\n",
    "\n",
    "        Return:\n",
    "        1xN new usage vector\n",
    "        \"\"\"\n",
    "        # psi is the 1xN retention vector\n",
    "        psi = np.ones_like(rw_prev) - f_t * rw_prev\n",
    "        psi = np.prod(psi, axis=0)\n",
    "        # u is the usage vector\n",
    "        u = (u_prev + ww_prev - u_prev * ww_prev) * psi\n",
    "        return u\n",
    "\n",
    "    def allocation_weighting(self, u):\n",
    "        \"\"\"\n",
    "        Dynamic memory allocation weighting mechanism\n",
    "        u_prev        - 1xN current usage vector\n",
    "\n",
    "        Return:\n",
    "        1xN alloc_weighting\n",
    "        \"\"\"\n",
    "        # phi is the indices list that would sort u in ascending order\n",
    "        phi = np.argsort(u, axis=1).squeeze()\n",
    "        alloc_weighting = (np.ones_like(u) - u[:,phi]) * shift_cumprod(u[:,phi])\n",
    "        return alloc_weighting\n",
    "\n",
    "    def write_weighting(self, M_prev, wk_t, ws_t, u, gw_t, ga_t):\n",
    "        \"\"\"\n",
    "        Write Weighting Mechanism\n",
    "        \n",
    "        M_prev        - NxW previous memory state\n",
    "        wk_t          - 1xW write key\n",
    "        ws_t          - 1x1 write strength\n",
    "        f_t           - Rx1 free gates\n",
    "        u             - 1xN current usage vector\n",
    "        gw_t          - 1x1 write gate\n",
    "        ga_t          - 1x1 allocation gate\n",
    "\n",
    "        Return:\n",
    "        1xN write_weighting \n",
    "        \"\"\"\n",
    "        c = self.content_weighting(M_prev, wk_t, ws_t)\n",
    "        a = self.allocation_weighting(u)\n",
    "        return gw_t * (ga_t * a + (1. - ga_t) * c)\n",
    "        \n",
    "    def temporal_memory_linkage(self, p_prev, ww, L_prev):\n",
    "        \"\"\"\n",
    "        Temporal Linkage (TODO: Implement sparse link matrix)\n",
    "        \n",
    "        p_prev     - 1xN precedence weighting from last time step\n",
    "        w_w        - 1xN write weighting\n",
    "        L_prev     - NxN link matrix\n",
    "        \n",
    "        Return:\n",
    "        1xN current precedence weighting\n",
    "        NxN link matrix\n",
    "        \"\"\"\n",
    "        # precedence weighting of the current timestep\n",
    "        p_t = (1. - np.sum(ww)) * p_prev + ww\n",
    "        L_t = (np.ones_like(L_prev) - (ww + ww.T)) * L_prev + ww * p_prev.T\n",
    "        # Sanity check diag(L_t) should always be zero\n",
    "        L_t = L_t - np.diag(np.diag(L_t))\n",
    "        \n",
    "        return p_t, L_t\n",
    "    \n",
    "    def read_weighting(self, M, rk_t, rs_t, rw_prev, L, pi_t):\n",
    "        \"\"\"\n",
    "        Read Weighting\n",
    "        \n",
    "        M          - NxW memory matrix from current time step\n",
    "        rk_t       - RxW read keys\n",
    "        rs_t       - 1xR read strengths\n",
    "        rw_prev    - RxN read weighting from previous time step\n",
    "        L          - NxN link matrix from current time step\n",
    "        pi_t       - Rx3 read modes\n",
    "        \n",
    "        Return:\n",
    "        RxN Read Weighting\n",
    "        \"\"\"\n",
    "        # content weighting\n",
    "        c = self.content_weighting(M, rk_t, rs_t)\n",
    "        # forward weighting\n",
    "        f_t = np.dot(rw_prev, L)\n",
    "        # backward weighting\n",
    "        b_t = np.dot(rw_prev, L.T)\n",
    "        # interpolates using read modes\n",
    "        read_weighting = pi_t[:,0,np.newaxis] * b_t + pi_t[:,1,np.newaxis] * c + pi_t[:,2,np.newaxis] * f_t\n",
    "        return read_weighting\n",
    "    \n",
    "    def read(self, M, rw):\n",
    "        \"\"\"\n",
    "        Read from memory\n",
    "        \n",
    "        M          - NxW memory matrix from current time step\n",
    "        rw         - RxN read weighting\n",
    "        \n",
    "        Return:\n",
    "        RxW Stacked Read Vectors\n",
    "        \"\"\"\n",
    "        return np.dot(rw, M)\n",
    "    \n",
    "    def write(self, M, e_t, v_t, ww):\n",
    "        \"\"\"\n",
    "        Write to memory\n",
    "        \n",
    "        M          - NxW memory matrix from current time step\n",
    "        e_t        - 1xW erase vector\n",
    "        v_t        - 1xW write vector\n",
    "        ww         - 1xN write weighting\n",
    "        \n",
    "        Return:\n",
    "        NxW updated memory\n",
    "        \"\"\"\n",
    "        return (np.ones_like(M) - np.dot(ww.T, e_t)) * M + np.dot(ww.T, v_t)\n",
    "    \n",
    "    def step_forward(self, M_prev, interface):\n",
    "        \"\"\"\n",
    "        Forward inference given a inference vector and previous memory state\n",
    "        M_prev         - NxW previous memory state\n",
    "        interface      - 1x(W*R+3W+5R+3) interface vector\n",
    "        \n",
    "        Return:\n",
    "        RxW Stacked Read Vectors\n",
    "        \"\"\"\n",
    "        rk_t, rs_t, wk_t, ws_t, e_t, v_t, f_t, ga_t, gw_t, pi_t = self.process_interface(interface)\n",
    "        _s = self.states[-1] # previous state\n",
    "        L_prev, rw_prev, p_prev, ww_prev, u_prev = _s['L'], _s['rw'], _s['p'], _s['ww'], _s['u']\n",
    "        \n",
    "        u = self.usage_vec(f_t, rw_prev, ww_prev, u_prev)\n",
    "#         print \"write: \"\n",
    "        ww = self.write_weighting(M_prev, wk_t, ws_t, u, gw_t, ga_t)\n",
    "        M = self.write(M_prev, e_t, v_t, ww)\n",
    "        p, L = self.temporal_memory_linkage(p_prev, ww, L_prev)\n",
    "#         print \"read: \"\n",
    "        rw = self.read_weighting(M, rk_t, rs_t, rw_prev, L, pi_t)\n",
    "        \n",
    "        self.states.append(dict(zip(['u', 'ww', 'p', 'L', 'rw'],[u, ww, p, L, rw])))\n",
    "        \n",
    "        read_vec = self.read(M, rw)\n",
    "        return M, read_vec\n",
    "\n",
    "# Testing\n",
    "# accessor = DNCAccessor(2,3,4) #R, N, W\n",
    "# interface = nprn(1,2*4+3*4+5*2+3)\n",
    "# memory = nprn(3,4)\n",
    "# mem,vec = accessor.step_forward(memory, interface)\n",
    "# print mem\n",
    "# print vec\n",
    "# print len(accessor.states)\n",
    "# print accessor.states\n",
    "\n",
    "def access_testing():\n",
    "    def test_func(param, func):\n",
    "\n",
    "        def foo(param):\n",
    "            out = func(**param)\n",
    "            res = 0\n",
    "            for item in out:\n",
    "                res = res + np.sum(item)\n",
    "            return res\n",
    "\n",
    "        print param\n",
    "        print foo(param)\n",
    "        print param\n",
    "        grad_foo = grad(foo)\n",
    "        print grad_foo(param)\n",
    "\n",
    "    print \"Test Interface\" \n",
    "    accessor = DNCAccessor(2,3,4) #R, N, W\n",
    "    param = {'interface':nprn(1,2*4+3*4+5*2+3)}\n",
    "    test_func(param, accessor.process_interface)\n",
    "\n",
    "    print \"Test mem access\" \n",
    "    accessor = DNCAccessor(2,3,4) #R, N, W\n",
    "    param = {'mem':nprn(3,4), 'ks':nprn(2,4), 'betas':nprn(2,1)}\n",
    "    test_func(param, accessor.content_weighting)\n",
    "    \n",
    "    param = {'mem':nprn(3,4), 'ks':nprn(2,4), 'betas':nprn(2,1)}\n",
    "    normed_mem = param['mem'] / np.expand_dims(np.linalg.norm(param['mem'], axis=1), 1)\n",
    "    normed_key = param['ks'] / np.expand_dims(np.linalg.norm(param['ks'], axis=1), 1)\n",
    "    normed_sim = np.dot(normed_key, normed_mem.T) * param['betas']\n",
    "    normed_sim = softmax(normed_sim)\n",
    "    print \"Assert Cosine Sim working: \", np.allclose(normed_sim, accessor.content_weighting(**param))\n",
    "    \n",
    "    print \"Test usage vec\"\n",
    "    accessor = DNCAccessor(2,3,4) #R, N, W\n",
    "    param = {'f_t':nprn(2,1), 'rw_prev':nprn(2,3), 'ww_prev':nprn(1,3), 'u_prev':nprn(1,3)}\n",
    "    test_func(param, accessor.usage_vec)\n",
    "    \n",
    "\n",
    "    print \"Test alloc weight\"\n",
    "    accessor = DNCAccessor(2,3,4) #R, N, W\n",
    "    param = {'u':nprn(1,3)}\n",
    "    test_func(param, accessor.allocation_weighting)\n",
    "\n",
    "    print \"Test write weighting\"\n",
    "    accessor = DNCAccessor(2,3,4) #R, N, W\n",
    "    param = {'M_prev':nprn(3,4), 'wk_t':nprn(1,4), 'ws_t':nprn(1,1), 'u':nprn(1,3), 'gw_t':nprn(1,1), 'ga_t':nprn(1,1)}\n",
    "    test_func(param, accessor.write_weighting)\n",
    "\n",
    "    print \"Test linkage\"\n",
    "    accessor = DNCAccessor(2,3,4) #R, N, W\n",
    "    param = {'p_prev':nprn(1,3), 'ww':nprn(1,3), 'L_prev':nprn(3,3)}\n",
    "    test_func(param, accessor.temporal_memory_linkage)\n",
    "\n",
    "    print \"Test read weighting\"\n",
    "    accessor = DNCAccessor(2,3,4) #R, N, W\n",
    "    param = {'M':nprn(3,4), 'rk_t':nprn(2,4), 'rs_t':nprn(2,1), 'rw_prev':nprn(2,3), 'L':nprn(3,3), 'pi_t':nprn(2,3)}\n",
    "    test_func(param, accessor.read_weighting)\n",
    "\n",
    "    print \"Test step forward\"\n",
    "    accessor = DNCAccessor(2,3,4) #R, N, W\n",
    "    param = {'M_prev':nprn(3,4), 'interface':nprn(1,2*4+3*4+5*2+3)}\n",
    "    test_func(param, accessor.step_forward)\n",
    "    \n",
    "access_testing()"
   ]
  },
  {
   "cell_type": "code",
   "execution_count": 97,
   "metadata": {
    "code_folding": [
     0
    ]
   },
   "outputs": [
    {
     "name": "stdout",
     "output_type": "stream",
     "text": [
      "[[ 0.  1.  0.  0.  1.  0.  0.  1.  0.  1.]]\n",
      "[[ 0.00149587  0.00267741 -0.00191709  0.00183955 -0.00945387 -0.00220079\n",
      "   0.0062654  -0.00465918  0.00598846  0.00359862]]\n"
     ]
    }
   ],
   "source": [
    "class DNC(object):\n",
    "    \"\"\"\n",
    "    DNC with LSTM controller, using autodiff, with batchsize=1\n",
    "    \"\"\"\n",
    "\n",
    "    def __init__(self, input_size, output_size, hidden_size, R, N, W):\n",
    "\n",
    "        self.input_size = input_size\n",
    "        self.output_size = output_size\n",
    "        self.hidden_size = hidden_size\n",
    "        self.R = R\n",
    "        self.N = N  # the number of memory locations\n",
    "        self.W = W # the number of columns in a memory location\n",
    "        \n",
    "        self.accessor = DNCAccessor(R, N, W)\n",
    "        self.states = None\n",
    "     \n",
    "    def _init_params(self):\n",
    "        p = {} # maps parameter names to tensors\n",
    "        \n",
    "        # single layer LSTMController weights\n",
    "        p['W_i'] = nprn(self.input_size + self.R * self.W + self.hidden_size, self.hidden_size)*0.1\n",
    "        p['b_i'] = np.zeros((1, self.hidden_size))\n",
    "        p['W_f'] = nprn(self.input_size + self.R * self.W + self.hidden_size, self.hidden_size)*0.1\n",
    "        p['b_f'] = np.zeros((1, self.hidden_size))\n",
    "        p['W_s'] = nprn(self.input_size + self.R * self.W + self.hidden_size, self.hidden_size)*0.1\n",
    "        p['b_s'] = np.zeros((1, self.hidden_size))\n",
    "        p['W_o'] = nprn(self.input_size + self.R * self.W + self.hidden_size, self.hidden_size)*0.1\n",
    "        p['b_o'] = np.zeros((1, self.hidden_size))\n",
    "        \n",
    "        p['W_y'] = nprn(self.hidden_size, self.output_size)*0.1\n",
    "        p['W_xi'] = nprn(self.hidden_size, self.R*self.W + 3*self.W + 5*self.R + 3)*0.1\n",
    "        \n",
    "        # output weights\n",
    "        p['W_r'] = nprn(self.R*self.W, self.output_size)*0.1\n",
    "        return p\n",
    "\n",
    "    def _init_state(self):\n",
    "        state = {}\n",
    "        # not initializing to zero can prevent nan in loss\n",
    "        # memory matrix\n",
    "        state['M'] = np.ones((self.N, self.W))*1e-6\n",
    "        # lstm hidden state\n",
    "        state['h'] = np.zeros((1, self.hidden_size))\n",
    "        # lstm cell state\n",
    "        state['s'] = np.zeros((1, self.hidden_size))\n",
    "        # read vector\n",
    "        state['rv'] = np.ones((self.R, self.W))*1e-6\n",
    "        self.states = [state]\n",
    "    \n",
    "    def lstm_step_forward(self, params, x_t, rv_prev, h_prev, s_prev):\n",
    "        \"\"\"\n",
    "        LSTM step forward\n",
    "\n",
    "        x_t        - 1xX input\n",
    "        rv_prev    - RxW read vector from prev step\n",
    "        h_prev     - 1xH previous hidden state\n",
    "        s_prev     - 1xH previous cell state\n",
    "        params     - lstm parameter dictionary, included here for the purpose of backprop\n",
    "\n",
    "        Return:\n",
    "        h_t        - 1xH current hidden state\n",
    "        s_t        - 1xH current cell state\n",
    "        v_t        - 1xY output vector\n",
    "        interface  - 1x(W*R+3W+5R+3) interface vector\n",
    "        \"\"\"\n",
    "        X_t = np.concatenate((x_t, rv_prev.reshape(1,-1), h_prev), axis=1)\n",
    "        i_t = sigmoid(np.dot(X_t, params['W_i']) + params['b_i'])\n",
    "        f_t = sigmoid(np.dot(X_t, params['W_f']) + params['b_f'])\n",
    "        s_t = f_t * s_prev + i_t * np.tanh(np.dot(X_t, params['W_s']) + params['b_s'])\n",
    "        o_t = sigmoid(np.dot(X_t, params['W_o']) + params['b_o'])\n",
    "        h_t = o_t * np.tanh(s_t)\n",
    "\n",
    "        v_t = np.dot(h_t, params['W_y'])\n",
    "        interface = np.dot(h_t, params['W_xi'])\n",
    "        return h_t, s_t, v_t, interface\n",
    "    \n",
    "    def step_forward(self, params, x_t):\n",
    "        if self.states is None: self._init_state()\n",
    "        \n",
    "        _s = self.states[-1]\n",
    "        M_prev, h_prev, s_prev, rv_prev = _s['M'], _s['h'], _s['s'], _s['rv']\n",
    "        \n",
    "        h_t, s_t, v_t, interface = self.lstm_step_forward(params, x_t, rv_prev, h_prev, s_prev)\n",
    "#         print \"interface!!!: \", interface\n",
    "        M_t, rv_t = self.accessor.step_forward(M_prev, interface)\n",
    "        state = dict(zip(['M', 'h', 's', 'rv'], [M_t, h_t, s_t, rv_t]))\n",
    "        self.states.append(state)\n",
    "        \n",
    "        out = v_t + np.dot(rv_t.reshape(1,-1), params['W_r'])\n",
    "        return out\n",
    "        \n",
    "# Test\n",
    "dnc = DNC(input_size=10, output_size=10, hidden_size=1, R=1, N=10, W=1)\n",
    "dnc_params = dnc._init_params()\n",
    "inpt = np.array([[0., 1., 0., 0., 1., 0., 0., 1., 0., 1.]])\n",
    "print inpt\n",
    "print dnc.step_forward(dnc_params, inpt)"
   ]
  },
  {
   "cell_type": "code",
   "execution_count": 98,
   "metadata": {
    "code_folding": []
   },
   "outputs": [
    {
     "name": "stdout",
     "output_type": "stream",
     "text": [
      "[[ 0.  1.  0.  0.  1.  0.  0.  1.  0.  1.]]\n",
      "[[ 0.00464153  0.00641723  0.0394425  -0.00478885 -0.05513979 -0.06267131\n",
      "   0.03785765 -0.03950848  0.05012604  0.02907373]]\n"
     ]
    }
   ],
   "source": [
    "class DNCFF(object):\n",
    "    \"\"\"\n",
    "    DNC with feedforward controller, using autodiff, with batchsize=1\n",
    "    \"\"\"\n",
    "\n",
    "    def __init__(self, input_size, output_size, hidden_size, R, N, W):\n",
    "\n",
    "        self.input_size = input_size\n",
    "        self.output_size = output_size\n",
    "        self.hidden_size = hidden_size\n",
    "        self.R = R\n",
    "        self.N = N  # the number of memory locations\n",
    "        self.W = W # the number of columns in a memory location\n",
    "        \n",
    "        self.accessor = DNCAccessor(R, N, W)\n",
    "        self.states = None\n",
    "\n",
    "    def _init_params(self):\n",
    "        p = {} # maps parameter names to tensors\n",
    "        \n",
    "        # two layer feedforward weights\n",
    "        p['W_1'] = nprn(self.input_size + self.R * self.W, self.hidden_size)*0.1\n",
    "        p['b_1'] = np.zeros((1, self.hidden_size))\n",
    "        p['W_2'] = nprn(self.hidden_size, self.output_size)*0.1\n",
    "        p['b_2'] = np.zeros((1, self.output_size))\n",
    "        \n",
    "        p['W_y'] = nprn(self.output_size, self.output_size)*0.1\n",
    "        p['W_xi'] = nprn(self.output_size, self.R*self.W + 3*self.W + 5*self.R + 3)*0.1\n",
    "        \n",
    "        # output weights\n",
    "        p['W_r'] = nprn(self.R*self.W, self.output_size)*0.1\n",
    "        return p\n",
    "    \n",
    "    def _init_state(self):\n",
    "        state = {}\n",
    "        # not initializing to zero can prevent nan in loss\n",
    "        # memory matrix\n",
    "        state['M'] = np.ones((self.N, self.W))*1e-6 # be careful about initialization, otherwise cosine similarity will blow up during backprop\n",
    "        # read vector\n",
    "        state['rv'] = np.ones((self.R, self.W))*1e-6\n",
    "        self.states = [state]\n",
    "    \n",
    "    def nn_step_forward(self, params, x_t, rv_prev):\n",
    "        \"\"\"\n",
    "        nn step forward\n",
    "\n",
    "        x_t        - 1xX input\n",
    "        rv_prev    - RxW read vector from prev step\n",
    "        params     - lstm parameter dictionary, included here for the purpose of backprop\n",
    "\n",
    "        Return:\n",
    "        v_t        - 1xY output vector\n",
    "        interface  - 1x(W*R+3W+5R+3) interface vector\n",
    "        \"\"\"\n",
    "        X_t = np.concatenate((x_t, rv_prev.reshape(1,-1)), axis=1)\n",
    "        h_1 = np.dot(X_t, params['W_1']) + params['b_1']\n",
    "        h_1 = np.tanh(h_1)\n",
    "        o_1 = np.dot(h_1, params['W_2']) + params['b_2']\n",
    "        o_1 = np.tanh(o_1)\n",
    "\n",
    "        v_t = np.dot(o_1, params['W_y'])\n",
    "        interface = np.dot(o_1, params['W_xi'])\n",
    "        return v_t, interface\n",
    "    \n",
    "    def step_forward(self, params, x_t):\n",
    "        if self.states is None: self._init_state()\n",
    "        \n",
    "        _s = self.states[-1]\n",
    "        M_prev, rv_prev = _s['M'], _s['rv']\n",
    "        \n",
    "        v_t, interface = self.nn_step_forward(params, x_t, rv_prev)\n",
    "#         print \"interface!!!: \", interface\n",
    "        M_t, rv_t = self.accessor.step_forward(M_prev, interface)\n",
    "        state = dict(zip(['M', 'rv'], [M_t, rv_t]))\n",
    "        self.states.append(state)\n",
    "        \n",
    "        out = v_t + np.dot(rv_t.reshape(1,-1), params['W_r'])\n",
    "        return out\n",
    "    \n",
    "\n",
    "        \n",
    "# Test\n",
    "dnc = DNCFF(input_size=10, output_size=10, hidden_size=32, R=1, N=10, W=1)\n",
    "dnc_params = dnc._init_params()\n",
    "inpt = np.array([[0., 1., 0., 0., 1., 0., 0., 1., 0., 1.]])\n",
    "print inpt\n",
    "print dnc.step_forward(dnc_params, inpt)"
   ]
  },
  {
   "cell_type": "code",
   "execution_count": 99,
   "metadata": {
    "code_folding": []
   },
   "outputs": [],
   "source": [
    "# Training utils\n",
    "\n",
    "def copy_sequence(seq_len, vec_size):\n",
    "    \"\"\"\n",
    "    Implements the copy task - section 4.1 from the paper.\n",
    "    Returns inputs, outputs\n",
    "    where inputs is a length 2 * seq_len + 2 sequence of vec_size + 2 vecs\n",
    "    and outputs is a length 2 * seq_len + 2 sequence of vec_size vecs\n",
    "    Inputs starts with a start bit, then the seq to be copied, then and end bit, then 0s.\n",
    "    outputs is 0s until after inputs has the end bit, then it's the first sequence, but without\n",
    "    the extra channels for start and stop bits.\n",
    "    \"\"\"\n",
    "    input_size = vec_size + 2\n",
    "    length  = seq_len * 2 + 2\n",
    "    inputs  = np.zeros((length,input_size),dtype=np.uint8)\n",
    "    outputs = np.zeros((length,vec_size),dtype=np.uint8)\n",
    "\n",
    "    in_sequence = np.random.randint(2, size=(seq_len, input_size))\n",
    "    in_sequence[:,-2:] = 0\n",
    "    out_sequence = in_sequence[:,:-2]\n",
    "\n",
    "    # set start bit in inputs\n",
    "    start_vec = np.zeros(input_size)\n",
    "    start_vec[-2] = 1\n",
    "    inputs[0] = start_vec\n",
    "\n",
    "    # set the pattern bits in inputs\n",
    "    inputs[1:seq_len+1] = in_sequence\n",
    "\n",
    "    # set stop bit in inputs\n",
    "    stop_vec = np.zeros(input_size)\n",
    "    stop_vec[-1] = 1\n",
    "    inputs[seq_len+1] = stop_vec\n",
    "\n",
    "    # set all the bits in outputs\n",
    "    outputs[seq_len+2:] = out_sequence\n",
    "    return inputs, outputs, seq_len\n",
    "\n",
    "# i, o, seqlen = copy_sequence(3, 24)\n",
    "# print i.shape\n",
    "# print i[1]\n",
    "# print o.shape\n",
    "# # print o\n",
    "# print seqlen\n",
    "# print i[np.newaxis, 1]"
   ]
  },
  {
   "cell_type": "code",
   "execution_count": 100,
   "metadata": {},
   "outputs": [
    {
     "name": "stdout",
     "output_type": "stream",
     "text": [
      "Training DNC...\n",
      "('Iteration', 0, 'Train loss:', <autograd.numpy.numpy_boxes.ArrayBox object at 0x7fc55b4a7320>)\n",
      "Test loss:  Autograd ArrayBox with value 145.713152402\n",
      "Target\n"
     ]
    },
    {
     "data": {
      "image/png": "[encoded data removed]",
      "text/plain": [
       "<matplotlib.figure.Figure at 0x7fc55a692050>"
      ]
     },
     "metadata": {},
     "output_type": "display_data"
    },
    {
     "name": "stdout",
     "output_type": "stream",
     "text": [
      "Predicted\n"
     ]
    },
    {
     "data": {
      "image/png": "[encoded data removed]",
      "text/plain": [
       "<matplotlib.figure.Figure at 0x7fc55a67d490>"
      ]
     },
     "metadata": {},
     "output_type": "display_data"
    },
    {
     "name": "stdout",
     "output_type": "stream",
     "text": [
      "L\n",
      "Autograd ArrayBox with value [[ 0.          0.10763355  0.08256162  0.06585542  0.05567604  0.04981203\n",
      "   0.04654631  0.04476368  0.04379696  0.04326821]\n",
      " [ 0.10758842  0.          0.06991565  0.05753206  0.04959585  0.04488403\n",
      "   0.04221553  0.04074644  0.03994703  0.03950917]\n",
      " [ 0.08249936  0.06989128  0.          0.04943527  0.04344296  0.03977719\n",
      "   0.03766589  0.03649371  0.03585396  0.03550337]\n",
      " [ 0.06579299  0.05750004  0.04942472  0.          0.03825503  0.03537186\n",
      "   0.03368823  0.03274713  0.03223245  0.0319505 ]\n",
      " [ 0.05562053  0.04956552  0.04343153  0.03825366  0.          0.03215171\n",
      "   0.03075028  0.02996327  0.02953233  0.02929645]\n",
      " [ 0.04976448  0.04485862  0.03976916  0.03537377  0.03215515  0.\n",
      "   0.02884651  0.02815271  0.02777255  0.02756461]\n",
      " [ 0.0465055   0.04219517  0.03766214  0.03369449  0.03075826  0.02885112\n",
      "   0.          0.02707522  0.02672414  0.02653221]\n",
      " [ 0.04472818  0.04073049  0.03649394  0.03275742  0.0299754   0.02816149\n",
      "   0.02707939  0.          0.02613339  0.02595032]\n",
      " [ 0.04376545  0.03993464  0.03585757  0.03224615  0.02954791  0.02778477\n",
      "   0.02673172  0.0261368   0.          0.02563236]\n",
      " [ 0.04323928  0.03949918  0.03550936  0.03196666  0.02931452  0.02757933\n",
      "   0.02654227  0.0259562   0.02563483  0.        ]]\n",
      "('Iteration', 3, 'Train loss:', <autograd.numpy.numpy_boxes.ArrayBox object at 0x7fc568d59a70>)\n",
      "Test loss:  Autograd ArrayBox with value 145.74738727\n",
      "Target\n"
     ]
    },
    {
     "data": {
      "image/png": "[encoded data removed]",
      "text/plain": [
       "<matplotlib.figure.Figure at 0x7fc56af3f110>"
      ]
     },
     "metadata": {},
     "output_type": "display_data"
    },
    {
     "name": "stdout",
     "output_type": "stream",
     "text": [
      "Predicted\n"
     ]
    },
    {
     "ename": "ValueError",
     "evalue": "object too deep for desired array",
     "output_type": "error",
     "traceback": [
      "\u001b[0;31m---------------------------------------------------------------------------\u001b[0m",
      "\u001b[0;31mValueError\u001b[0m                                Traceback (most recent call last)",
      "\u001b[0;32m/usr/local/lib/python2.7/dist-packages/IPython/core/formatters.pyc\u001b[0m in \u001b[0;36m__call__\u001b[0;34m(self, obj)\u001b[0m\n\u001b[1;32m    332\u001b[0m                 \u001b[0;32mpass\u001b[0m\u001b[0;34m\u001b[0m\u001b[0m\n\u001b[1;32m    333\u001b[0m             \u001b[0;32melse\u001b[0m\u001b[0;34m:\u001b[0m\u001b[0;34m\u001b[0m\u001b[0m\n\u001b[0;32m--> 334\u001b[0;31m                 \u001b[0;32mreturn\u001b[0m \u001b[0mprinter\u001b[0m\u001b[0;34m(\u001b[0m\u001b[0mobj\u001b[0m\u001b[0;34m)\u001b[0m\u001b[0;34m\u001b[0m\u001b[0m\n\u001b[0m\u001b[1;32m    335\u001b[0m             \u001b[0;31m# Finally look for special method names\u001b[0m\u001b[0;34m\u001b[0m\u001b[0;34m\u001b[0m\u001b[0m\n\u001b[1;32m    336\u001b[0m             \u001b[0mmethod\u001b[0m \u001b[0;34m=\u001b[0m \u001b[0mget_real_method\u001b[0m\u001b[0;34m(\u001b[0m\u001b[0mobj\u001b[0m\u001b[0;34m,\u001b[0m \u001b[0mself\u001b[0m\u001b[0;34m.\u001b[0m\u001b[0mprint_method\u001b[0m\u001b[0;34m)\u001b[0m\u001b[0;34m\u001b[0m\u001b[0m\n",
      "\u001b[0;32m/usr/local/lib/python2.7/dist-packages/IPython/core/pylabtools.pyc\u001b[0m in \u001b[0;36m<lambda>\u001b[0;34m(fig)\u001b[0m\n\u001b[1;32m    239\u001b[0m \u001b[0;34m\u001b[0m\u001b[0m\n\u001b[1;32m    240\u001b[0m     \u001b[0;32mif\u001b[0m \u001b[0;34m'png'\u001b[0m \u001b[0;32min\u001b[0m \u001b[0mformats\u001b[0m\u001b[0;34m:\u001b[0m\u001b[0;34m\u001b[0m\u001b[0m\n\u001b[0;32m--> 241\u001b[0;31m         \u001b[0mpng_formatter\u001b[0m\u001b[0;34m.\u001b[0m\u001b[0mfor_type\u001b[0m\u001b[0;34m(\u001b[0m\u001b[0mFigure\u001b[0m\u001b[0;34m,\u001b[0m \u001b[0;32mlambda\u001b[0m \u001b[0mfig\u001b[0m\u001b[0;34m:\u001b[0m \u001b[0mprint_figure\u001b[0m\u001b[0;34m(\u001b[0m\u001b[0mfig\u001b[0m\u001b[0;34m,\u001b[0m \u001b[0;34m'png'\u001b[0m\u001b[0;34m,\u001b[0m \u001b[0;34m**\u001b[0m\u001b[0mkwargs\u001b[0m\u001b[0;34m)\u001b[0m\u001b[0;34m)\u001b[0m\u001b[0;34m\u001b[0m\u001b[0m\n\u001b[0m\u001b[1;32m    242\u001b[0m     \u001b[0;32mif\u001b[0m \u001b[0;34m'retina'\u001b[0m \u001b[0;32min\u001b[0m \u001b[0mformats\u001b[0m \u001b[0;32mor\u001b[0m \u001b[0;34m'png2x'\u001b[0m \u001b[0;32min\u001b[0m \u001b[0mformats\u001b[0m\u001b[0;34m:\u001b[0m\u001b[0;34m\u001b[0m\u001b[0m\n\u001b[1;32m    243\u001b[0m         \u001b[0mpng_formatter\u001b[0m\u001b[0;34m.\u001b[0m\u001b[0mfor_type\u001b[0m\u001b[0;34m(\u001b[0m\u001b[0mFigure\u001b[0m\u001b[0;34m,\u001b[0m \u001b[0;32mlambda\u001b[0m \u001b[0mfig\u001b[0m\u001b[0;34m:\u001b[0m \u001b[0mretina_figure\u001b[0m\u001b[0;34m(\u001b[0m\u001b[0mfig\u001b[0m\u001b[0;34m,\u001b[0m \u001b[0;34m**\u001b[0m\u001b[0mkwargs\u001b[0m\u001b[0;34m)\u001b[0m\u001b[0;34m)\u001b[0m\u001b[0;34m\u001b[0m\u001b[0m\n",
      "\u001b[0;32m/usr/local/lib/python2.7/dist-packages/IPython/core/pylabtools.pyc\u001b[0m in \u001b[0;36mprint_figure\u001b[0;34m(fig, fmt, bbox_inches, **kwargs)\u001b[0m\n\u001b[1;32m    123\u001b[0m \u001b[0;34m\u001b[0m\u001b[0m\n\u001b[1;32m    124\u001b[0m     \u001b[0mbytes_io\u001b[0m \u001b[0;34m=\u001b[0m \u001b[0mBytesIO\u001b[0m\u001b[0;34m(\u001b[0m\u001b[0;34m)\u001b[0m\u001b[0;34m\u001b[0m\u001b[0m\n\u001b[0;32m--> 125\u001b[0;31m     \u001b[0mfig\u001b[0m\u001b[0;34m.\u001b[0m\u001b[0mcanvas\u001b[0m\u001b[0;34m.\u001b[0m\u001b[0mprint_figure\u001b[0m\u001b[0;34m(\u001b[0m\u001b[0mbytes_io\u001b[0m\u001b[0;34m,\u001b[0m \u001b[0;34m**\u001b[0m\u001b[0mkw\u001b[0m\u001b[0;34m)\u001b[0m\u001b[0;34m\u001b[0m\u001b[0m\n\u001b[0m\u001b[1;32m    126\u001b[0m     \u001b[0mdata\u001b[0m \u001b[0;34m=\u001b[0m \u001b[0mbytes_io\u001b[0m\u001b[0;34m.\u001b[0m\u001b[0mgetvalue\u001b[0m\u001b[0;34m(\u001b[0m\u001b[0;34m)\u001b[0m\u001b[0;34m\u001b[0m\u001b[0m\n\u001b[1;32m    127\u001b[0m     \u001b[0;32mif\u001b[0m \u001b[0mfmt\u001b[0m \u001b[0;34m==\u001b[0m \u001b[0;34m'svg'\u001b[0m\u001b[0;34m:\u001b[0m\u001b[0;34m\u001b[0m\u001b[0m\n",
      "\u001b[0;32m/usr/local/lib/python2.7/dist-packages/matplotlib/backend_bases.pyc\u001b[0m in \u001b[0;36mprint_figure\u001b[0;34m(self, filename, dpi, facecolor, edgecolor, orientation, format, **kwargs)\u001b[0m\n\u001b[1;32m   2257\u001b[0m                 \u001b[0morientation\u001b[0m\u001b[0;34m=\u001b[0m\u001b[0morientation\u001b[0m\u001b[0;34m,\u001b[0m\u001b[0;34m\u001b[0m\u001b[0m\n\u001b[1;32m   2258\u001b[0m                 \u001b[0mbbox_inches_restore\u001b[0m\u001b[0;34m=\u001b[0m\u001b[0m_bbox_inches_restore\u001b[0m\u001b[0;34m,\u001b[0m\u001b[0;34m\u001b[0m\u001b[0m\n\u001b[0;32m-> 2259\u001b[0;31m                 **kwargs)\n\u001b[0m\u001b[1;32m   2260\u001b[0m         \u001b[0;32mfinally\u001b[0m\u001b[0;34m:\u001b[0m\u001b[0;34m\u001b[0m\u001b[0m\n\u001b[1;32m   2261\u001b[0m             \u001b[0;32mif\u001b[0m \u001b[0mbbox_inches\u001b[0m \u001b[0;32mand\u001b[0m \u001b[0mrestore_bbox\u001b[0m\u001b[0;34m:\u001b[0m\u001b[0;34m\u001b[0m\u001b[0m\n",
      "\u001b[0;32m/usr/local/lib/python2.7/dist-packages/matplotlib/backends/backend_agg.pyc\u001b[0m in \u001b[0;36mprint_png\u001b[0;34m(self, filename_or_obj, *args, **kwargs)\u001b[0m\n\u001b[1;32m    505\u001b[0m \u001b[0;34m\u001b[0m\u001b[0m\n\u001b[1;32m    506\u001b[0m     \u001b[0;32mdef\u001b[0m \u001b[0mprint_png\u001b[0m\u001b[0;34m(\u001b[0m\u001b[0mself\u001b[0m\u001b[0;34m,\u001b[0m \u001b[0mfilename_or_obj\u001b[0m\u001b[0;34m,\u001b[0m \u001b[0;34m*\u001b[0m\u001b[0margs\u001b[0m\u001b[0;34m,\u001b[0m \u001b[0;34m**\u001b[0m\u001b[0mkwargs\u001b[0m\u001b[0;34m)\u001b[0m\u001b[0;34m:\u001b[0m\u001b[0;34m\u001b[0m\u001b[0m\n\u001b[0;32m--> 507\u001b[0;31m         \u001b[0mFigureCanvasAgg\u001b[0m\u001b[0;34m.\u001b[0m\u001b[0mdraw\u001b[0m\u001b[0;34m(\u001b[0m\u001b[0mself\u001b[0m\u001b[0;34m)\u001b[0m\u001b[0;34m\u001b[0m\u001b[0m\n\u001b[0m\u001b[1;32m    508\u001b[0m         \u001b[0mrenderer\u001b[0m \u001b[0;34m=\u001b[0m \u001b[0mself\u001b[0m\u001b[0;34m.\u001b[0m\u001b[0mget_renderer\u001b[0m\u001b[0;34m(\u001b[0m\u001b[0;34m)\u001b[0m\u001b[0;34m\u001b[0m\u001b[0m\n\u001b[1;32m    509\u001b[0m         \u001b[0moriginal_dpi\u001b[0m \u001b[0;34m=\u001b[0m \u001b[0mrenderer\u001b[0m\u001b[0;34m.\u001b[0m\u001b[0mdpi\u001b[0m\u001b[0;34m\u001b[0m\u001b[0m\n",
      "\u001b[0;32m/usr/local/lib/python2.7/dist-packages/matplotlib/backends/backend_agg.pyc\u001b[0m in \u001b[0;36mdraw\u001b[0;34m(self)\u001b[0m\n\u001b[1;32m    428\u001b[0m             \u001b[0;32mif\u001b[0m \u001b[0mtoolbar\u001b[0m\u001b[0;34m:\u001b[0m\u001b[0;34m\u001b[0m\u001b[0m\n\u001b[1;32m    429\u001b[0m                 \u001b[0mtoolbar\u001b[0m\u001b[0;34m.\u001b[0m\u001b[0mset_cursor\u001b[0m\u001b[0;34m(\u001b[0m\u001b[0mcursors\u001b[0m\u001b[0;34m.\u001b[0m\u001b[0mWAIT\u001b[0m\u001b[0;34m)\u001b[0m\u001b[0;34m\u001b[0m\u001b[0m\n\u001b[0;32m--> 430\u001b[0;31m             \u001b[0mself\u001b[0m\u001b[0;34m.\u001b[0m\u001b[0mfigure\u001b[0m\u001b[0;34m.\u001b[0m\u001b[0mdraw\u001b[0m\u001b[0;34m(\u001b[0m\u001b[0mself\u001b[0m\u001b[0;34m.\u001b[0m\u001b[0mrenderer\u001b[0m\u001b[0;34m)\u001b[0m\u001b[0;34m\u001b[0m\u001b[0m\n\u001b[0m\u001b[1;32m    431\u001b[0m         \u001b[0;32mfinally\u001b[0m\u001b[0;34m:\u001b[0m\u001b[0;34m\u001b[0m\u001b[0m\n\u001b[1;32m    432\u001b[0m             \u001b[0;32mif\u001b[0m \u001b[0mtoolbar\u001b[0m\u001b[0;34m:\u001b[0m\u001b[0;34m\u001b[0m\u001b[0m\n",
      "\u001b[0;32m/usr/local/lib/python2.7/dist-packages/matplotlib/artist.pyc\u001b[0m in \u001b[0;36mdraw_wrapper\u001b[0;34m(artist, renderer, *args, **kwargs)\u001b[0m\n\u001b[1;32m     53\u001b[0m                 \u001b[0mrenderer\u001b[0m\u001b[0;34m.\u001b[0m\u001b[0mstart_filter\u001b[0m\u001b[0;34m(\u001b[0m\u001b[0;34m)\u001b[0m\u001b[0;34m\u001b[0m\u001b[0m\n\u001b[1;32m     54\u001b[0m \u001b[0;34m\u001b[0m\u001b[0m\n\u001b[0;32m---> 55\u001b[0;31m             \u001b[0;32mreturn\u001b[0m \u001b[0mdraw\u001b[0m\u001b[0;34m(\u001b[0m\u001b[0martist\u001b[0m\u001b[0;34m,\u001b[0m \u001b[0mrenderer\u001b[0m\u001b[0;34m,\u001b[0m \u001b[0;34m*\u001b[0m\u001b[0margs\u001b[0m\u001b[0;34m,\u001b[0m \u001b[0;34m**\u001b[0m\u001b[0mkwargs\u001b[0m\u001b[0;34m)\u001b[0m\u001b[0;34m\u001b[0m\u001b[0m\n\u001b[0m\u001b[1;32m     56\u001b[0m         \u001b[0;32mfinally\u001b[0m\u001b[0;34m:\u001b[0m\u001b[0;34m\u001b[0m\u001b[0m\n\u001b[1;32m     57\u001b[0m             \u001b[0;32mif\u001b[0m \u001b[0martist\u001b[0m\u001b[0;34m.\u001b[0m\u001b[0mget_agg_filter\u001b[0m\u001b[0;34m(\u001b[0m\u001b[0;34m)\u001b[0m \u001b[0;32mis\u001b[0m \u001b[0;32mnot\u001b[0m \u001b[0mNone\u001b[0m\u001b[0;34m:\u001b[0m\u001b[0;34m\u001b[0m\u001b[0m\n",
      "\u001b[0;32m/usr/local/lib/python2.7/dist-packages/matplotlib/figure.pyc\u001b[0m in \u001b[0;36mdraw\u001b[0;34m(self, renderer)\u001b[0m\n\u001b[1;32m   1293\u001b[0m \u001b[0;34m\u001b[0m\u001b[0m\n\u001b[1;32m   1294\u001b[0m             mimage._draw_list_compositing_images(\n\u001b[0;32m-> 1295\u001b[0;31m                 renderer, self, artists, self.suppressComposite)\n\u001b[0m\u001b[1;32m   1296\u001b[0m \u001b[0;34m\u001b[0m\u001b[0m\n\u001b[1;32m   1297\u001b[0m             \u001b[0mrenderer\u001b[0m\u001b[0;34m.\u001b[0m\u001b[0mclose_group\u001b[0m\u001b[0;34m(\u001b[0m\u001b[0;34m'figure'\u001b[0m\u001b[0;34m)\u001b[0m\u001b[0;34m\u001b[0m\u001b[0m\n",
      "\u001b[0;32m/usr/local/lib/python2.7/dist-packages/matplotlib/image.pyc\u001b[0m in \u001b[0;36m_draw_list_compositing_images\u001b[0;34m(renderer, parent, artists, suppress_composite)\u001b[0m\n\u001b[1;32m    136\u001b[0m     \u001b[0;32mif\u001b[0m \u001b[0mnot_composite\u001b[0m \u001b[0;32mor\u001b[0m \u001b[0;32mnot\u001b[0m \u001b[0mhas_images\u001b[0m\u001b[0;34m:\u001b[0m\u001b[0;34m\u001b[0m\u001b[0m\n\u001b[1;32m    137\u001b[0m         \u001b[0;32mfor\u001b[0m \u001b[0ma\u001b[0m \u001b[0;32min\u001b[0m \u001b[0martists\u001b[0m\u001b[0;34m:\u001b[0m\u001b[0;34m\u001b[0m\u001b[0m\n\u001b[0;32m--> 138\u001b[0;31m             \u001b[0ma\u001b[0m\u001b[0;34m.\u001b[0m\u001b[0mdraw\u001b[0m\u001b[0;34m(\u001b[0m\u001b[0mrenderer\u001b[0m\u001b[0;34m)\u001b[0m\u001b[0;34m\u001b[0m\u001b[0m\n\u001b[0m\u001b[1;32m    139\u001b[0m     \u001b[0;32melse\u001b[0m\u001b[0;34m:\u001b[0m\u001b[0;34m\u001b[0m\u001b[0m\n\u001b[1;32m    140\u001b[0m         \u001b[0;31m# Composite any adjacent images together\u001b[0m\u001b[0;34m\u001b[0m\u001b[0;34m\u001b[0m\u001b[0m\n",
      "\u001b[0;32m/usr/local/lib/python2.7/dist-packages/matplotlib/artist.pyc\u001b[0m in \u001b[0;36mdraw_wrapper\u001b[0;34m(artist, renderer, *args, **kwargs)\u001b[0m\n\u001b[1;32m     53\u001b[0m                 \u001b[0mrenderer\u001b[0m\u001b[0;34m.\u001b[0m\u001b[0mstart_filter\u001b[0m\u001b[0;34m(\u001b[0m\u001b[0;34m)\u001b[0m\u001b[0;34m\u001b[0m\u001b[0m\n\u001b[1;32m     54\u001b[0m \u001b[0;34m\u001b[0m\u001b[0m\n\u001b[0;32m---> 55\u001b[0;31m             \u001b[0;32mreturn\u001b[0m \u001b[0mdraw\u001b[0m\u001b[0;34m(\u001b[0m\u001b[0martist\u001b[0m\u001b[0;34m,\u001b[0m \u001b[0mrenderer\u001b[0m\u001b[0;34m,\u001b[0m \u001b[0;34m*\u001b[0m\u001b[0margs\u001b[0m\u001b[0;34m,\u001b[0m \u001b[0;34m**\u001b[0m\u001b[0mkwargs\u001b[0m\u001b[0;34m)\u001b[0m\u001b[0;34m\u001b[0m\u001b[0m\n\u001b[0m\u001b[1;32m     56\u001b[0m         \u001b[0;32mfinally\u001b[0m\u001b[0;34m:\u001b[0m\u001b[0;34m\u001b[0m\u001b[0m\n\u001b[1;32m     57\u001b[0m             \u001b[0;32mif\u001b[0m \u001b[0martist\u001b[0m\u001b[0;34m.\u001b[0m\u001b[0mget_agg_filter\u001b[0m\u001b[0;34m(\u001b[0m\u001b[0;34m)\u001b[0m \u001b[0;32mis\u001b[0m \u001b[0;32mnot\u001b[0m \u001b[0mNone\u001b[0m\u001b[0;34m:\u001b[0m\u001b[0;34m\u001b[0m\u001b[0m\n",
      "\u001b[0;32m/usr/local/lib/python2.7/dist-packages/matplotlib/axes/_base.pyc\u001b[0m in \u001b[0;36mdraw\u001b[0;34m(self, renderer, inframe)\u001b[0m\n\u001b[1;32m   2397\u001b[0m             \u001b[0mrenderer\u001b[0m\u001b[0;34m.\u001b[0m\u001b[0mstop_rasterizing\u001b[0m\u001b[0;34m(\u001b[0m\u001b[0;34m)\u001b[0m\u001b[0;34m\u001b[0m\u001b[0m\n\u001b[1;32m   2398\u001b[0m \u001b[0;34m\u001b[0m\u001b[0m\n\u001b[0;32m-> 2399\u001b[0;31m         \u001b[0mmimage\u001b[0m\u001b[0;34m.\u001b[0m\u001b[0m_draw_list_compositing_images\u001b[0m\u001b[0;34m(\u001b[0m\u001b[0mrenderer\u001b[0m\u001b[0;34m,\u001b[0m \u001b[0mself\u001b[0m\u001b[0;34m,\u001b[0m \u001b[0martists\u001b[0m\u001b[0;34m)\u001b[0m\u001b[0;34m\u001b[0m\u001b[0m\n\u001b[0m\u001b[1;32m   2400\u001b[0m \u001b[0;34m\u001b[0m\u001b[0m\n\u001b[1;32m   2401\u001b[0m         \u001b[0mrenderer\u001b[0m\u001b[0;34m.\u001b[0m\u001b[0mclose_group\u001b[0m\u001b[0;34m(\u001b[0m\u001b[0;34m'axes'\u001b[0m\u001b[0;34m)\u001b[0m\u001b[0;34m\u001b[0m\u001b[0m\n",
      "\u001b[0;32m/usr/local/lib/python2.7/dist-packages/matplotlib/image.pyc\u001b[0m in \u001b[0;36m_draw_list_compositing_images\u001b[0;34m(renderer, parent, artists, suppress_composite)\u001b[0m\n\u001b[1;32m    136\u001b[0m     \u001b[0;32mif\u001b[0m \u001b[0mnot_composite\u001b[0m \u001b[0;32mor\u001b[0m \u001b[0;32mnot\u001b[0m \u001b[0mhas_images\u001b[0m\u001b[0;34m:\u001b[0m\u001b[0;34m\u001b[0m\u001b[0m\n\u001b[1;32m    137\u001b[0m         \u001b[0;32mfor\u001b[0m \u001b[0ma\u001b[0m \u001b[0;32min\u001b[0m \u001b[0martists\u001b[0m\u001b[0;34m:\u001b[0m\u001b[0;34m\u001b[0m\u001b[0m\n\u001b[0;32m--> 138\u001b[0;31m             \u001b[0ma\u001b[0m\u001b[0;34m.\u001b[0m\u001b[0mdraw\u001b[0m\u001b[0;34m(\u001b[0m\u001b[0mrenderer\u001b[0m\u001b[0;34m)\u001b[0m\u001b[0;34m\u001b[0m\u001b[0m\n\u001b[0m\u001b[1;32m    139\u001b[0m     \u001b[0;32melse\u001b[0m\u001b[0;34m:\u001b[0m\u001b[0;34m\u001b[0m\u001b[0m\n\u001b[1;32m    140\u001b[0m         \u001b[0;31m# Composite any adjacent images together\u001b[0m\u001b[0;34m\u001b[0m\u001b[0;34m\u001b[0m\u001b[0m\n",
      "\u001b[0;32m/usr/local/lib/python2.7/dist-packages/matplotlib/artist.pyc\u001b[0m in \u001b[0;36mdraw_wrapper\u001b[0;34m(artist, renderer, *args, **kwargs)\u001b[0m\n\u001b[1;32m     53\u001b[0m                 \u001b[0mrenderer\u001b[0m\u001b[0;34m.\u001b[0m\u001b[0mstart_filter\u001b[0m\u001b[0;34m(\u001b[0m\u001b[0;34m)\u001b[0m\u001b[0;34m\u001b[0m\u001b[0m\n\u001b[1;32m     54\u001b[0m \u001b[0;34m\u001b[0m\u001b[0m\n\u001b[0;32m---> 55\u001b[0;31m             \u001b[0;32mreturn\u001b[0m \u001b[0mdraw\u001b[0m\u001b[0;34m(\u001b[0m\u001b[0martist\u001b[0m\u001b[0;34m,\u001b[0m \u001b[0mrenderer\u001b[0m\u001b[0;34m,\u001b[0m \u001b[0;34m*\u001b[0m\u001b[0margs\u001b[0m\u001b[0;34m,\u001b[0m \u001b[0;34m**\u001b[0m\u001b[0mkwargs\u001b[0m\u001b[0;34m)\u001b[0m\u001b[0;34m\u001b[0m\u001b[0m\n\u001b[0m\u001b[1;32m     56\u001b[0m         \u001b[0;32mfinally\u001b[0m\u001b[0;34m:\u001b[0m\u001b[0;34m\u001b[0m\u001b[0m\n\u001b[1;32m     57\u001b[0m             \u001b[0;32mif\u001b[0m \u001b[0martist\u001b[0m\u001b[0;34m.\u001b[0m\u001b[0mget_agg_filter\u001b[0m\u001b[0;34m(\u001b[0m\u001b[0;34m)\u001b[0m \u001b[0;32mis\u001b[0m \u001b[0;32mnot\u001b[0m \u001b[0mNone\u001b[0m\u001b[0;34m:\u001b[0m\u001b[0;34m\u001b[0m\u001b[0m\n",
      "\u001b[0;32m/usr/local/lib/python2.7/dist-packages/matplotlib/image.pyc\u001b[0m in \u001b[0;36mdraw\u001b[0;34m(self, renderer, *args, **kwargs)\u001b[0m\n\u001b[1;32m    548\u001b[0m                 renderer, renderer.get_image_magnification())\n\u001b[1;32m    549\u001b[0m             \u001b[0;32mif\u001b[0m \u001b[0mim\u001b[0m \u001b[0;32mis\u001b[0m \u001b[0;32mnot\u001b[0m \u001b[0mNone\u001b[0m\u001b[0;34m:\u001b[0m\u001b[0;34m\u001b[0m\u001b[0m\n\u001b[0;32m--> 550\u001b[0;31m                 \u001b[0mrenderer\u001b[0m\u001b[0;34m.\u001b[0m\u001b[0mdraw_image\u001b[0m\u001b[0;34m(\u001b[0m\u001b[0mgc\u001b[0m\u001b[0;34m,\u001b[0m \u001b[0ml\u001b[0m\u001b[0;34m,\u001b[0m \u001b[0mb\u001b[0m\u001b[0;34m,\u001b[0m \u001b[0mim\u001b[0m\u001b[0;34m)\u001b[0m\u001b[0;34m\u001b[0m\u001b[0m\n\u001b[0m\u001b[1;32m    551\u001b[0m         \u001b[0mgc\u001b[0m\u001b[0;34m.\u001b[0m\u001b[0mrestore\u001b[0m\u001b[0;34m(\u001b[0m\u001b[0;34m)\u001b[0m\u001b[0;34m\u001b[0m\u001b[0m\n\u001b[1;32m    552\u001b[0m         \u001b[0mself\u001b[0m\u001b[0;34m.\u001b[0m\u001b[0mstale\u001b[0m \u001b[0;34m=\u001b[0m \u001b[0mFalse\u001b[0m\u001b[0;34m\u001b[0m\u001b[0m\n",
      "\u001b[0;31mValueError\u001b[0m: object too deep for desired array"
     ]
    },
    {
     "data": {
      "text/plain": [
       "<matplotlib.figure.Figure at 0x7fc56af3aed0>"
      ]
     },
     "metadata": {},
     "output_type": "display_data"
    },
    {
     "name": "stdout",
     "output_type": "stream",
     "text": [
      "L\n",
      "Autograd ArrayBox with value [[ 0.          0.10748987  0.08253008  0.06588588  0.05572751  0.0498611\n",
      "   0.046582    0.04478105  0.04379741  0.04325745]\n",
      " [ 0.10746652  0.          0.06992763  0.05759174  0.04967306  0.04495766\n",
      "   0.04227519  0.04078754  0.03997072  0.03952099]\n",
      " [ 0.0824994   0.0699173   0.          0.04954261  0.04356648  0.03989647\n",
      "   0.03777038  0.03657914  0.03592136  0.03555806]\n",
      " [ 0.06585662  0.05757969  0.04953977  0.          0.03843173  0.03554753\n",
      "   0.03385032  0.03289082  0.03235835  0.03206344]\n",
      " [ 0.05570265  0.04966295  0.04356427  0.03843191  0.          0.03236281\n",
      "   0.03095039  0.03014656  0.02969881  0.0294503 ]\n",
      " [ 0.04984068  0.04495027  0.03989588  0.03554881  0.03236376  0.\n",
      "   0.02905363  0.02834434  0.02794828  0.02772815]\n",
      " [ 0.04656506  0.04227017  0.03777135  0.03385274  0.03095231  0.02905455\n",
      "   0.          0.02725625  0.02688988  0.02668609]\n",
      " [ 0.0447665   0.04078424  0.03658129  0.03289413  0.03014922  0.02834595\n",
      "   0.02725693  0.          0.02628202  0.02608732]\n",
      " [ 0.04378435  0.0399685   0.03592429  0.03236224  0.02970196  0.02795034\n",
      "   0.026891    0.02628246  0.          0.025752  ]\n",
      " [ 0.04324525  0.0395194   0.03556143  0.03206766  0.02945373  0.02773047\n",
      "   0.02668746  0.02608801  0.02575225  0.        ]]\n",
      "('Iteration', 6, 'Train loss:', <autograd.numpy.numpy_boxes.ArrayBox object at 0x7fc553c12ef0>)\n",
      "Test loss:  Autograd ArrayBox with value 145.694729575\n",
      "Target\n"
     ]
    },
    {
     "data": {
      "image/png": "[encoded data removed]",
      "text/plain": [
       "<matplotlib.figure.Figure at 0x7fc5553d3250>"
      ]
     },
     "metadata": {},
     "output_type": "display_data"
    },
    {
     "name": "stdout",
     "output_type": "stream",
     "text": [
      "Predicted\n"
     ]
    },
    {
     "data": {
      "image/png": "[encoded data removed]",
      "text/plain": [
       "<matplotlib.figure.Figure at 0x7fc50821b7d0>"
      ]
     },
     "metadata": {},
     "output_type": "display_data"
    },
    {
     "name": "stdout",
     "output_type": "stream",
     "text": [
      "L\n",
      "Autograd ArrayBox with value [[ 0.          0.10746644  0.08253062  0.06589547  0.05573748  0.04986824\n",
      "   0.04658597  0.04478252  0.04379712  0.04325589]\n",
      " [ 0.10744602  0.          0.06993788  0.05760582  0.04968503  0.0449656\n",
      "   0.04227937  0.04078893  0.03997024  0.03951925]\n",
      " [ 0.08250325  0.06992796  0.          0.04955822  0.0435782   0.03990347\n",
      "   0.03777342  0.03657938  0.03591977  0.03555529]\n",
      " [ 0.06586877  0.05759345  0.04955464  0.          0.0384404   0.03555168\n",
      "   0.03385084  0.0328888   0.03235471  0.03205876]\n",
      " [ 0.05571421  0.04967368  0.04357439  0.03843975  0.          0.03236299\n",
      "   0.03094744  0.03014144  0.0296923   0.02944291]\n",
      " [ 0.04984859  0.04495624  0.03990064  0.03555155  0.03236337  0.\n",
      "   0.02904729  0.02833614  0.02793888  0.02771799]\n",
      " [ 0.04656922  0.04227187  0.03777172  0.03385147  0.03094843  0.02904786\n",
      "   0.          0.02724559  0.02687816  0.02667369]\n",
      " [ 0.04476778  0.04078283  0.0365786   0.0328901   0.03014297  0.0283372\n",
      "   0.02724608  0.          0.02626867  0.02607335]\n",
      " [ 0.04378366  0.03996505  0.03591963  0.03235647  0.02969421  0.02794029\n",
      "   0.02687898  0.02626901  0.          0.02573702]\n",
      " [ 0.0432432   0.03951462  0.03555553  0.03206081  0.02944506  0.02771962\n",
      "   0.02667471  0.02607389  0.02573722  0.        ]]\n",
      "('Iteration', 9, 'Train loss:', <autograd.numpy.numpy_boxes.ArrayBox object at 0x7fc56a23c488>)\n",
      "Test loss:  Autograd ArrayBox with value 145.692895481\n",
      "Target\n"
     ]
    },
    {
     "data": {
      "image/png": "[encoded data removed]",
      "text/plain": [
       "<matplotlib.figure.Figure at 0x7fc56f79e210>"
      ]
     },
     "metadata": {},
     "output_type": "display_data"
    },
    {
     "name": "stdout",
     "output_type": "stream",
     "text": [
      "Predicted\n"
     ]
    },
    {
     "data": {
      "image/png": "[encoded data removed]",
      "text/plain": [
       "<matplotlib.figure.Figure at 0x7fc55a679450>"
      ]
     },
     "metadata": {},
     "output_type": "display_data"
    },
    {
     "name": "stdout",
     "output_type": "stream",
     "text": [
      "L\n",
      "Autograd ArrayBox with value [[ 0.          0.10746914  0.08252916  0.06589301  0.05573552  0.04986713\n",
      "   0.04658556  0.04478254  0.04379732  0.04325614]\n",
      " [ 0.10744875  0.          0.06993476  0.05760338  0.04968413  0.04496608\n",
      "   0.04228081  0.04079091  0.03997245  0.03952153]\n",
      " [ 0.08250228  0.06992561  0.          0.04955768  0.04357974  0.03990659\n",
      "   0.03777753  0.03658401  0.03592463  0.03556021]\n",
      " [ 0.06586726  0.05759249  0.04955491  0.          0.03844467  0.03555736\n",
      "   0.03385734  0.03289572  0.0323618   0.03206589]\n",
      " [ 0.05571348  0.04967469  0.04357723  0.03844453  0.          0.03237057\n",
      "   0.03095565  0.03014995  0.02970092  0.02945155]\n",
      " [ 0.04984888  0.04495885  0.03990529  0.03555797  0.03237118  0.\n",
      "   0.0290565   0.02834557  0.02794838  0.02772749]\n",
      " [ 0.04657029  0.04227552  0.03777745  0.03385881  0.03095698  0.02905717\n",
      "   0.          0.02725548  0.02688808  0.02668359]\n",
      " [ 0.04476933  0.04078705  0.03658488  0.03289789  0.03015185  0.02834677\n",
      "   0.027256    0.          0.02627877  0.02608342]\n",
      " [ 0.0437854   0.03996951  0.03592614  0.03236443  0.02970322  0.02794994\n",
      "   0.02688895  0.02627912  0.          0.02574713]\n",
      " [ 0.04324496  0.03951913  0.03556209  0.0320688   0.02945407  0.02772926\n",
      "   0.02668467  0.02608397  0.02574733  0.        ]]\n",
      "('Iteration', 12, 'Train loss:', <autograd.numpy.numpy_boxes.ArrayBox object at 0x7fc5683eb1b8>)\n",
      "Test loss:  Autograd ArrayBox with value 145.711499863\n",
      "Target\n"
     ]
    },
    {
     "data": {
      "image/png": "[encoded data removed]",
      "text/plain": [
       "<matplotlib.figure.Figure at 0x7fc568ee4910>"
      ]
     },
     "metadata": {},
     "output_type": "display_data"
    },
    {
     "name": "stdout",
     "output_type": "stream",
     "text": [
      "Predicted\n"
     ]
    },
    {
     "data": {
      "image/png": "[encoded data removed]",
      "text/plain": [
       "<matplotlib.figure.Figure at 0x7fc568ef4dd0>"
      ]
     },
     "metadata": {},
     "output_type": "display_data"
    },
    {
     "name": "stdout",
     "output_type": "stream",
     "text": [
      "L\n",
      "Autograd ArrayBox with value [[ 0.          0.10748075  0.08252971  0.06588905  0.05573108  0.0498638\n",
      "   0.04658363  0.04478179  0.04379746  0.04325696]\n",
      " [ 0.10745861  0.          0.06993085  0.05759686  0.0496778   0.04496114\n",
      "   0.04227738  0.04078872  0.03997115  0.03952089]\n",
      " [ 0.08250055  0.06992093  0.          0.04954905  0.04357186  0.03990026\n",
      "   0.03777272  0.0365804   0.03592187  0.03555804]\n",
      " [ 0.06586117  0.05758513  0.04954612  0.          0.03843653  0.03555069\n",
      "   0.03385206  0.03289153  0.03235836  0.03206297]\n",
      " [ 0.05570729  0.04966774  0.04356931  0.03843646  0.          0.0323646\n",
      "   0.0309509   0.03014613  0.02969776  0.02944882]\n",
      " [ 0.04984417  0.04495354  0.03989908  0.0355515   0.03236533  0.\n",
      "   0.02905275  0.02834262  0.027946    0.02772549]\n",
      " [ 0.04656727  0.04227194  0.03777292  0.03385386  0.03095244  0.02905351\n",
      "   0.          0.02725343  0.02688655  0.02668241]\n",
      " [ 0.04476769  0.04078486  0.03658167  0.0328941   0.03014832  0.02834398\n",
      "   0.02725402  0.          0.02627792  0.02608289]\n",
      " [ 0.04378477  0.03996832  0.03592384  0.03236145  0.02970038  0.02794776\n",
      "   0.02688752  0.0262783   0.          0.02574707]\n",
      " [ 0.04324507  0.03951864  0.03556042  0.03206636  0.0294517   0.02772749\n",
      "   0.0266836   0.0260835   0.02574729  0.        ]]\n",
      "('Iteration', 15, 'Train loss:', <autograd.numpy.numpy_boxes.ArrayBox object at 0x7fc55ec66488>)\n",
      "Test loss:  Autograd ArrayBox with value 145.670507991\n",
      "Target\n"
     ]
    },
    {
     "data": {
      "image/png": "[encoded data removed]",
      "text/plain": [
       "<matplotlib.figure.Figure at 0x7fc567ad74d0>"
      ]
     },
     "metadata": {},
     "output_type": "display_data"
    },
    {
     "name": "stdout",
     "output_type": "stream",
     "text": [
      "Predicted\n"
     ]
    },
    {
     "data": {
      "image/png": "[encoded data removed]",
      "text/plain": [
       "<matplotlib.figure.Figure at 0x7fc567b08b90>"
      ]
     },
     "metadata": {},
     "output_type": "display_data"
    },
    {
     "name": "stdout",
     "output_type": "stream",
     "text": [
      "L\n",
      "Autograd ArrayBox with value [[ 0.          0.10746145  0.08252892  0.06589574  0.05573852  0.04986933\n",
      "   0.0465868   0.04478298  0.0437972   0.04325563]\n",
      " [ 0.1074422   0.          0.06993747  0.05760767  0.04968819  0.04496917\n",
      "   0.04228288  0.04079218  0.03997316  0.03952187]\n",
      " [ 0.08250349  0.06992873  0.          0.04956298  0.04358442  0.03991025\n",
      "   0.03778022  0.03658596  0.03592609  0.03556134]\n",
      " [ 0.06587131  0.05759719  0.04956026  0.          0.03844925  0.035561\n",
      "   0.03386014  0.0328979   0.03236355  0.03206737]\n",
      " [ 0.05571754  0.04967901  0.04358188  0.03844905  0.          0.03237372\n",
      "   0.03095811  0.03015188  0.0297025   0.02945289]\n",
      " [ 0.04985189  0.04496204  0.03990882  0.0355615   0.03237428  0.\n",
      "   0.02905841  0.02834703  0.02794954  0.02772845]\n",
      " [ 0.04657215  0.04227756  0.03777993  0.03386144  0.03095933  0.02905904\n",
      "   0.          0.02725647  0.02688881  0.02668414]\n",
      " [ 0.04477026  0.0407882   0.03658658  0.03289985  0.03015366  0.02834817\n",
      "   0.02725697  0.          0.02627914  0.02608363]\n",
      " [ 0.04378569  0.03997005  0.0359273   0.03236595  0.02970465  0.02795102\n",
      "   0.02688964  0.02627947  0.          0.0257471 ]\n",
      " [ 0.04324483  0.03951927  0.03556292  0.03207004  0.02945527  0.02773014\n",
      "   0.02668517  0.02608416  0.02574729  0.        ]]\n",
      "('Iteration', 18, 'Train loss:', <autograd.numpy.numpy_boxes.ArrayBox object at 0x7fc565b96fc8>)\n",
      "Test loss:  Autograd ArrayBox with value 145.725068838\n",
      "Target\n"
     ]
    },
    {
     "data": {
      "image/png": "[encoded data removed]",
      "text/plain": [
       "<matplotlib.figure.Figure at 0x7fc551e34fd0>"
      ]
     },
     "metadata": {},
     "output_type": "display_data"
    },
    {
     "name": "stdout",
     "output_type": "stream",
     "text": [
      "Predicted\n"
     ]
    },
    {
     "data": {
      "image/png": "[encoded data removed]",
      "text/plain": [
       "<matplotlib.figure.Figure at 0x7fc55ebe3290>"
      ]
     },
     "metadata": {},
     "output_type": "display_data"
    },
    {
     "name": "stdout",
     "output_type": "stream",
     "text": [
      "L\n",
      "Autograd ArrayBox with value [[ 0.          0.10748396  0.08253062  0.06588873  0.05573035  0.0498631\n",
      "   0.04658312  0.04478148  0.04379733  0.04325696]\n",
      " [ 0.10746113  0.          0.06993106  0.05759586  0.04967613  0.04495923\n",
      "   0.04227547  0.0407869   0.03996944  0.03951927]\n",
      " [ 0.08250037  0.06992055  0.          0.04954692  0.04356901  0.03989705\n",
      "   0.0377694   0.03657709  0.03591862  0.03555484]\n",
      " [ 0.06585959  0.05758318  0.04954355  0.          0.03843265  0.03554651\n",
      "   0.03384778  0.03288724  0.0323541   0.03205874]\n",
      " [ 0.05570529  0.04966493  0.04356578  0.03843232  0.          0.03235983\n",
      "   0.03094605  0.03014129  0.02969295  0.02944405]\n",
      " [ 0.04984223  0.04495043  0.03989508  0.03554693  0.03236042  0.\n",
      "   0.02904764  0.02833753  0.02794095  0.02772048]\n",
      " [ 0.04656556  0.04226882  0.03776876  0.03384911  0.03094738  0.02904833\n",
      "   0.          0.02724826  0.02688142  0.02667731]\n",
      " [ 0.04476621  0.04078183  0.03657749  0.03288931  0.03014324  0.02833879\n",
      "   0.02724881  0.          0.02627278  0.02607779]\n",
      " [ 0.04378349  0.03996539  0.03591971  0.03235667  0.02969531  0.02794258\n",
      "   0.02688233  0.02627315  0.          0.02574199]\n",
      " [ 0.04324395  0.03951581  0.03555634  0.03206162  0.02944665  0.02772234\n",
      "   0.02667844  0.02607837  0.0257422   0.        ]]\n",
      "('Iteration', 21, 'Train loss:', <autograd.numpy.numpy_boxes.ArrayBox object at 0x7fc55a9be758>)\n",
      "Test loss:  Autograd ArrayBox with value 145.70820794\n",
      "Target\n"
     ]
    },
    {
     "data": {
      "image/png": "[encoded data removed]",
      "text/plain": [
       "<matplotlib.figure.Figure at 0x7fc5711120d0>"
      ]
     },
     "metadata": {},
     "output_type": "display_data"
    },
    {
     "name": "stdout",
     "output_type": "stream",
     "text": [
      "Predicted\n"
     ]
    },
    {
     "data": {
      "image/png": "[encoded data removed]",
      "text/plain": [
       "<matplotlib.figure.Figure at 0x7fc551e1bc50>"
      ]
     },
     "metadata": {},
     "output_type": "display_data"
    },
    {
     "name": "stdout",
     "output_type": "stream",
     "text": [
      "L\n",
      "Autograd ArrayBox with value [[ 0.          0.10747742  0.08252886  0.06588952  0.05573198  0.04986467\n",
      "   0.0465843   0.04478221  0.04379765  0.04325694]\n",
      " [ 0.10745586  0.          0.0699309   0.05759811  0.04967958  0.04496296\n",
      "   0.04227903  0.04079014  0.03997235  0.0395219 ]\n",
      " [ 0.08250062  0.06992147  0.          0.04955158  0.0435748   0.03990316\n",
      "   0.0377754   0.03658283  0.03592407  0.03556006]\n",
      " [ 0.06586269  0.05758713  0.04954894  0.          0.03844032  0.03555437\n",
      "   0.03385549  0.03289468  0.03236128  0.03206571]\n",
      " [ 0.05570924  0.04967034  0.04357263  0.03844036  0.          0.03236857\n",
      "   0.03095461  0.03014958  0.02970099  0.02945189]\n",
      " [ 0.04984605  0.04495617  0.03990237  0.03555531  0.03236932  0.\n",
      "   0.02905639  0.02834603  0.0279492   0.02772854]\n",
      " [ 0.0465689   0.04227437  0.03777596  0.03385737  0.03095615  0.02905714\n",
      "   0.          0.02725663  0.02688956  0.02668528]\n",
      " [ 0.04476903  0.04078702  0.03658442  0.03289731  0.03015174  0.02834735\n",
      "   0.02725719  0.          0.02628071  0.02608555]\n",
      " [ 0.04378585  0.03997023  0.03592634  0.03236441  0.02970356  0.0279509\n",
      "   0.02689049  0.02628108  0.          0.02574955]\n",
      " [ 0.04324593  0.03952034  0.03556271  0.03206912  0.0294547   0.02773046\n",
      "   0.02668642  0.02608613  0.02574975  0.        ]]\n",
      "('Iteration', 24, 'Train loss:', <autograd.numpy.numpy_boxes.ArrayBox object at 0x7fc550746290>)\n",
      "Test loss:  Autograd ArrayBox with value 145.740351824\n",
      "Target\n"
     ]
    },
    {
     "data": {
      "image/png": "[encoded data removed]",
      "text/plain": [
       "<matplotlib.figure.Figure at 0x7fc54e2bcd10>"
      ]
     },
     "metadata": {},
     "output_type": "display_data"
    },
    {
     "name": "stdout",
     "output_type": "stream",
     "text": [
      "Predicted\n"
     ]
    },
    {
     "data": {
      "image/png": "[encoded data removed]",
      "text/plain": [
       "<matplotlib.figure.Figure at 0x7fc55bc36350>"
      ]
     },
     "metadata": {},
     "output_type": "display_data"
    },
    {
     "name": "stdout",
     "output_type": "stream",
     "text": [
      "L\n",
      "Autograd ArrayBox with value [[ 0.          0.10748918  0.08252996  0.06588601  0.05572773  0.04986134\n",
      "   0.04658228  0.04478138  0.04379778  0.04325779]\n",
      " [ 0.10746571  0.          0.06992781  0.05759191  0.04967295  0.04495728\n",
      "   0.04227464  0.04078692  0.03997007  0.0395203 ]\n",
      " [ 0.0824991   0.06991729  0.          0.04954235  0.04356544  0.03989475\n",
      "   0.03776821  0.03657673  0.03591883  0.03555545]\n",
      " [ 0.06585656  0.05757947  0.04953919  0.          0.03842928  0.03554422\n",
      "   0.03384645  0.03288663  0.03235399  0.03205898]\n",
      " [ 0.05570269  0.04966229  0.04356265  0.03842916  0.          0.03235808\n",
      "   0.0309451   0.03014094  0.02969302  0.02944441]\n",
      " [ 0.04984076  0.04494925  0.03989341  0.03554501  0.03235883  0.\n",
      "   0.02904733  0.02833774  0.02794151  0.02772129]\n",
      " [ 0.04656519  0.04226893  0.03776833  0.03384826  0.03094669  0.02904813\n",
      "   0.          0.02724904  0.02688252  0.02667864]\n",
      " [ 0.04476671  0.0407829   0.03657799  0.03288927  0.03014322  0.02833916\n",
      "   0.02724966  0.          0.02627432  0.02607954]\n",
      " [ 0.04378462  0.03996714  0.03592084  0.03235718  0.02969576  0.02794336\n",
      "   0.02688354  0.02627473  0.          0.02574405]\n",
      " [ 0.04324551  0.03951801  0.03555789  0.03206249  0.02944742  0.02772339\n",
      "   0.0266799   0.02608018  0.02574428  0.        ]]\n",
      "('Iteration', 27, 'Train loss:', <autograd.numpy.numpy_boxes.ArrayBox object at 0x7fc54cc25b00>)\n",
      "Test loss:  Autograd ArrayBox with value 145.745815305\n",
      "Target\n"
     ]
    },
    {
     "data": {
      "image/png": "[encoded data removed]",
      "text/plain": [
       "<matplotlib.figure.Figure at 0x7fc530c43250>"
      ]
     },
     "metadata": {},
     "output_type": "display_data"
    },
    {
     "name": "stdout",
     "output_type": "stream",
     "text": [
      "Predicted\n"
     ]
    },
    {
     "data": {
      "image/png": "[encoded data removed]",
      "text/plain": [
       "<matplotlib.figure.Figure at 0x7fc5308da810>"
      ]
     },
     "metadata": {},
     "output_type": "display_data"
    },
    {
     "name": "stdout",
     "output_type": "stream",
     "text": [
      "L\n",
      "Autograd ArrayBox with value [[ 0.          0.10747983  0.08252915  0.06588886  0.05573112  0.04986397\n",
      "   0.04658385  0.044782    0.04379764  0.0432571 ]\n",
      " [ 0.1074579   0.          0.0699303   0.05759682  0.04967818  0.04496177\n",
      "   0.04227813  0.04078951  0.03997194  0.03952166]\n",
      " [ 0.08250039  0.06992064  0.          0.04954951  0.04357274  0.03990138\n",
      "   0.03777396  0.03658169  0.03592316  0.03555932]\n",
      " [ 0.06586149  0.05758553  0.04954678  0.          0.03843789  0.03555223\n",
      "   0.03385368  0.03289316  0.03235998  0.03206456]\n",
      " [ 0.0557079   0.04966865  0.04357049  0.03843793  0.          0.0323664\n",
      "   0.03095273  0.03014796  0.02969956  0.0294506 ]\n",
      " [ 0.04984493  0.04495475  0.03990056  0.0355532   0.03236718  0.\n",
      "   0.02905466  0.02834452  0.02794786  0.02772733]\n",
      " [ 0.04656808  0.0422733   0.03777454  0.03385565  0.03095434  0.02905545\n",
      "   0.          0.02725533  0.02688841  0.02668424]\n",
      " [ 0.04476849  0.04078627  0.03658334  0.03289591  0.03015022  0.02834591\n",
      "   0.02725592  0.          0.02627975  0.02608469]\n",
      " [ 0.04378554  0.03996972  0.03592552  0.03236325  0.02970226  0.02794965\n",
      "   0.02688939  0.02628013  0.          0.02574883]\n",
      " [ 0.04324581  0.03952002  0.03556208  0.03206814  0.02945355  0.02772935\n",
      "   0.02668544  0.0260853   0.02574905  0.        ]]\n",
      "('Iteration', 30, 'Train loss:', <autograd.numpy.numpy_boxes.ArrayBox object at 0x7fc548ccd830>)\n",
      "Test loss:  Autograd ArrayBox with value 145.725120542\n",
      "Target\n"
     ]
    },
    {
     "data": {
      "image/png": "[encoded data removed]",
      "text/plain": [
       "<matplotlib.figure.Figure at 0x7fc5122b01d0>"
      ]
     },
     "metadata": {},
     "output_type": "display_data"
    },
    {
     "name": "stdout",
     "output_type": "stream",
     "text": [
      "Predicted\n"
     ]
    },
    {
     "data": {
      "image/png": "[encoded data removed]",
      "text/plain": [
       "<matplotlib.figure.Figure at 0x7fc570d8d1d0>"
      ]
     },
     "metadata": {},
     "output_type": "display_data"
    },
    {
     "name": "stdout",
     "output_type": "stream",
     "text": [
      "L\n",
      "Autograd ArrayBox with value [[ 0.          0.10748345  0.08252928  0.06588757  0.05572968  0.04986284\n",
      "   0.04658312  0.0447816   0.0437975   0.04325716]\n",
      " [ 0.10746114  0.          0.06992905  0.05759492  0.04967654  0.04496068\n",
      "   0.04227757  0.04078935  0.03997206  0.03952198]\n",
      " [ 0.08250007  0.06991934  0.          0.04954744  0.04357133  0.03990076\n",
      "   0.037774    0.03658219  0.03592397  0.03556034]\n",
      " [ 0.06585983  0.05758372  0.04954487  0.          0.03843721  0.03555241\n",
      "   0.03385454  0.0328945   0.03236163  0.03206642]\n",
      " [ 0.0557062   0.04966726  0.04356943  0.03843745  0.          0.03236756\n",
      "   0.03095453  0.0301502   0.02970209  0.02945332]\n",
      " [ 0.04984364  0.04495403  0.03990043  0.03555372  0.03236848  0.\n",
      "   0.02905731  0.02834757  0.02795118  0.02773082]\n",
      " [ 0.04656726  0.04227318  0.03777516  0.03385694  0.03095638  0.02905819\n",
      "   0.          0.027259    0.02689233  0.02668832]\n",
      " [ 0.04476805  0.0407866   0.03658447  0.03289774  0.03015276  0.02834911\n",
      "   0.02725965  0.          0.02628408  0.02608918]\n",
      " [ 0.04378537  0.03997036  0.03592699  0.03236542  0.02970512  0.02795316\n",
      "   0.0268934   0.0262845   0.          0.02575358]\n",
      " [ 0.04324584  0.03952087  0.03556377  0.03207053  0.02945662  0.02773304\n",
      "   0.02668963  0.02608984  0.02575381  0.        ]]\n",
      "('Iteration', 33, 'Train loss:', <autograd.numpy.numpy_boxes.ArrayBox object at 0x7fc5458d9d40>)\n",
      "Test loss:  Autograd ArrayBox with value 145.693167308\n",
      "Target\n"
     ]
    },
    {
     "data": {
      "image/png": "[encoded data removed]",
      "text/plain": [
       "<matplotlib.figure.Figure at 0x7fc511d58910>"
      ]
     },
     "metadata": {},
     "output_type": "display_data"
    },
    {
     "name": "stdout",
     "output_type": "stream",
     "text": [
      "Predicted\n"
     ]
    },
    {
     "data": {
      "image/png": "[encoded data removed]",
      "text/plain": [
       "<matplotlib.figure.Figure at 0x7fc511d7af50>"
      ]
     },
     "metadata": {},
     "output_type": "display_data"
    },
    {
     "name": "stdout",
     "output_type": "stream",
     "text": [
      "L\n",
      "Autograd ArrayBox with value [[ 0.          0.10747532  0.08252887  0.06589028  0.05573271  0.04986512\n",
      "   0.04658447  0.04478222  0.04379756  0.04325678]\n",
      " [ 0.10745416  0.          0.06993176  0.05759935  0.04968072  0.04496384\n",
      "   0.04227968  0.04079066  0.03997281  0.03952231]\n",
      " [ 0.08250116  0.06992251  0.          0.049553    0.04357606  0.03990424\n",
      "   0.03777635  0.03658372  0.03592496  0.03556095]\n",
      " [ 0.06586394  0.05758859  0.04955044  0.          0.03844139  0.03555529\n",
      "   0.03385635  0.03289554  0.03236218  0.03206664]\n",
      " [ 0.05571039  0.04967169  0.043574    0.03844149  0.          0.03236929\n",
      "   0.03095528  0.03015029  0.02970175  0.0294527 ]\n",
      " [ 0.04984684  0.04495724  0.03990359  0.03555633  0.03237008  0.\n",
      "   0.02905699  0.02834666  0.0279499   0.02772929]\n",
      " [ 0.04656935  0.0422752   0.03777707  0.03385837  0.03095692  0.02905778\n",
      "   0.          0.0272573   0.02689029  0.02668606]\n",
      " [ 0.04476928  0.04078771  0.03658549  0.03289835  0.03015258  0.02834807\n",
      "   0.0272579   0.          0.02628152  0.02608642]\n",
      " [ 0.04378599  0.03997086  0.03592743  0.03236551  0.02970449  0.02795172\n",
      "   0.02689129  0.02628192  0.          0.02575051]\n",
      " [ 0.04324599  0.03952093  0.03556382  0.03207028  0.0294557   0.02773135\n",
      "   0.0266873   0.02608705  0.02575074  0.        ]]\n",
      "('Iteration', 36, 'Train loss:', <autograd.numpy.numpy_boxes.ArrayBox object at 0x7fc541f608c0>)\n",
      "Test loss:  Autograd ArrayBox with value 145.692645731\n",
      "Target\n"
     ]
    },
    {
     "data": {
      "image/png": "[encoded data removed]",
      "text/plain": [
       "<matplotlib.figure.Figure at 0x7fc55d57ea90>"
      ]
     },
     "metadata": {},
     "output_type": "display_data"
    },
    {
     "name": "stdout",
     "output_type": "stream",
     "text": [
      "Predicted\n"
     ]
    },
    {
     "data": {
      "image/png": "[encoded data removed]",
      "text/plain": [
       "<matplotlib.figure.Figure at 0x7fc5114bac50>"
      ]
     },
     "metadata": {},
     "output_type": "display_data"
    },
    {
     "name": "stdout",
     "output_type": "stream",
     "text": [
      "L\n",
      "Autograd ArrayBox with value [[ 0.          0.10747684  0.08252915  0.06589005  0.05573242  0.04986494\n",
      "   0.04658441  0.04478219  0.04379757  0.04325687]\n",
      " [ 0.10745526  0.          0.06993153  0.05759855  0.04967969  0.04496278\n",
      "   0.04227865  0.04078962  0.03997177  0.03952131]\n",
      " [ 0.08250078  0.06992189  0.          0.04955149  0.04357432  0.03990242\n",
      "   0.03777449  0.03658182  0.035923    0.03555898]\n",
      " [ 0.06586296  0.05758719  0.04954867  0.          0.03843937  0.03555323\n",
      "   0.03385424  0.03289336  0.03235992  0.03206433]\n",
      " [ 0.05570937  0.04966997  0.04357188  0.03843932  0.          0.0323672\n",
      "   0.03095316  0.03014808  0.02969945  0.02945033]\n",
      " [ 0.04984597  0.04495548  0.03990133  0.03555404  0.03236791  0.\n",
      "   0.02905482  0.0283444   0.02794754  0.02772687]\n",
      " [ 0.04656864  0.04227347  0.03777475  0.03385599  0.03095464  0.02905555\n",
      "   0.          0.02725493  0.02688783  0.02668353]\n",
      " [ 0.04476863  0.04078599  0.0365831   0.03289585  0.03015018  0.0283457\n",
      "   0.02725549  0.          0.02627892  0.02608375]\n",
      " [ 0.04378538  0.03996912  0.03592497  0.0323629   0.02970196  0.02794922\n",
      "   0.02688874  0.02627928  0.          0.0257477 ]\n",
      " [ 0.04324546  0.03951923  0.03556133  0.03206761  0.02945308  0.02772876\n",
      "   0.02668465  0.02608431  0.0257479   0.        ]]\n",
      "('Iteration', 39, 'Train loss:', <autograd.numpy.numpy_boxes.ArrayBox object at 0x7fc53e188200>)\n",
      "Test loss:  Autograd ArrayBox with value 145.717034835\n",
      "Target\n"
     ]
    },
    {
     "data": {
      "image/png": "[encoded data removed]",
      "text/plain": [
       "<matplotlib.figure.Figure at 0x7fc5718d0fd0>"
      ]
     },
     "metadata": {},
     "output_type": "display_data"
    },
    {
     "name": "stdout",
     "output_type": "stream",
     "text": [
      "Predicted\n"
     ]
    },
    {
     "data": {
      "image/png": "[encoded data removed]",
      "text/plain": [
       "<matplotlib.figure.Figure at 0x7fc569033cd0>"
      ]
     },
     "metadata": {},
     "output_type": "display_data"
    },
    {
     "name": "stdout",
     "output_type": "stream",
     "text": [
      "L\n",
      "Autograd ArrayBox with value [[ 0.          0.10747439  0.08252931  0.0658911   0.05573338  0.04986547\n",
      "   0.0465845   0.04478198  0.04379717  0.04325632]\n",
      " [ 0.10745343  0.          0.06993285  0.05760045  0.04968156  0.04496434\n",
      "   0.04227987  0.04079061  0.0399726   0.03952203]\n",
      " [ 0.08250178  0.0699236   0.          0.04955418  0.04357711  0.03990512\n",
      "   0.03777706  0.03658429  0.03592542  0.03556136]\n",
      " [ 0.06586481  0.05758963  0.04955161  0.          0.03844274  0.03555666\n",
      "   0.03385767  0.0328968   0.03236338  0.03206781]\n",
      " [ 0.05571097  0.04967241  0.04357505  0.03844287  0.          0.03237105\n",
      "   0.03095709  0.03015207  0.0297035   0.02945444]\n",
      " [ 0.04984699  0.04495758  0.03990448  0.03555775  0.03237188  0.\n",
      "   0.02905908  0.02834876  0.02795198  0.02773137]\n",
      " [ 0.0465691   0.04227519  0.0377778   0.03385976  0.03095877  0.02905989\n",
      "   0.          0.02725954  0.02689253  0.0266883 ]\n",
      " [ 0.04476872  0.04078744  0.03658606  0.03289968  0.03015443  0.02835019\n",
      "   0.02726015  0.          0.02628381  0.02608871]\n",
      " [ 0.04378523  0.0399704   0.03592789  0.03236678  0.0297063   0.02795383\n",
      "   0.02689354  0.02628421  0.          0.0257528 ]\n",
      " [ 0.04324515  0.03952039  0.03556422  0.03207152  0.02945749  0.02773346\n",
      "   0.02668954  0.02608934  0.02575303  0.        ]]\n",
      "('Iteration', 42, 'Train loss:', <autograd.numpy.numpy_boxes.ArrayBox object at 0x7fc53a5aff38>)\n",
      "Test loss:  Autograd ArrayBox with value 145.692173615\n",
      "Target\n"
     ]
    },
    {
     "data": {
      "image/png": "[encoded data removed]",
      "text/plain": [
       "<matplotlib.figure.Figure at 0x7fc54f80f190>"
      ]
     },
     "metadata": {},
     "output_type": "display_data"
    },
    {
     "name": "stdout",
     "output_type": "stream",
     "text": [
      "Predicted\n"
     ]
    },
    {
     "data": {
      "image/png": "[encoded data removed]",
      "text/plain": [
       "<matplotlib.figure.Figure at 0x7fc54f7f8a90>"
      ]
     },
     "metadata": {},
     "output_type": "display_data"
    },
    {
     "name": "stdout",
     "output_type": "stream",
     "text": [
      "L\n",
      "Autograd ArrayBox with value [[ 0.          0.1074695   0.08252943  0.06589313  0.05573551  0.04986705\n",
      "   0.04658547  0.04478248  0.04379732  0.04325619]\n",
      " [ 0.10744894  0.          0.0699352   0.05760346  0.04968381  0.04496548\n",
      "   0.04228004  0.0407901   0.03997164  0.03952075]\n",
      " [ 0.08250227  0.06992582  0.          0.04955725  0.04357872  0.03990515\n",
      "   0.03777585  0.03658224  0.03592284  0.03555843]\n",
      " [ 0.06586702  0.05759214  0.04955424  0.          0.03844282  0.03555512\n",
      "   0.03385488  0.03289318  0.03235924  0.03206334]\n",
      " [ 0.05571309  0.04967381  0.04357579  0.03844251  0.          0.03236774\n",
      "   0.03095267  0.03014691  0.02969788  0.02944852]\n",
      " [ 0.0498484   0.04495761  0.03990334  0.03555546  0.03236826  0.\n",
      "   0.02905324  0.02834227  0.02794509  0.02772422]\n",
      " [ 0.0465698   0.04227409  0.03777522  0.03385604  0.03095386  0.02905386\n",
      "   0.          0.02725208  0.0268847   0.02668024]\n",
      " [ 0.04476888  0.04078556  0.03658254  0.03289501  0.03014866  0.02834341\n",
      "   0.02725258  0.          0.02627537  0.02608005]\n",
      " [ 0.04378502  0.03996802  0.03592377  0.03236153  0.02970001  0.02794658\n",
      "   0.02688555  0.02627571  0.          0.02574377]\n",
      " [ 0.04324464  0.03951767  0.03555973  0.03206591  0.02945088  0.02772593\n",
      "   0.02668129  0.02608059  0.02574397  0.        ]]\n",
      "('Iteration', 45, 'Train loss:', <autograd.numpy.numpy_boxes.ArrayBox object at 0x7fc536a963f8>)\n",
      "Test loss:  Autograd ArrayBox with value 145.771087747\n",
      "Target\n"
     ]
    },
    {
     "data": {
      "image/png": "[encoded data removed]",
      "text/plain": [
       "<matplotlib.figure.Figure at 0x7fc5466b7350>"
      ]
     },
     "metadata": {},
     "output_type": "display_data"
    },
    {
     "name": "stdout",
     "output_type": "stream",
     "text": [
      "Predicted\n"
     ]
    },
    {
     "data": {
      "image/png": "[encoded data removed]",
      "text/plain": [
       "<matplotlib.figure.Figure at 0x7fc54f7f8050>"
      ]
     },
     "metadata": {},
     "output_type": "display_data"
    },
    {
     "name": "stdout",
     "output_type": "stream",
     "text": [
      "L\n",
      "Autograd ArrayBox with value [[ 0.          0.107503    0.08253177  0.06588257  0.05572334  0.04985782\n",
      "   0.04658001  0.04478018  0.04379734  0.04325792]\n",
      " [ 0.10747719  0.          0.06992556  0.05758601  0.0496662   0.04495112\n",
      "   0.04226945  0.04078258  0.03996634  0.03951703]\n",
      " [ 0.08249762  0.06991371  0.          0.04953402  0.04355684  0.03988675\n",
      "   0.03776103  0.03657024  0.03591282  0.03554978]\n",
      " [ 0.06584969  0.05757168  0.04953021  0.          0.03841995  0.03553557\n",
      "   0.03383853  0.03287928  0.03234703  0.03205227]\n",
      " [ 0.05569505  0.04965351  0.04355312  0.03841953  0.          0.03234956\n",
      "   0.03093721  0.03013353  0.02968592  0.02943751]\n",
      " [ 0.04983424  0.04494108  0.0398844   0.03553592  0.03235015  0.\n",
      "   0.02903978  0.02833058  0.02793462  0.02771456]\n",
      " [ 0.04656015  0.0422618   0.03776012  0.03383984  0.03093856  0.02904049\n",
      "   0.          0.0272422   0.0268759   0.02667216]\n",
      " [ 0.04476287  0.04077667  0.03657045  0.03288137  0.03013551  0.02833186\n",
      "   0.02724276  0.          0.02626793  0.02607327]\n",
      " [ 0.04378163  0.03996155  0.03591377  0.03234964  0.02968833  0.02793628\n",
      "   0.02687683  0.02626829  0.          0.02573791]\n",
      " [ 0.04324313  0.03951287  0.03555115  0.03205518  0.02944016  0.02771644\n",
      "   0.0266733   0.02607384  0.02573811  0.        ]]\n",
      "('Iteration', 48, 'Train loss:', <autograd.numpy.numpy_boxes.ArrayBox object at 0x7fc532da1c20>)\n",
      "Test loss:  Autograd ArrayBox with value 145.685890084\n",
      "Target\n"
     ]
    },
    {
     "data": {
      "image/png": "[encoded data removed]",
      "text/plain": [
       "<matplotlib.figure.Figure at 0x7fc53d895250>"
      ]
     },
     "metadata": {},
     "output_type": "display_data"
    },
    {
     "name": "stdout",
     "output_type": "stream",
     "text": [
      "Predicted\n"
     ]
    },
    {
     "data": {
      "image/png": "[encoded data removed]",
      "text/plain": [
       "<matplotlib.figure.Figure at 0x7fc546669f90>"
      ]
     },
     "metadata": {},
     "output_type": "display_data"
    },
    {
     "name": "stdout",
     "output_type": "stream",
     "text": [
      "L\n",
      "Autograd ArrayBox with value [[ 0.          0.10746217  0.08252871  0.06589521  0.05573802  0.04986898\n",
      "   0.04658663  0.04478296  0.04379731  0.04325585]\n",
      " [ 0.1074429   0.          0.06993674  0.05760686  0.04968761  0.0449689\n",
      "   0.04228289  0.04079242  0.03997357  0.03952241]\n",
      " [ 0.0825033   0.06992805  0.          0.04956201  0.04358378  0.03991001\n",
      "   0.03778033  0.03658635  0.03592667  0.03556207]\n",
      " [ 0.06587087  0.05759653  0.0495594   0.          0.03844875  0.03556091\n",
      "   0.0338604   0.03289844  0.03236429  0.03206825]\n",
      " [ 0.0557172   0.04967868  0.04358145  0.03844867  0.          0.03237394\n",
      "   0.03095866  0.03015269  0.02970349  0.02945402]\n",
      " [ 0.04985177  0.04496211  0.03990889  0.03556161  0.0323746   0.\n",
      "   0.02905933  0.02834818  0.02795086  0.0277299 ]\n",
      " [ 0.04657225  0.04227798  0.03778043  0.03386198  0.03096005  0.02906003\n",
      "   0.          0.02725795  0.02689045  0.0266859 ]\n",
      " [ 0.04477055  0.04078889  0.03658739  0.03290072  0.03015468  0.02834944\n",
      "   0.02725849  0.          0.02628103  0.02608563]\n",
      " [ 0.04378613  0.03997093  0.03592834  0.03236705  0.02970589  0.02795249\n",
      "   0.02689135  0.02628139  0.          0.02574928]\n",
      " [ 0.04324539  0.0395203   0.03556411  0.03207129  0.02945666  0.02773175\n",
      "   0.02668702  0.02608621  0.02574949  0.        ]]\n",
      "('Iteration', 51, 'Train loss:', <autograd.numpy.numpy_boxes.ArrayBox object at 0x7fc52ed5e7a0>)\n",
      "Test loss:  Autograd ArrayBox with value 145.720376809\n",
      "Target\n"
     ]
    },
    {
     "data": {
      "image/png": "[encoded data removed]",
      "text/plain": [
       "<matplotlib.figure.Figure at 0x7fc534f093d0>"
      ]
     },
     "metadata": {},
     "output_type": "display_data"
    },
    {
     "name": "stdout",
     "output_type": "stream",
     "text": [
      "Predicted\n"
     ]
    },
    {
     "data": {
      "image/png": "[encoded data removed]",
      "text/plain": [
       "<matplotlib.figure.Figure at 0x7fc53d820a50>"
      ]
     },
     "metadata": {},
     "output_type": "display_data"
    },
    {
     "name": "stdout",
     "output_type": "stream",
     "text": [
      "L\n",
      "Autograd ArrayBox with value [[ 0.          0.10747336  0.08252871  0.06589094  0.05573352  0.04986575\n",
      "   0.04658484  0.04478231  0.04379742  0.04325647]\n",
      " [ 0.10745251  0.          0.06993253  0.05760065  0.049682    0.04496483\n",
      "   0.04228031  0.04079095  0.03997284  0.03952215]\n",
      " [ 0.08250142  0.06992345  0.          0.04955502  0.04357801  0.03990586\n",
      "   0.03777757  0.03658458  0.03592554  0.03556133]\n",
      " [ 0.06586499  0.05759007  0.0495525   0.          0.03844383  0.03555746\n",
      "   0.03385814  0.032897    0.03236336  0.03206763]\n",
      " [ 0.05571149  0.04967308  0.04357595  0.0384439   0.          0.03237161\n",
      "   0.0309573   0.030152    0.02970321  0.02945398]\n",
      " [ 0.04984767  0.04495825  0.03990513  0.0355584   0.03237235  0.\n",
      "   0.02905888  0.02834828  0.0279513   0.02773053]\n",
      " [ 0.04656984  0.04227577  0.03777815  0.03386001  0.03095882  0.02905962\n",
      "   0.          0.02725867  0.02689146  0.02668708]\n",
      " [ 0.04476944  0.04078789  0.03658616  0.03289959  0.03015412  0.02834958\n",
      "   0.02725923  0.          0.02628243  0.02608719]\n",
      " [ 0.04378588  0.03997072  0.03592776  0.03236644  0.02970574  0.02795297\n",
      "   0.02689238  0.02628279  0.          0.02575106]\n",
      " [ 0.04324569  0.03952057  0.03556393  0.03207099  0.02945675  0.02773242\n",
      "   0.0266882   0.02608775  0.02575126  0.        ]]\n",
      "('Iteration', 54, 'Train loss:', <autograd.numpy.numpy_boxes.ArrayBox object at 0x7fc52ab80098>)\n",
      "Test loss:  Autograd ArrayBox with value 145.698705453\n",
      "Target\n"
     ]
    },
    {
     "data": {
      "image/png": "[encoded data removed]",
      "text/plain": [
       "<matplotlib.figure.Figure at 0x7fc52a271590>"
      ]
     },
     "metadata": {},
     "output_type": "display_data"
    },
    {
     "name": "stdout",
     "output_type": "stream",
     "text": [
      "Predicted\n"
     ]
    },
    {
     "data": {
      "image/png": "[encoded data removed]",
      "text/plain": [
       "<matplotlib.figure.Figure at 0x7fc52a271b90>"
      ]
     },
     "metadata": {},
     "output_type": "display_data"
    },
    {
     "name": "stdout",
     "output_type": "stream",
     "text": [
      "L\n",
      "Autograd ArrayBox with value [[ 0.          0.10748176  0.08252985  0.06588882  0.05573076  0.04986353\n",
      "   0.04658346  0.0447817   0.0437974   0.04325686]\n",
      " [ 0.10745942  0.          0.06993102  0.05759682  0.04967758  0.04496078\n",
      "   0.04227694  0.04078825  0.03997065  0.03952031]\n",
      " [ 0.08250047  0.06992105  0.          0.04954924  0.04357177  0.03989986\n",
      "   0.03777209  0.03657963  0.03592101  0.0355571 ]\n",
      " [ 0.0658607   0.05758497  0.04954622  0.          0.03843621  0.03555\n",
      "   0.03385109  0.03289038  0.03235709  0.03206161]\n",
      " [ 0.05570672  0.0496673   0.043569    0.03843601  0.          0.03236343\n",
      "   0.03094945  0.03014451  0.02969602  0.02944701]\n",
      " [ 0.04984364  0.04495288  0.03989835  0.03555057  0.03236406  0.\n",
      "   0.02905086  0.02834057  0.02794385  0.02772327]\n",
      " [ 0.04656683  0.04227115  0.03777189  0.03385256  0.0309508   0.02905155\n",
      "   0.          0.02725108  0.0268841   0.0266799 ]\n",
      " [ 0.04476733  0.04078399  0.03658044  0.03289258  0.03014646  0.02834181\n",
      "   0.02725162  0.          0.02627529  0.0260802 ]\n",
      " [ 0.04378444  0.03996739  0.0359225   0.03235979  0.02969839  0.02794547\n",
      "   0.02688501  0.02627565  0.          0.02574428]\n",
      " [ 0.0432447   0.03951763  0.03555898  0.0320646   0.02944962  0.02772511\n",
      "   0.02668101  0.02608078  0.02574449  0.        ]]\n",
      "('Iteration', 57, 'Train loss:', <autograd.numpy.numpy_boxes.ArrayBox object at 0x7fc52724b5a8>)\n",
      "Test loss:  Autograd ArrayBox with value 145.755735904\n",
      "Target\n"
     ]
    },
    {
     "data": {
      "image/png": "[encoded data removed]",
      "text/plain": [
       "<matplotlib.figure.Figure at 0x7fc52013b750>"
      ]
     },
     "metadata": {},
     "output_type": "display_data"
    },
    {
     "name": "stdout",
     "output_type": "stream",
     "text": [
      "Predicted\n"
     ]
    },
    {
     "data": {
      "image/png": "[encoded data removed]",
      "text/plain": [
       "<matplotlib.figure.Figure at 0x7fc52013bd50>"
      ]
     },
     "metadata": {},
     "output_type": "display_data"
    },
    {
     "name": "stdout",
     "output_type": "stream",
     "text": [
      "L\n",
      "Autograd ArrayBox with value [[ 0.          0.10750475  0.08253156  0.0658816   0.05572235  0.04985708\n",
      "   0.04657958  0.04478005  0.0437975   0.0432583 ]\n",
      " [ 0.10747881  0.          0.06992441  0.05758454  0.04966498  0.04495036\n",
      "   0.04226915  0.04078268  0.03996678  0.03951771]\n",
      " [ 0.08249731  0.06991258  0.          0.049532    0.04355515  0.03988562\n",
      "   0.03776046  0.03657013  0.03591308  0.0355503 ]\n",
      " [ 0.06584874  0.05757035  0.04952828  0.          0.03841803  0.0355342\n",
      "   0.03383772  0.03287894  0.03234706  0.03205257]\n",
      " [ 0.0556942   0.04965256  0.04355166  0.03841774  0.          0.03234842\n",
      "   0.03093659  0.03013335  0.02968609  0.02943793]\n",
      " [ 0.04983374  0.04494071  0.03988363  0.03553482  0.03234914  0.\n",
      "   0.02903965  0.02833087  0.02793522  0.0277154 ]\n",
      " [ 0.04656002  0.04226198  0.03776001  0.0338394   0.03093818  0.02904047\n",
      "   0.          0.027243    0.02687699  0.02667347]\n",
      " [ 0.04476311  0.04077731  0.03657088  0.03288149  0.03013566  0.02833233\n",
      "   0.02724363  0.          0.02626944  0.02607499]\n",
      " [ 0.04378219  0.03996257  0.03591462  0.03235018  0.02968887  0.02793712\n",
      "   0.02687805  0.02626986  0.          0.02573995]\n",
      " [ 0.04324394  0.03951419  0.03555231  0.03205603  0.02944099  0.02771755\n",
      "   0.02667477  0.02607565  0.02574019  0.        ]]\n",
      "('Iteration', 60, 'Train loss:', <autograd.numpy.numpy_boxes.ArrayBox object at 0x7fc523953c68>)\n",
      "Test loss:  Autograd ArrayBox with value 145.733956576\n",
      "Target\n"
     ]
    },
    {
     "data": {
      "image/png": "[encoded data removed]",
      "text/plain": [
       "<matplotlib.figure.Figure at 0x7fc5157b9fd0>"
      ]
     },
     "metadata": {},
     "output_type": "display_data"
    },
    {
     "name": "stdout",
     "output_type": "stream",
     "text": [
      "Predicted\n"
     ]
    },
    {
     "data": {
      "image/png": "[encoded data removed]",
      "text/plain": [
       "<matplotlib.figure.Figure at 0x7fc52001d650>"
      ]
     },
     "metadata": {},
     "output_type": "display_data"
    },
    {
     "name": "stdout",
     "output_type": "stream",
     "text": [
      "L\n",
      "Autograd ArrayBox with value [[ 0.          0.10749443  0.08253011  0.06588411  0.05572565  0.0498598\n",
      "   0.04658139  0.04478103  0.04379781  0.0432581 ]\n",
      " [ 0.10747028  0.          0.06992562  0.05758878  0.04967027  0.04495554\n",
      "   0.04227379  0.04078674  0.03997034  0.03952088]\n",
      " [ 0.0824984   0.06991495  0.          0.04953866  0.04356272  0.03989322\n",
      "   0.03776771  0.03657697  0.03591955  0.03555647]\n",
      " [ 0.06585395  0.05757637  0.0495357   0.          0.03842724  0.03554334\n",
      "   0.03384654  0.03288741  0.03235522  0.03206048]\n",
      " [ 0.05570011  0.04965989  0.04356036  0.03842736  0.          0.03235817\n",
      "   0.03094601  0.03014245  0.02969492  0.02944656]\n",
      " [ 0.04983891  0.044948    0.03989252  0.03554456  0.0323591   0.\n",
      "   0.02904911  0.02834002  0.02794414  0.02772413]\n",
      " [ 0.04656414  0.04226872  0.03776862  0.03384891  0.03094791  0.02905002\n",
      "   0.          0.02725199  0.02688577  0.02668208]\n",
      " [ 0.04476629  0.04078347  0.0365791   0.03289068  0.03014511  0.02834164\n",
      "   0.02725268  0.          0.02627803  0.02608343]\n",
      " [ 0.04378463  0.03996821  0.03592248  0.0323591   0.02969808  0.02794622\n",
      "   0.02688691  0.02627848  0.          0.02574824]\n",
      " [ 0.04324583  0.03951941  0.03555987  0.03206471  0.02945001  0.02772648\n",
      "   0.02668348  0.02608414  0.02574849  0.        ]]\n",
      "('Iteration', 63, 'Train loss:', <autograd.numpy.numpy_boxes.ArrayBox object at 0x7fc520a678c0>)\n",
      "Test loss:  Autograd ArrayBox with value 145.714122674\n",
      "Target\n"
     ]
    },
    {
     "data": {
      "image/png": "[encoded data removed]",
      "text/plain": [
       "<matplotlib.figure.Figure at 0x7fc509de7190>"
      ]
     },
     "metadata": {},
     "output_type": "display_data"
    },
    {
     "name": "stdout",
     "output_type": "stream",
     "text": [
      "Predicted\n"
     ]
    },
    {
     "data": {
      "image/png": "[encoded data removed]",
      "text/plain": [
       "<matplotlib.figure.Figure at 0x7fc529deb690>"
      ]
     },
     "metadata": {},
     "output_type": "display_data"
    },
    {
     "name": "stdout",
     "output_type": "stream",
     "text": [
      "L\n",
      "Autograd ArrayBox with value [[ 0.          0.10746932  0.0825302   0.06589395  0.05573604  0.04986728\n",
      "   0.04658549  0.04478239  0.04379722  0.04325612]\n",
      " [ 0.10744862  0.          0.06993622  0.05760394  0.04968367  0.04496489\n",
      "   0.0422792   0.04078914  0.03997067  0.03951982]\n",
      " [ 0.08250263  0.06992644  0.          0.04955664  0.04357735  0.03990332\n",
      "   0.03777379  0.03658009  0.03592068  0.03555631]\n",
      " [ 0.06586723  0.05759191  0.04955328  0.          0.0384403   0.03555221\n",
      "   0.0338518   0.03289005  0.03235612  0.03206026]\n",
      " [ 0.05571291  0.04967281  0.04357391  0.03843981  0.          0.03236415\n",
      "   0.03094896  0.03014318  0.02969418  0.02944486]\n",
      " [ 0.04984788  0.04495612  0.03990093  0.0355523   0.0323646   0.\n",
      "   0.02904925  0.02833827  0.02794112  0.0277203 ]\n",
      " [ 0.04656905  0.04227235  0.03777257  0.03385269  0.03095006  0.02904985\n",
      "   0.          0.027248    0.02688065  0.02667623]\n",
      " [ 0.04476801  0.04078371  0.03657981  0.03289161  0.03014483  0.02833939\n",
      "   0.02724849  0.          0.02627132  0.02607604]\n",
      " [ 0.04378414  0.03996617  0.03592105  0.03235815  0.02969621  0.02794259\n",
      "   0.02688149  0.02627166  0.          0.0257398 ]\n",
      " [ 0.04324382  0.03951587  0.03555706  0.03206258  0.02944713  0.02772198\n",
      "   0.02667728  0.02607659  0.02574     0.        ]]\n",
      "('Iteration', 66, 'Train loss:', <autograd.numpy.numpy_boxes.ArrayBox object at 0x7fc51be1cb48>)\n",
      "Test loss:  Autograd ArrayBox with value 145.677321323\n",
      "Target\n"
     ]
    },
    {
     "data": {
      "image/png": "[encoded data removed]",
      "text/plain": [
       "<matplotlib.figure.Figure at 0x7fc50de66350>"
      ]
     },
     "metadata": {},
     "output_type": "display_data"
    },
    {
     "name": "stdout",
     "output_type": "stream",
     "text": [
      "Predicted\n"
     ]
    },
    {
     "data": {
      "image/png": "[encoded data removed]",
      "text/plain": [
       "<matplotlib.figure.Figure at 0x7fc50d32e550>"
      ]
     },
     "metadata": {},
     "output_type": "display_data"
    },
    {
     "name": "stdout",
     "output_type": "stream",
     "text": [
      "L\n",
      "Autograd ArrayBox with value [[ 0.          0.10746     0.08252868  0.06589607  0.05573896  0.04986969\n",
      "   0.04658706  0.04478314  0.04379727  0.04325562]\n",
      " [ 0.10744095  0.          0.06993786  0.05760838  0.04968885  0.04496964\n",
      "   0.04228315  0.0407923   0.03997316  0.03952178]\n",
      " [ 0.08250354  0.0699292   0.          0.04956401  0.04358525  0.03991078\n",
      "   0.03778048  0.03658603  0.03592602  0.03556117]\n",
      " [ 0.06587191  0.05759797  0.04956126  0.          0.03845002  0.03556146\n",
      "   0.03386033  0.03289789  0.03236341  0.03206714]\n",
      " [ 0.05571822  0.04967968  0.04358262  0.03844976  0.          0.03237394\n",
      "   0.03095808  0.03015169  0.02970219  0.02945251]\n",
      " [ 0.04985246  0.04496245  0.03990919  0.03556183  0.03237444  0.\n",
      "   0.02905814  0.02834661  0.02794902  0.02772787]\n",
      " [ 0.04657258  0.04227773  0.03777999  0.03386146  0.03095922  0.02905873\n",
      "   0.          0.02725586  0.02688811  0.02668339]\n",
      " [ 0.04477058  0.0407882   0.03658641  0.03289965  0.03015334  0.02834769\n",
      "   0.02725633  0.          0.02627832  0.02608276]\n",
      " [ 0.04378592  0.03996991  0.03592698  0.0323656   0.02970421  0.02795043\n",
      "   0.02688891  0.02627864  0.          0.02574615]\n",
      " [ 0.04324497  0.03951903  0.03556248  0.03206959  0.02945474  0.02772947\n",
      "   0.02668438  0.02608327  0.02574634  0.        ]]\n",
      "('Iteration', 69, 'Train loss:', <autograd.numpy.numpy_boxes.ArrayBox object at 0x7fc5179236c8>)\n",
      "Test loss:  Autograd ArrayBox with value 145.68646087\n",
      "Target\n"
     ]
    },
    {
     "data": {
      "image/png": "[encoded data removed]",
      "text/plain": [
       "<matplotlib.figure.Figure at 0x7fc55f45b510>"
      ]
     },
     "metadata": {},
     "output_type": "display_data"
    },
    {
     "name": "stdout",
     "output_type": "stream",
     "text": [
      "Predicted\n"
     ]
    },
    {
     "data": {
      "image/png": "[encoded data removed]",
      "text/plain": [
       "<matplotlib.figure.Figure at 0x7fc509df6f50>"
      ]
     },
     "metadata": {},
     "output_type": "display_data"
    },
    {
     "name": "stdout",
     "output_type": "stream",
     "text": [
      "L\n",
      "Autograd ArrayBox with value [[ 0.          0.10745686  0.08252893  0.06589752  0.05574043  0.04987076\n",
      "   0.04658764  0.04478333  0.04379723  0.04325549]\n",
      " [ 0.10743823  0.          0.06993877  0.05760979  0.04969025  0.04497084\n",
      "   0.04228411  0.04079304  0.03997377  0.03952236]\n",
      " [ 0.08250418  0.06993014  0.          0.04956513  0.04358642  0.03991196\n",
      "   0.03778163  0.03658713  0.03592708  0.03556224]\n",
      " [ 0.06587365  0.05759941  0.04956243  0.          0.03845121  0.03556276\n",
      "   0.03386169  0.03289927  0.03236479  0.03206854]\n",
      " [ 0.0557199   0.04968117  0.04358393  0.03845106  0.          0.03237549\n",
      "   0.03095972  0.03015336  0.02970388  0.02945421]\n",
      " [ 0.04985367  0.04496381  0.03991063  0.03556334  0.03237609  0.\n",
      "   0.02906002  0.02834853  0.02795095  0.02772981]\n",
      " [ 0.04657328  0.04227891  0.03778149  0.03386311  0.03096103  0.02906068\n",
      "   0.          0.02725793  0.02689019  0.02668548]\n",
      " [ 0.04477085  0.04078919  0.03658791  0.03290137  0.03015524  0.02834972\n",
      "   0.02725844  0.          0.02628046  0.02608491]\n",
      " [ 0.04378593  0.03997079  0.03592847  0.03236736  0.02970614  0.0279525\n",
      "   0.02689105  0.02628081  0.          0.02574833]\n",
      " [ 0.04324489  0.03951988  0.03556399  0.03207138  0.02945671  0.02773157\n",
      "   0.02668654  0.02608546  0.02574853  0.        ]]\n",
      "('Iteration', 72, 'Train loss:', <autograd.numpy.numpy_boxes.ArrayBox object at 0x7fc5144cbab8>)\n",
      "Test loss:  Autograd ArrayBox with value 145.722587832\n",
      "Target\n"
     ]
    },
    {
     "data": {
      "image/png": "[encoded data removed]",
      "text/plain": [
       "<matplotlib.figure.Figure at 0x7fc55fb4d6d0>"
      ]
     },
     "metadata": {},
     "output_type": "display_data"
    },
    {
     "name": "stdout",
     "output_type": "stream",
     "text": [
      "Predicted\n"
     ]
    },
    {
     "data": {
      "image/png": "[encoded data removed]",
      "text/plain": [
       "<matplotlib.figure.Figure at 0x7fc55f601d10>"
      ]
     },
     "metadata": {},
     "output_type": "display_data"
    },
    {
     "name": "stdout",
     "output_type": "stream",
     "text": [
      "L\n",
      "Autograd ArrayBox with value [[ 0.          0.10747593  0.0825304   0.06589163  0.05573352  0.04986543\n",
      "   0.04658444  0.04478195  0.04379719  0.0432564 ]\n",
      " [ 0.10745425  0.          0.06993405  0.05760042  0.04968031  0.04496229\n",
      "   0.04227741  0.04078794  0.03996986  0.03951926]\n",
      " [ 0.08250159  0.06992391  0.          0.04955244  0.04357371  0.03990053\n",
      "   0.03777176  0.0365786   0.03591953  0.03555537]\n",
      " [ 0.06586377  0.05758802  0.04954904  0.          0.03843707  0.03554978\n",
      "   0.03385004  0.03288875  0.03235509  0.0320594 ]\n",
      " [ 0.05570944  0.04966918  0.04357029  0.03843662  0.          0.03236234\n",
      "   0.0309477   0.03014228  0.02969349  0.0294443 ]\n",
      " [ 0.04984527  0.04495336  0.03989822  0.03554996  0.03236282  0.\n",
      "   0.02904846  0.02833778  0.0279408   0.02772007]\n",
      " [ 0.04656738  0.04227047  0.03777067  0.03385104  0.03094884  0.02904907\n",
      "   0.          0.02724782  0.02688062  0.02667628]\n",
      " [ 0.04476704  0.04078248  0.03657848  0.03289042  0.03014398  0.02833891\n",
      "   0.02724832  0.          0.02627149  0.02607628]\n",
      " [ 0.04378363  0.03996535  0.03592006  0.03235724  0.02969558  0.02794228\n",
      "   0.02688146  0.02627182  0.          0.02574014]\n",
      " [ 0.04324363  0.03951532  0.03555628  0.03206182  0.02944661  0.02772176\n",
      "   0.02667732  0.02607681  0.02574033  0.        ]]\n",
      "('Iteration', 75, 'Train loss:', <autograd.numpy.numpy_boxes.ArrayBox object at 0x7fc510db4b48>)\n",
      "Test loss:  Autograd ArrayBox with value 145.714479292\n",
      "Target\n"
     ]
    },
    {
     "data": {
      "image/png": "[encoded data removed]",
      "text/plain": [
       "<matplotlib.figure.Figure at 0x7fc54ffa7910>"
      ]
     },
     "metadata": {},
     "output_type": "display_data"
    },
    {
     "name": "stdout",
     "output_type": "stream",
     "text": [
      "Predicted\n"
     ]
    },
    {
     "data": {
      "image/png": "[encoded data removed]",
      "text/plain": [
       "<matplotlib.figure.Figure at 0x7fc54ffb4e10>"
      ]
     },
     "metadata": {},
     "output_type": "display_data"
    },
    {
     "name": "stdout",
     "output_type": "stream",
     "text": [
      "L\n",
      "Autograd ArrayBox with value [[ 0.          0.10747883  0.08252874  0.06588878  0.05573119  0.04986406\n",
      "   0.04658393  0.04478207  0.04379773  0.0432572 ]\n",
      " [ 0.1074572   0.          0.06992992  0.05759689  0.04967863  0.04496246\n",
      "   0.04227897  0.04079044  0.03997294  0.03952271]\n",
      " [ 0.08250046  0.06992054  0.          0.04954992  0.0435736   0.0399026\n",
      "   0.03777543  0.03658333  0.03592492  0.03556116]\n",
      " [ 0.065862    0.05758609  0.04954743  0.          0.03843916  0.03555385\n",
      "   0.03385558  0.03289525  0.03236221  0.03206689]\n",
      " [ 0.05570861  0.04966974  0.04357177  0.03843939  0.          0.03236843\n",
      "   0.03095501  0.03015043  0.02970216  0.02945329]\n",
      " [ 0.04984568  0.04495616  0.03990231  0.03555514  0.03236934  0.\n",
      "   0.02905731  0.02834733  0.02795081  0.02773036]\n",
      " [ 0.04656882  0.04227489  0.03777662  0.03385794  0.03095684  0.02905818\n",
      "   0.          0.02725843  0.02689163  0.02668754]\n",
      " [ 0.04476923  0.04078798  0.03658563  0.03289845  0.03015296  0.02834886\n",
      "   0.02725908  0.          0.02628317  0.0260882 ]\n",
      " [ 0.04378629  0.03997152  0.03592795  0.03236596  0.02970516  0.02795277\n",
      "   0.0268927   0.02628359  0.          0.02575248]\n",
      " [ 0.04324657  0.03952188  0.03556462  0.03207096  0.02945657  0.02773257\n",
      "   0.02668886  0.02608886  0.02575272  0.        ]]\n",
      "('Iteration', 78, 'Train loss:', <autograd.numpy.numpy_boxes.ArrayBox object at 0x7fc50d8f1098>)\n",
      "Test loss:  Autograd ArrayBox with value 145.703619301\n",
      "Target\n"
     ]
    },
    {
     "data": {
      "image/png": "[encoded data removed]",
      "text/plain": [
       "<matplotlib.figure.Figure at 0x7fc549a95ad0>"
      ]
     },
     "metadata": {},
     "output_type": "display_data"
    },
    {
     "name": "stdout",
     "output_type": "stream",
     "text": [
      "Predicted\n"
     ]
    },
    {
     "data": {
      "image/png": "[encoded data removed]",
      "text/plain": [
       "<matplotlib.figure.Figure at 0x7fc54ffb16d0>"
      ]
     },
     "metadata": {},
     "output_type": "display_data"
    },
    {
     "name": "stdout",
     "output_type": "stream",
     "text": [
      "L\n",
      "Autograd ArrayBox with value [[ 0.          0.10747264  0.08252941  0.06589196  0.05573431  0.04986621\n",
      "   0.04658501  0.04478227  0.04379721  0.04325611]\n",
      " [ 0.10745164  0.          0.06993436  0.05760215  0.0496826   0.04496454\n",
      "   0.04227934  0.04078953  0.03997111  0.0395202 ]\n",
      " [ 0.08250174  0.06992491  0.          0.04955635  0.04357809  0.03990472\n",
      "   0.03777553  0.03658193  0.03592249  0.03555802]\n",
      " [ 0.0658654   0.05759079  0.04955335  0.          0.03844285  0.0355553\n",
      "   0.03385509  0.03289334  0.03235931  0.03206333]\n",
      " [ 0.05571151  0.04967256  0.04357515  0.0384425   0.          0.03236825\n",
      "   0.03095316  0.03014733  0.02969819  0.02944874]\n",
      " [ 0.04984722  0.04495659  0.03990284  0.03555555  0.03236871  0.\n",
      "   0.02905375  0.02834269  0.0279454   0.02772444]\n",
      " [ 0.04656903  0.04227328  0.03777476  0.03385608  0.03095421  0.0290543\n",
      "   0.          0.02725237  0.02688489  0.02668034]\n",
      " [ 0.04476837  0.04078485  0.03658205  0.03289495  0.03014888  0.02834371\n",
      "   0.02725282  0.          0.02627541  0.02608   ]\n",
      " [ 0.04378462  0.03996732  0.0359232   0.03236134  0.02970009  0.02794673\n",
      "   0.02688564  0.02627571  0.          0.02574358]\n",
      " [ 0.04324427  0.03951693  0.03555907  0.0320656   0.02945084  0.02772595\n",
      "   0.02668126  0.02608047  0.02574375  0.        ]]\n",
      "('Iteration', 81, 'Train loss:', <autograd.numpy.numpy_boxes.ArrayBox object at 0x7fc509484ea8>)\n",
      "Test loss:  Autograd ArrayBox with value 145.725737285\n",
      "Target\n"
     ]
    },
    {
     "data": {
      "image/png": "[encoded data removed]",
      "text/plain": [
       "<matplotlib.figure.Figure at 0x7fc541c40c90>"
      ]
     },
     "metadata": {},
     "output_type": "display_data"
    },
    {
     "name": "stdout",
     "output_type": "stream",
     "text": [
      "Predicted\n"
     ]
    },
    {
     "data": {
      "image/png": "[encoded data removed]",
      "text/plain": [
       "<matplotlib.figure.Figure at 0x7fc5498a3490>"
      ]
     },
     "metadata": {},
     "output_type": "display_data"
    },
    {
     "name": "stdout",
     "output_type": "stream",
     "text": [
      "L\n",
      "Autograd ArrayBox with value [[ 0.          0.10749922  0.08253083  0.06588303  0.05572419  0.04985859\n",
      "   0.04658055  0.04478051  0.04379751  0.04325797]\n",
      " [ 0.10747429  0.          0.06992514  0.05758702  0.04966814  0.04495351\n",
      "   0.04227201  0.04078519  0.03996894  0.03951959]\n",
      " [ 0.08249804  0.06991404  0.          0.04953623  0.04356014  0.03989079\n",
      "   0.03776548  0.03657491  0.0359176   0.03555461]\n",
      " [ 0.0658517   0.05757398  0.04953304  0.          0.03842454  0.03554083\n",
      "   0.03384422  0.03288523  0.03235313  0.03205846]\n",
      " [ 0.05569751  0.04965705  0.04355747  0.03842456  0.          0.03235575\n",
      "   0.03094376  0.03014032  0.02969286  0.02944453]\n",
      " [ 0.0498366   0.04494524  0.03988971  0.03554189  0.03235662  0.\n",
      "   0.02904695  0.02833796  0.02794213  0.02772216]\n",
      " [ 0.04656226  0.0422662   0.03776599  0.03384639  0.03094556  0.02904783\n",
      "   0.          0.02724999  0.02688381  0.02668015]\n",
      " [ 0.04476475  0.04078117  0.03657662  0.03288828  0.03014285  0.02833951\n",
      "   0.02725065  0.          0.02627611  0.02608153]\n",
      " [ 0.04378333  0.03996607  0.03592011  0.03235677  0.02969587  0.02794413\n",
      "   0.02688491  0.02627654  0.          0.02574634]\n",
      " [ 0.0432447   0.03951737  0.03555757  0.03206243  0.02944782  0.02772441\n",
      "   0.02668149  0.0260822   0.02574658  0.        ]]\n",
      "('Iteration', 84, 'Train loss:', <autograd.numpy.numpy_boxes.ArrayBox object at 0x7fc53c0a8290>)\n",
      "Test loss:  Autograd ArrayBox with value 145.739935846\n",
      "Target\n"
     ]
    },
    {
     "data": {
      "image/png": "[encoded data removed]",
      "text/plain": [
       "<matplotlib.figure.Figure at 0x7fc53ab12e50>"
      ]
     },
     "metadata": {},
     "output_type": "display_data"
    },
    {
     "name": "stdout",
     "output_type": "stream",
     "text": [
      "Predicted\n"
     ]
    },
    {
     "data": {
      "image/png": "[encoded data removed]",
      "text/plain": [
       "<matplotlib.figure.Figure at 0x7fc53a969a50>"
      ]
     },
     "metadata": {},
     "output_type": "display_data"
    },
    {
     "name": "stdout",
     "output_type": "stream",
     "text": [
      "L\n",
      "Autograd ArrayBox with value [[ 0.          0.10749397  0.08252998  0.0658842   0.05572584  0.04986001\n",
      "   0.04658157  0.04478115  0.04379787  0.04325815]\n",
      " [ 0.10746979  0.          0.06992574  0.05758893  0.04967032  0.04495544\n",
      "   0.04227356  0.04078639  0.03996989  0.03952038]\n",
      " [ 0.08249822  0.06991498  0.          0.0495387   0.04356252  0.03989278\n",
      "   0.03776706  0.03657614  0.03591859  0.03555544]\n",
      " [ 0.06585397  0.05757632  0.0495356   0.          0.03842682  0.03554267\n",
      "   0.03384564  0.03288631  0.03235398  0.03205915]\n",
      " [ 0.05570021  0.04965965  0.04355993  0.03842683  0.          0.03235726\n",
      "   0.03094487  0.03014112  0.02969344  0.02944498]\n",
      " [ 0.04983902  0.04494757  0.03989178  0.0355437   0.0323581   0.\n",
      "   0.02904769  0.02833842  0.02794239  0.02772228]\n",
      " [ 0.04656421  0.04226813  0.03776762  0.03384776  0.03094663  0.02904855\n",
      "   0.          0.02725012  0.02688376  0.02667997]\n",
      " [ 0.04476629  0.04078273  0.03657789  0.0328893   0.03014359  0.02833993\n",
      "   0.02725077  0.          0.0262758   0.0260811 ]\n",
      " [ 0.04378456  0.03996737  0.03592112  0.03235754  0.02969639  0.02794434\n",
      "   0.02688482  0.02627622  0.          0.02574573]\n",
      " [ 0.04324574  0.03951851  0.03555842  0.03206304  0.02944819  0.02772448\n",
      "   0.02668127  0.02608175  0.02574597  0.        ]]\n",
      "('Iteration', 87, 'Train loss:', <autograd.numpy.numpy_boxes.ArrayBox object at 0x7fc5342baf38>)\n",
      "Test loss:  Autograd ArrayBox with value 145.717433586\n",
      "Target\n"
     ]
    },
    {
     "data": {
      "image/png": "[encoded data removed]",
      "text/plain": [
       "<matplotlib.figure.Figure at 0x7fc532d14050>"
      ]
     },
     "metadata": {},
     "output_type": "display_data"
    },
    {
     "name": "stdout",
     "output_type": "stream",
     "text": [
      "Predicted\n"
     ]
    },
    {
     "data": {
      "image/png": "[encoded data removed]",
      "text/plain": [
       "<matplotlib.figure.Figure at 0x7fc541af1350>"
      ]
     },
     "metadata": {},
     "output_type": "display_data"
    },
    {
     "name": "stdout",
     "output_type": "stream",
     "text": [
      "L\n",
      "Autograd ArrayBox with value [[ 0.          0.10747742  0.08252929  0.06588996  0.05573225  0.04986477\n",
      "   0.04658427  0.04478211  0.04379751  0.04325678]\n",
      " [ 0.10745576  0.          0.06993173  0.05759863  0.04967963  0.04496262\n",
      "   0.04227842  0.04078938  0.0399715   0.03952099]\n",
      " [ 0.08250082  0.06992208  0.          0.04955176  0.0435744   0.03990228\n",
      "   0.0377742   0.03658144  0.03592257  0.03555849]\n",
      " [ 0.06586277  0.05758723  0.04954889  0.          0.03843931  0.03555292\n",
      "   0.03385374  0.03289276  0.03235925  0.03206362]\n",
      " [ 0.05570907  0.04966981  0.04357183  0.03843918  0.          0.03236658\n",
      "   0.03095236  0.03014718  0.0296985   0.02944935]\n",
      " [ 0.04984565  0.04495516  0.03990099  0.03555358  0.03236722  0.\n",
      "   0.02905375  0.02834325  0.02794635  0.02772565]\n",
      " [ 0.04656835  0.04227304  0.03777421  0.0338553   0.03095374  0.02905444\n",
      "   0.          0.02725362  0.02688648  0.02668215]\n",
      " [ 0.04476839  0.04078551  0.03658244  0.03289503  0.03014915  0.02834448\n",
      "   0.02725415  0.          0.02627749  0.02608229]\n",
      " [ 0.04378516  0.03996862  0.03592423  0.03236201  0.02970086  0.02794795\n",
      "   0.02688736  0.02627784  0.          0.02574621]\n",
      " [ 0.04324521  0.03951866  0.03556054  0.03206665  0.02945194  0.02772745\n",
      "   0.02668324  0.02608284  0.02574641  0.        ]]\n",
      "('Iteration', 90, 'Train loss:', <autograd.numpy.numpy_boxes.ArrayBox object at 0x7fc529f41c68>)\n",
      "Test loss:  Autograd ArrayBox with value 145.690412151\n",
      "Target\n"
     ]
    },
    {
     "data": {
      "image/png": "[encoded data removed]",
      "text/plain": [
       "<matplotlib.figure.Figure at 0x7fc52900a250>"
      ]
     },
     "metadata": {},
     "output_type": "display_data"
    },
    {
     "name": "stdout",
     "output_type": "stream",
     "text": [
      "Predicted\n"
     ]
    },
    {
     "data": {
      "image/png": "[encoded data removed]",
      "text/plain": [
       "<matplotlib.figure.Figure at 0x7fc541af1310>"
      ]
     },
     "metadata": {},
     "output_type": "display_data"
    },
    {
     "name": "stdout",
     "output_type": "stream",
     "text": [
      "L\n",
      "Autograd ArrayBox with value [[ 0.          0.10747696  0.08253006  0.06589087  0.05573284  0.049865\n",
      "   0.04658426  0.04478198  0.04379735  0.04325659]\n",
      " [ 0.10745522  0.          0.06993313  0.05759961  0.04967989  0.04496226\n",
      "   0.04227768  0.04078844  0.0399705   0.03951996]\n",
      " [ 0.0825013   0.06992318  0.          0.04955203  0.04357373  0.03990091\n",
      "   0.03777241  0.03657944  0.03592051  0.03555641]\n",
      " [ 0.0658632   0.05758759  0.04954882  0.          0.0384374   0.03555036\n",
      "   0.03385081  0.03288967  0.03235612  0.03206049]\n",
      " [ 0.05570905  0.04966926  0.04357061  0.03843705  0.          0.03236304\n",
      "   0.03094852  0.03014323  0.02969453  0.02944539]\n",
      " [ 0.0498452   0.04495389  0.03989895  0.03555069  0.03236357  0.\n",
      "   0.02904937  0.02833879  0.02794188  0.0277212 ]\n",
      " [ 0.0465676   0.04227133  0.03777169  0.03385199  0.03094975  0.02905001\n",
      "   0.          0.02724892  0.02688178  0.02667749]\n",
      " [ 0.04476751  0.04078359  0.03657971  0.03289155  0.03014503  0.02833996\n",
      "   0.02724943  0.          0.02627273  0.02607756]\n",
      " [ 0.04378425  0.03996662  0.03592144  0.03235848  0.02969673  0.02794342\n",
      "   0.02688266  0.02627308  0.          0.0257415 ]\n",
      " [ 0.04324428  0.03951664  0.03555773  0.03206314  0.02944782  0.02772296\n",
      "   0.02667857  0.02607812  0.0257417   0.        ]]\n",
      "('Iteration', 93, 'Train loss:', <autograd.numpy.numpy_boxes.ArrayBox object at 0x7fc523207fc8>)\n",
      "Test loss:  Autograd ArrayBox with value 145.696528547\n",
      "Target\n"
     ]
    },
    {
     "data": {
      "image/png": "[encoded data removed]",
      "text/plain": [
       "<matplotlib.figure.Figure at 0x7fc5219443d0>"
      ]
     },
     "metadata": {},
     "output_type": "display_data"
    },
    {
     "name": "stdout",
     "output_type": "stream",
     "text": [
      "Predicted\n"
     ]
    },
    {
     "data": {
      "image/png": "[encoded data removed]",
      "text/plain": [
       "<matplotlib.figure.Figure at 0x7fc528fe69d0>"
      ]
     },
     "metadata": {},
     "output_type": "display_data"
    },
    {
     "name": "stdout",
     "output_type": "stream",
     "text": [
      "L\n",
      "Autograd ArrayBox with value [[ 0.          0.10747983  0.08252943  0.06588919  0.05573139  0.04986413\n",
      "   0.04658391  0.04478196  0.04379749  0.04325685]\n",
      " [ 0.10745777  0.          0.06993112  0.05759749  0.04967845  0.04496161\n",
      "   0.04227763  0.04078875  0.03997098  0.03952054]\n",
      " [ 0.08250044  0.0699213   0.          0.04955036  0.04357303  0.03990106\n",
      "   0.03777313  0.03658048  0.03592169  0.03555765]\n",
      " [ 0.0658615   0.05758586  0.04954741  0.          0.0384379   0.03555164\n",
      "   0.03385257  0.03289166  0.0323582   0.03206259]\n",
      " [ 0.05570776  0.04966839  0.04357035  0.03843773  0.          0.0323653\n",
      "   0.03095116  0.03014604  0.02969738  0.02944824]\n",
      " [ 0.04984462  0.04495392  0.03989964  0.03555222  0.03236591  0.\n",
      "   0.02905256  0.02834209  0.02794521  0.02772451]\n",
      " [ 0.04656764  0.04227202  0.03777299  0.03385403  0.03095248  0.02905322\n",
      "   0.          0.02725245  0.02688532  0.026681  ]\n",
      " [ 0.04476792  0.04078466  0.03658134  0.03289382  0.03014793  0.02834328\n",
      "   0.02725296  0.          0.02627633  0.02608113]\n",
      " [ 0.04378484  0.03996787  0.0359232   0.03236084  0.02969966  0.02794675\n",
      "   0.02688618  0.02627666  0.          0.02574504]\n",
      " [ 0.04324499  0.03951799  0.03555953  0.0320655   0.02945074  0.02772626\n",
      "   0.02668205  0.02608166  0.02574523  0.        ]]\n",
      "('Iteration', 96, 'Train loss:', <autograd.numpy.numpy_boxes.ArrayBox object at 0x7fc51a841cf8>)\n",
      "Test loss:  Autograd ArrayBox with value 145.776149234\n",
      "Target\n"
     ]
    },
    {
     "data": {
      "image/png": "[encoded data removed]",
      "text/plain": [
       "<matplotlib.figure.Figure at 0x7fc519027590>"
      ]
     },
     "metadata": {},
     "output_type": "display_data"
    },
    {
     "name": "stdout",
     "output_type": "stream",
     "text": [
      "Predicted\n"
     ]
    },
    {
     "data": {
      "image/png": "[encoded data removed]",
      "text/plain": [
       "<matplotlib.figure.Figure at 0x7fc528f566d0>"
      ]
     },
     "metadata": {},
     "output_type": "display_data"
    },
    {
     "name": "stdout",
     "output_type": "stream",
     "text": [
      "L\n",
      "Autograd ArrayBox with value [[ 0.          0.10749868  0.08253179  0.06588422  0.05572506  0.04985903\n",
      "   0.04658065  0.04478038  0.04379725  0.04325762]\n",
      " [ 0.10747354  0.          0.06992726  0.05758853  0.0496685   0.04495284\n",
      "   0.0422706   0.04078331  0.03996679  0.03951728]\n",
      " [ 0.08249845  0.06991563  0.          0.04953701  0.0435594   0.03988871\n",
      "   0.03776247  0.03657131  0.03591366  0.03555045]\n",
      " [ 0.06585206  0.05757441  0.04953322  0.          0.03842226  0.03553732\n",
      "   0.03383983  0.03288027  0.03234784  0.03205296]\n",
      " [ 0.05569731  0.04965594  0.04355566  0.03842181  0.          0.03235086\n",
      "   0.03093813  0.03013421  0.02968646  0.02943796]\n",
      " [ 0.04983585  0.04494284  0.03988629  0.03553762  0.03235144  0.\n",
      "   0.02904033  0.02833093  0.02793485  0.02771473]\n",
      " [ 0.04656108  0.04226292  0.03776145  0.03384106  0.03093946  0.02904103\n",
      "   0.          0.02724231  0.02687591  0.02667211]\n",
      " [ 0.04476331  0.04077734  0.03657139  0.03288229  0.03013617  0.02833221\n",
      "   0.02724287  0.          0.0262678   0.02607309]\n",
      " [ 0.04378173  0.03996191  0.03591448  0.03235038  0.02968884  0.02793652\n",
      "   0.02687685  0.02626817  0.          0.02573766]\n",
      " [ 0.043243    0.03951304  0.0355517   0.03205581  0.02944059  0.02771662\n",
      "   0.02667326  0.02607368  0.02573787  0.        ]]\n",
      "('Iteration', 99, 'Train loss:', <autograd.numpy.numpy_boxes.ArrayBox object at 0x7fc512d25a28>)\n",
      "Test loss:  Autograd ArrayBox with value 145.741296488\n",
      "Target\n"
     ]
    },
    {
     "data": {
      "image/png": "[encoded data removed]",
      "text/plain": [
       "<matplotlib.figure.Figure at 0x7fc510f17750>"
      ]
     },
     "metadata": {},
     "output_type": "display_data"
    },
    {
     "name": "stdout",
     "output_type": "stream",
     "text": [
      "Predicted\n"
     ]
    },
    {
     "data": {
      "image/png": "[encoded data removed]",
      "text/plain": [
       "<matplotlib.figure.Figure at 0x7fc518f11710>"
      ]
     },
     "metadata": {},
     "output_type": "display_data"
    },
    {
     "name": "stdout",
     "output_type": "stream",
     "text": [
      "L\n",
      "Autograd ArrayBox with value [[ 0.          0.10748864  0.08252979  0.06588601  0.05572778  0.04986137\n",
      "   0.04658226  0.04478132  0.04379772  0.04325779]\n",
      " [ 0.10746543  0.          0.06992739  0.05759172  0.04967314  0.04495781\n",
      "   0.04227541  0.04078784  0.03997109  0.03952143]\n",
      " [ 0.0824993   0.06991708  0.          0.04954214  0.0435659   0.03989589\n",
      "   0.03776986  0.03657871  0.03592103  0.0355578 ]\n",
      " [ 0.06585699  0.05757969  0.04953926  0.          0.03843042  0.0355461\n",
      "   0.03384891  0.03288948  0.03235709  0.03206224]\n",
      " [ 0.05570319  0.04966308  0.04356366  0.03843058  0.          0.03236083\n",
      "   0.03094837  0.03014457  0.02969688  0.02944843]\n",
      " [ 0.04984125  0.04495052  0.03989529  0.03554739  0.03236179  0.\n",
      "   0.02905133  0.02834204  0.02794603  0.02772594]\n",
      " [ 0.04656565  0.04227053  0.03777087  0.03385137  0.03095032  0.02905226\n",
      "   0.          0.02725386  0.02688753  0.02668377]\n",
      " [ 0.04476712  0.04078472  0.03658094  0.03289285  0.0301473   0.0283437\n",
      "   0.02725457  0.          0.02627966  0.02608499]\n",
      " [ 0.04378503  0.03996909  0.03592406  0.03236106  0.02970012  0.02794815\n",
      "   0.02688868  0.02628012  0.          0.0257497 ]\n",
      " [ 0.04324597  0.03952008  0.03556129  0.03206657  0.02945196  0.02772834\n",
      "   0.02668519  0.02608571  0.02574997  0.        ]]\n",
      "('Iteration', 102, 'Train loss:', <autograd.numpy.numpy_boxes.ArrayBox object at 0x7fc544285758>)\n",
      "Test loss:  Autograd ArrayBox with value 145.704602931\n",
      "Target\n"
     ]
    },
    {
     "data": {
      "image/png": "[encoded data removed]",
      "text/plain": [
       "<matplotlib.figure.Figure at 0x7fc51ec10910>"
      ]
     },
     "metadata": {},
     "output_type": "display_data"
    },
    {
     "name": "stdout",
     "output_type": "stream",
     "text": [
      "Predicted\n"
     ]
    },
    {
     "data": {
      "image/png": "[encoded data removed]",
      "text/plain": [
       "<matplotlib.figure.Figure at 0x7fc51ec10f10>"
      ]
     },
     "metadata": {},
     "output_type": "display_data"
    },
    {
     "name": "stdout",
     "output_type": "stream",
     "text": [
      "L\n",
      "Autograd ArrayBox with value [[ 0.          0.10748592  0.0825294   0.06588677  0.05572879  0.04986221\n",
      "   0.04658279  0.04478151  0.04379754  0.04325726]\n",
      " [ 0.10746314  0.          0.06992851  0.05759384  0.04967534  0.04495958\n",
      "   0.04227663  0.04078854  0.03997133  0.03952127]\n",
      " [ 0.0824996   0.06991861  0.          0.0495461   0.04356979  0.03989913\n",
      "   0.03777235  0.03658056  0.03592234  0.03555869]\n",
      " [ 0.06585846  0.05758235  0.04954338  0.          0.0384352   0.03555017\n",
      "   0.03385217  0.03289205  0.03235913  0.03206388]\n",
      " [ 0.0557048   0.0496657   0.04356761  0.03843528  0.          0.03236472\n",
      "   0.03095149  0.03014705  0.02969886  0.02945003]\n",
      " [ 0.04984255  0.04495252  0.03989842  0.03555122  0.03236553  0.\n",
      "   0.02905377  0.02834388  0.02794741  0.02772698]\n",
      " [ 0.04656651  0.04227181  0.03777307  0.03385423  0.03095315  0.02905456\n",
      "   0.          0.02725496  0.02688819  0.02668411]\n",
      " [ 0.04476756  0.04078535  0.03658237  0.03289491  0.03014936  0.02834529\n",
      "   0.02725556  0.          0.02627972  0.02608475]\n",
      " [ 0.04378505  0.03996918  0.03592487  0.03236252  0.02970161  0.02794922\n",
      "   0.02688918  0.02628011  0.          0.02574901]\n",
      " [ 0.04324558  0.03951971  0.03556163  0.03206756  0.02945303  0.02772902\n",
      "   0.02668532  0.02608535  0.02574923  0.        ]]\n",
      "('Iteration', 105, 'Train loss:', <autograd.numpy.numpy_boxes.ArrayBox object at 0x7fc553429488>)\n",
      "Test loss:  Autograd ArrayBox with value 145.734620012\n",
      "Target\n"
     ]
    },
    {
     "data": {
      "image/png": "[encoded data removed]",
      "text/plain": [
       "<matplotlib.figure.Figure at 0x7fc569c87ad0>"
      ]
     },
     "metadata": {},
     "output_type": "display_data"
    },
    {
     "name": "stdout",
     "output_type": "stream",
     "text": [
      "Predicted\n"
     ]
    },
    {
     "data": {
      "image/png": "[encoded data removed]",
      "text/plain": [
       "<matplotlib.figure.Figure at 0x7fc51e7466d0>"
      ]
     },
     "metadata": {},
     "output_type": "display_data"
    },
    {
     "name": "stdout",
     "output_type": "stream",
     "text": [
      "L\n",
      "Autograd ArrayBox with value [[ 0.          0.1074937   0.08253131  0.06588569  0.05572685  0.04986046\n",
      "   0.04658155  0.04478081  0.04379732  0.04325744]\n",
      " [ 0.10746929  0.          0.06992848  0.05759095  0.04967102  0.04495491\n",
      "   0.04227212  0.04078435  0.03996748  0.03951773]\n",
      " [ 0.08249896  0.06991719  0.          0.04954028  0.04356248  0.03989127\n",
      "   0.03776446  0.03657283  0.03591483  0.0355514 ]\n",
      " [ 0.06585451  0.05757725  0.04953657  0.          0.03842553  0.03554008\n",
      "   0.03384206  0.03288208  0.03234933  0.03205425]\n",
      " [ 0.05569998  0.04965881  0.04355881  0.03842507  0.          0.03235347\n",
      "   0.03094029  0.030136    0.02968797  0.02943929]\n",
      " [ 0.04983803  0.04494519  0.03988885  0.03554032  0.03235401  0.\n",
      "   0.02904219  0.02833247  0.02793615  0.02771586]\n",
      " [ 0.04656263  0.04226465  0.03776339  0.03384319  0.03094154  0.02904286\n",
      "   0.          0.02724353  0.02687691  0.02667296]\n",
      " [ 0.04476432  0.04077853  0.03657283  0.03288396  0.03013784  0.02833368\n",
      "   0.02724406  0.          0.02626852  0.02607368]\n",
      " [ 0.04378234  0.03996272  0.03591554  0.03235171  0.02969022  0.02793773\n",
      "   0.0268778   0.02626888  0.          0.02573804]\n",
      " [ 0.04324334  0.03951359  0.03555252  0.03205692  0.02944178  0.02771765\n",
      "   0.02667405  0.02607423  0.02573824  0.        ]]\n",
      "('Iteration', 108, 'Train loss:', <autograd.numpy.numpy_boxes.ArrayBox object at 0x7fc559f061b8>)\n",
      "Test loss:  Autograd ArrayBox with value 145.705816605\n",
      "Target\n"
     ]
    },
    {
     "data": {
      "image/png": "[encoded data removed]",
      "text/plain": [
       "<matplotlib.figure.Figure at 0x7fc550804c90>"
      ]
     },
     "metadata": {},
     "output_type": "display_data"
    },
    {
     "name": "stdout",
     "output_type": "stream",
     "text": [
      "Predicted\n"
     ]
    },
    {
     "data": {
      "image/png": "[encoded data removed]",
      "text/plain": [
       "<matplotlib.figure.Figure at 0x7fc56dbab490>"
      ]
     },
     "metadata": {},
     "output_type": "display_data"
    },
    {
     "name": "stdout",
     "output_type": "stream",
     "text": [
      "L\n",
      "Autograd ArrayBox with value [[ 0.          0.10748129  0.08252906  0.06588814  0.05573034  0.04986334\n",
      "   0.04658343  0.04478179  0.04379762  0.04325725]\n",
      " [ 0.10745929  0.          0.06992954  0.0575958   0.04967735  0.04496129\n",
      "   0.04227799  0.04078965  0.03997232  0.03952222]\n",
      " [ 0.08250028  0.06991993  0.          0.04954824  0.04357185  0.03990101\n",
      "   0.03777407  0.03658216  0.03592392  0.03556029]\n",
      " [ 0.06586083  0.05758468  0.04954564  0.          0.0384372   0.03555212\n",
      "   0.0338541   0.03289399  0.03236111  0.03206592]\n",
      " [ 0.05570726  0.04966811  0.04356988  0.03843741  0.          0.03236684\n",
      "   0.03095368  0.03014932  0.02970121  0.02945246]\n",
      " [ 0.0498445   0.04495465  0.0399006   0.0355534   0.03236776  0.\n",
      "   0.02905625  0.02834649  0.02795012  0.02772978]\n",
      " [ 0.0465679   0.04227361  0.03777515  0.03385647  0.03095554  0.02905714\n",
      "   0.          0.02725785  0.0268912   0.02668722]\n",
      " [ 0.04476854  0.04078691  0.03658438  0.03289722  0.0301519   0.02834806\n",
      "   0.02725852  0.          0.02628296  0.02608809]\n",
      " [ 0.04378581  0.03997063  0.03592689  0.03236491  0.02970428  0.02795213\n",
      "   0.0268923   0.02628339  0.          0.02575252]\n",
      " [ 0.04324625  0.03952114  0.03556369  0.03207005  0.02945581  0.02773206\n",
      "   0.02668857  0.02608877  0.02575277  0.        ]]\n",
      "('Iteration', 111, 'Train loss:', <autograd.numpy.numpy_boxes.ArrayBox object at 0x7fc521862758>)\n",
      "Test loss:  Autograd ArrayBox with value 145.690161993\n",
      "Target\n"
     ]
    },
    {
     "data": {
      "image/png": "[encoded data removed]",
      "text/plain": [
       "<matplotlib.figure.Figure at 0x7fc5444d3250>"
      ]
     },
     "metadata": {},
     "output_type": "display_data"
    },
    {
     "name": "stdout",
     "output_type": "stream",
     "text": [
      "Predicted\n"
     ]
    },
    {
     "data": {
      "image/png": "[encoded data removed]",
      "text/plain": [
       "<matplotlib.figure.Figure at 0x7fc5177d3f50>"
      ]
     },
     "metadata": {},
     "output_type": "display_data"
    },
    {
     "name": "stdout",
     "output_type": "stream",
     "text": [
      "L\n",
      "Autograd ArrayBox with value [[ 0.          0.10747025  0.08252951  0.06589292  0.05573525  0.04986685\n",
      "   0.04658537  0.04478246  0.04379735  0.04325625]\n",
      " [ 0.10744956  0.          0.06993498  0.05760306  0.04968339  0.04496513\n",
      "   0.04227979  0.04078992  0.03997153  0.03952067]\n",
      " [ 0.08250217  0.06992553  0.          0.04955668  0.04357813  0.03990462\n",
      "   0.03777538  0.03658183  0.03592247  0.03555809]\n",
      " [ 0.06586663  0.05759165  0.04955363  0.          0.0384421   0.0355544\n",
      "   0.03385421  0.03289254  0.03235863  0.03206275]\n",
      " [ 0.05571267  0.04967331  0.04357516  0.03844176  0.          0.03236691\n",
      "   0.03095185  0.03014612  0.02969711  0.02944777]\n",
      " [ 0.04984807  0.04495719  0.03990275  0.03555472  0.03236742  0.\n",
      "   0.02905236  0.0283414   0.02794424  0.02772338]\n",
      " [ 0.04656959  0.04227378  0.0377747   0.03385533  0.03095302  0.02905297\n",
      "   0.          0.02725118  0.02688382  0.02667937]\n",
      " [ 0.04476876  0.04078533  0.03658208  0.03289434  0.03014785  0.02834253\n",
      "   0.02725168  0.          0.02627449  0.02607917]\n",
      " [ 0.04378496  0.03996786  0.03592336  0.03236089  0.02969922  0.02794572\n",
      "   0.02688466  0.02627482  0.          0.0257429 ]\n",
      " [ 0.04324462  0.03951755  0.03555935  0.03206529  0.02945011  0.02772508\n",
      "   0.02668041  0.02607972  0.02574311  0.        ]]\n",
      "('Iteration', 114, 'Train loss:', <autograd.numpy.numpy_boxes.ArrayBox object at 0x7fc53b4f8fc8>)\n",
      "Test loss:  Autograd ArrayBox with value 145.696588284\n",
      "Target\n"
     ]
    },
    {
     "data": {
      "image/png": "[encoded data removed]",
      "text/plain": [
       "<matplotlib.figure.Figure at 0x7fc537f4b3d0>"
      ]
     },
     "metadata": {},
     "output_type": "display_data"
    },
    {
     "name": "stdout",
     "output_type": "stream",
     "text": [
      "Predicted\n"
     ]
    },
    {
     "data": {
      "image/png": "[encoded data removed]",
      "text/plain": [
       "<matplotlib.figure.Figure at 0x7fc5442d9050>"
      ]
     },
     "metadata": {},
     "output_type": "display_data"
    },
    {
     "name": "stdout",
     "output_type": "stream",
     "text": [
      "L\n",
      "Autograd ArrayBox with value [[ 0.          0.10748298  0.08252955  0.06588804  0.05573008  0.04986312\n",
      "   0.04658329  0.04478171  0.04379756  0.04325717]\n",
      " [ 0.10746052  0.          0.06992983  0.05759549  0.0496766   0.04496027\n",
      "   0.04227683  0.04078841  0.039971    0.03952083]\n",
      " [ 0.08250004  0.06991985  0.          0.04954756  0.04357061  0.03989931\n",
      "   0.03777203  0.0365799   0.03592149  0.03555774]\n",
      " [ 0.0658599   0.05758373  0.04954464  0.          0.0384354   0.03554982\n",
      "   0.03385141  0.03289102  0.03235794  0.03206261]\n",
      " [ 0.05570613  0.04966655  0.04356808  0.03843535  0.          0.03236392\n",
      "   0.03095039  0.03014574  0.02969744  0.02944855]\n",
      " [ 0.04984341  0.04495273  0.03989817  0.03555066  0.03236466  0.\n",
      "   0.0290524   0.02834237  0.02794581  0.02772534]\n",
      " [ 0.04656691  0.04227148  0.03777229  0.03385322  0.03095193  0.02905316\n",
      "   0.          0.0272533   0.02688647  0.02668236]\n",
      " [ 0.04476763  0.04078466  0.03658123  0.0328936   0.03014793  0.02834373\n",
      "   0.02725388  0.          0.02627791  0.02608292]\n",
      " [ 0.0437849   0.03996828  0.03592353  0.03236105  0.02970006  0.02794757\n",
      "   0.02688744  0.02627829  0.          0.02574713]\n",
      " [ 0.04324533  0.0395187   0.03556018  0.03206601  0.02945142  0.02772732\n",
      "   0.02668355  0.02608352  0.02574735  0.        ]]\n",
      "('Iteration', 117, 'Train loss:', <autograd.numpy.numpy_boxes.ArrayBox object at 0x7fc52edc8ef0>)\n",
      "Test loss:  Autograd ArrayBox with value 145.73210183\n",
      "Target\n"
     ]
    },
    {
     "data": {
      "image/png": "[encoded data removed]",
      "text/plain": [
       "<matplotlib.figure.Figure at 0x7fc5299d0590>"
      ]
     },
     "metadata": {},
     "output_type": "display_data"
    },
    {
     "name": "stdout",
     "output_type": "stream",
     "text": [
      "Predicted\n"
     ]
    },
    {
     "data": {
      "image/png": "[encoded data removed]",
      "text/plain": [
       "<matplotlib.figure.Figure at 0x7fc5441986d0>"
      ]
     },
     "metadata": {},
     "output_type": "display_data"
    },
    {
     "name": "stdout",
     "output_type": "stream",
     "text": [
      "L\n",
      "Autograd ArrayBox with value [[ 0.          0.10748708  0.08253062  0.06588752  0.05572907  0.04986218\n",
      "   0.04658261  0.04478131  0.0437974   0.04325721]\n",
      " [ 0.10746381  0.          0.06992979  0.057594    0.04967445  0.04495803\n",
      "   0.04227474  0.04078654  0.03996933  0.03951933]\n",
      " [ 0.08249985  0.06991916  0.          0.04954464  0.04356708  0.03989563\n",
      "   0.03776846  0.0365765   0.03591826  0.03555464]\n",
      " [ 0.06585794  0.05758124  0.04954131  0.          0.03843077  0.03554507\n",
      "   0.03384674  0.0328865   0.03235357  0.03205835]\n",
      " [ 0.05570369  0.04966326  0.04356394  0.03843049  0.          0.03235858\n",
      "   0.03094512  0.03014061  0.02969243  0.02944364]\n",
      " [ 0.0498411   0.04494932  0.03989381  0.03554559  0.03235921  0.\n",
      "   0.02904692  0.02833701  0.02794056  0.02772019]\n",
      " [ 0.04656492  0.04226825  0.03776801  0.03384821  0.03094653  0.02904765\n",
      "   0.          0.02724794  0.02688121  0.02667718]\n",
      " [ 0.04476596  0.04078167  0.03657713  0.03288874  0.03014264  0.02833832\n",
      "   0.0272485   0.          0.02627272  0.0260778 ]\n",
      " [ 0.04378352  0.03996551  0.0359196   0.03235632  0.02969489  0.02794226\n",
      "   0.02688215  0.0262731   0.          0.0257421 ]\n",
      " [ 0.04324417  0.03951612  0.0355564   0.0320614   0.02944635  0.02772211\n",
      "   0.02667835  0.0260784   0.02574232  0.        ]]\n",
      "('Iteration', 120, 'Train loss:', <autograd.numpy.numpy_boxes.ArrayBox object at 0x7fc51fa39c20>)\n",
      "Test loss:  Autograd ArrayBox with value 145.702949621\n",
      "Target\n"
     ]
    },
    {
     "data": {
      "image/png": "[encoded data removed]",
      "text/plain": [
       "<matplotlib.figure.Figure at 0x7fc51c596750>"
      ]
     },
     "metadata": {},
     "output_type": "display_data"
    },
    {
     "name": "stdout",
     "output_type": "stream",
     "text": [
      "Predicted\n"
     ]
    },
    {
     "data": {
      "image/png": "[encoded data removed]",
      "text/plain": [
       "<matplotlib.figure.Figure at 0x7fc537f081d0>"
      ]
     },
     "metadata": {},
     "output_type": "display_data"
    },
    {
     "name": "stdout",
     "output_type": "stream",
     "text": [
      "L\n",
      "Autograd ArrayBox with value [[ 0.          0.10747261  0.08253038  0.06589294  0.05573495  0.04986649\n",
      "   0.04658503  0.04478215  0.04379707  0.04325602]\n",
      " [ 0.10745138  0.          0.06993551  0.05760262  0.04968235  0.04496378\n",
      "   0.04227831  0.04078837  0.03996993  0.03951907]\n",
      " [ 0.08250214  0.06992555  0.          0.04955546  0.04357638  0.03990254\n",
      "   0.03777312  0.03657945  0.03592001  0.0355556 ]\n",
      " [ 0.06586556  0.05759038  0.04955205  0.          0.0384399   0.035552\n",
      "   0.03385166  0.03288988  0.03235588  0.03205996]\n",
      " [ 0.05571121  0.04967126  0.04357285  0.03843936  0.          0.03236435\n",
      "   0.03094919  0.03014336  0.02969427  0.02944487]\n",
      " [ 0.04984654  0.04495476  0.03990002  0.03555199  0.03236473  0.\n",
      "   0.02904958  0.02833855  0.0279413   0.0277204 ]\n",
      " [ 0.04656808  0.04227118  0.03777173  0.03385238  0.03095016  0.02905012\n",
      "   0.          0.02724821  0.02688077  0.02667627]\n",
      " [ 0.04476727  0.04078264  0.03657895  0.03289123  0.03014484  0.02833955\n",
      "   0.02724866  0.          0.02627132  0.02607596]\n",
      " [ 0.0437835   0.03996511  0.03592012  0.03235767  0.02969609  0.02794262\n",
      "   0.02688152  0.02627162  0.          0.02573958]\n",
      " [ 0.04324322  0.03951478  0.03555606  0.03206199  0.0294469   0.0277219\n",
      "   0.0266772   0.02607644  0.02573976  0.        ]]\n",
      "('Iteration', 123, 'Train loss:', <autograd.numpy.numpy_boxes.ArrayBox object at 0x7fc512c78950>)\n",
      "Test loss:  Autograd ArrayBox with value 145.693591114\n",
      "Target\n"
     ]
    },
    {
     "data": {
      "image/png": "[encoded data removed]",
      "text/plain": [
       "<matplotlib.figure.Figure at 0x7fc50e5aec10>"
      ]
     },
     "metadata": {},
     "output_type": "display_data"
    },
    {
     "name": "stdout",
     "output_type": "stream",
     "text": [
      "Predicted\n"
     ]
    },
    {
     "data": {
      "image/png": "[encoded data removed]",
      "text/plain": [
       "<matplotlib.figure.Figure at 0x7fc50e5ae1d0>"
      ]
     },
     "metadata": {},
     "output_type": "display_data"
    },
    {
     "name": "stdout",
     "output_type": "stream",
     "text": [
      "L\n",
      "Autograd ArrayBox with value [[ 0.          0.10746687  0.08252941  0.0658941   0.05573654  0.04986778\n",
      "   0.04658584  0.04478256  0.04379723  0.04325603]\n",
      " [ 0.1074468   0.          0.06993582  0.0576046   0.04968507  0.04496666\n",
      "   0.04228108  0.040791    0.03997246  0.03952155]\n",
      " [ 0.08250284  0.06992662  0.          0.04955843  0.04358012  0.03990672\n",
      "   0.03777749  0.0365839   0.03592452  0.03556014]\n",
      " [ 0.06586853  0.05759356  0.04955557  0.          0.03844452  0.03555707\n",
      "   0.033857    0.0328954   0.03236151  0.03206567]\n",
      " [ 0.05571459  0.04967544  0.04357751  0.03844438  0.          0.03237012\n",
      "   0.03095522  0.03014958  0.02970061  0.0294513 ]\n",
      " [ 0.04984953  0.04495922  0.03990534  0.03555771  0.03237077  0.\n",
      "   0.02905615  0.02834528  0.02794816  0.02772734]\n",
      " [ 0.04657053  0.04227559  0.03777738  0.03385855  0.03095664  0.02905686\n",
      "   0.          0.02725532  0.026888    0.02668358]\n",
      " [ 0.04476927  0.04078694  0.03658477  0.03289768  0.0301516   0.02834657\n",
      "   0.02725588  0.          0.0262788   0.02608352]\n",
      " [ 0.04378521  0.03996934  0.03592605  0.03236429  0.02970305  0.02794983\n",
      "   0.02688893  0.02627917  0.          0.02574732]\n",
      " [ 0.04324476  0.03951897  0.03556206  0.03206873  0.02945399  0.02772923\n",
      "   0.02668473  0.02608411  0.02574754  0.        ]]\n",
      "('Iteration', 126, 'Train loss:', <autograd.numpy.numpy_boxes.ArrayBox object at 0x7fc566ff3680>)\n",
      "Test loss:  Autograd ArrayBox with value 145.692683446\n",
      "Target\n"
     ]
    },
    {
     "data": {
      "image/png": "[encoded data removed]",
      "text/plain": [
       "<matplotlib.figure.Figure at 0x7fc54f2cc5d0>"
      ]
     },
     "metadata": {},
     "output_type": "display_data"
    },
    {
     "name": "stdout",
     "output_type": "stream",
     "text": [
      "Predicted\n"
     ]
    },
    {
     "data": {
      "image/png": "[encoded data removed]",
      "text/plain": [
       "<matplotlib.figure.Figure at 0x7fc54ecac690>"
      ]
     },
     "metadata": {},
     "output_type": "display_data"
    },
    {
     "name": "stdout",
     "output_type": "stream",
     "text": [
      "L\n",
      "Autograd ArrayBox with value [[ 0.          0.10747804  0.08252981  0.06589028  0.05573238  0.04986475\n",
      "   0.04658414  0.0447819   0.04379724  0.04325649]\n",
      " [ 0.10745622  0.          0.06993242  0.05759894  0.04967956  0.04496225\n",
      "   0.04227785  0.04078866  0.03997069  0.03952015]\n",
      " [ 0.08250102  0.06992256  0.          0.04955184  0.04357416  0.03990179\n",
      "   0.03777351  0.03658061  0.03592164  0.03555752]\n",
      " [ 0.06586264  0.05758716  0.04954881  0.          0.03843899  0.03555247\n",
      "   0.03385316  0.03289206  0.03235848  0.0320628 ]\n",
      " [ 0.05570868  0.04966926  0.04357133  0.03843877  0.          0.03236617\n",
      "   0.03095188  0.03014663  0.02969788  0.02944869]\n",
      " [ 0.04984506  0.04495425  0.03990018  0.03555298  0.03236676  0.\n",
      "   0.0290533   0.02834275  0.0279458   0.02772506]\n",
      " [ 0.04656761  0.04227188  0.03777317  0.03385453  0.03095317  0.02905396\n",
      "   0.          0.02725309  0.02688591  0.02668156]\n",
      " [ 0.04476755  0.04078418  0.03658123  0.03289413  0.03014848  0.02834392\n",
      "   0.0272536   0.          0.02627687  0.02608165]\n",
      " [ 0.04378425  0.03996717  0.03592291  0.03236101  0.02970012  0.02794732\n",
      "   0.02688675  0.02627721  0.          0.02574551]\n",
      " [ 0.04324428  0.03951717  0.03555915  0.03206559  0.02945114  0.02772678\n",
      "   0.02668259  0.02608217  0.0257457   0.        ]]\n",
      "('Iteration', 129, 'Train loss:', <autograd.numpy.numpy_boxes.ArrayBox object at 0x7fc5310e93b0>)\n",
      "Test loss:  Autograd ArrayBox with value 145.725386749\n",
      "Target\n"
     ]
    },
    {
     "data": {
      "image/png": "[encoded data removed]",
      "text/plain": [
       "<matplotlib.figure.Figure at 0x7fc5276dac50>"
      ]
     },
     "metadata": {},
     "output_type": "display_data"
    },
    {
     "name": "stdout",
     "output_type": "stream",
     "text": [
      "Predicted\n"
     ]
    },
    {
     "data": {
      "image/png": "[encoded data removed]",
      "text/plain": [
       "<matplotlib.figure.Figure at 0x7fc54ecac850>"
      ]
     },
     "metadata": {},
     "output_type": "display_data"
    },
    {
     "name": "stdout",
     "output_type": "stream",
     "text": [
      "L\n",
      "Autograd ArrayBox with value [[ 0.          0.10747828  0.08253048  0.06589073  0.05573251  0.04986467\n",
      "   0.04658401  0.04478185  0.04379739  0.04325684]\n",
      " [ 0.10745627  0.          0.06993285  0.05759865  0.04967868  0.04496113\n",
      "   0.04227674  0.0407877   0.03996998  0.03951967]\n",
      " [ 0.08250122  0.06992254  0.          0.04954972  0.04357124  0.03989861\n",
      "   0.03777041  0.03657774  0.03591906  0.03555519]\n",
      " [ 0.06586249  0.0575861   0.04954631  0.          0.03843418  0.03554743\n",
      "   0.03384827  0.03288746  0.03235418  0.03205876]\n",
      " [ 0.05570817  0.04966753  0.0435679   0.03843381  0.          0.03236019\n",
      "   0.03094609  0.03014113  0.02969269  0.02944376]\n",
      " [ 0.04984438  0.04495231  0.03989651  0.03554781  0.03236078  0.\n",
      "   0.02904737  0.02833711  0.02794046  0.02771997]\n",
      " [ 0.04656692  0.04227003  0.03776965  0.03384957  0.03094744  0.02904808\n",
      "   0.          0.0272477   0.0268808   0.02667668]\n",
      " [ 0.04476698  0.04078255  0.03657802  0.03288951  0.03014311  0.02833841\n",
      "   0.02724826  0.          0.0262721   0.0260771 ]\n",
      " [ 0.04378392  0.03996585  0.03592004  0.03235676  0.0296951   0.02794215\n",
      "   0.02688175  0.02627248  0.          0.02574128]\n",
      " [ 0.0432442   0.03951613  0.0355566   0.03206166  0.02944643  0.0277219\n",
      "   0.02667786  0.02607771  0.02574151  0.        ]]\n",
      "('Iteration', 132, 'Train loss:', <autograd.numpy.numpy_boxes.ArrayBox object at 0x7fc52cfc30e0>)\n",
      "Test loss:  Autograd ArrayBox with value 145.730217387\n",
      "Target\n"
     ]
    },
    {
     "data": {
      "image/png": "[encoded data removed]",
      "text/plain": [
       "<matplotlib.figure.Figure at 0x7fc532e8ce10>"
      ]
     },
     "metadata": {},
     "output_type": "display_data"
    },
    {
     "name": "stdout",
     "output_type": "stream",
     "text": [
      "Predicted\n"
     ]
    },
    {
     "data": {
      "image/png": "[encoded data removed]",
      "text/plain": [
       "<matplotlib.figure.Figure at 0x7fc52b70ca10>"
      ]
     },
     "metadata": {},
     "output_type": "display_data"
    },
    {
     "name": "stdout",
     "output_type": "stream",
     "text": [
      "L\n",
      "Autograd ArrayBox with value [[ 0.          0.10747669  0.08252944  0.06589036  0.05573256  0.04986491\n",
      "   0.04658426  0.04478202  0.0437974   0.04325667]\n",
      " [ 0.10745517  0.          0.06993233  0.05759924  0.04968003  0.04496279\n",
      "   0.04227843  0.0407893   0.03997141  0.03952091]\n",
      " [ 0.08250113  0.06992269  0.          0.0495522   0.04357457  0.03990227\n",
      "   0.03777407  0.03658127  0.03592241  0.03555836]\n",
      " [ 0.06586328  0.05758778  0.04954928  0.          0.03843915  0.03555263\n",
      "   0.0338534   0.03289242  0.03235895  0.03206337]\n",
      " [ 0.05570943  0.04967011  0.04357193  0.038439    0.          0.03236613\n",
      "   0.03095191  0.03014677  0.02969813  0.02944903]\n",
      " [ 0.04984578  0.04495519  0.03990089  0.03555328  0.03236678  0.\n",
      "   0.02905331  0.02834286  0.02794602  0.02772537]\n",
      " [ 0.04656829  0.04227289  0.037774    0.03385496  0.03095331  0.02905401\n",
      "   0.          0.02725329  0.02688622  0.02668195]\n",
      " [ 0.04476823  0.04078527  0.03658219  0.03289471  0.03014877  0.02834412\n",
      "   0.02725384  0.          0.02627731  0.02608217]\n",
      " [ 0.04378497  0.03996835  0.03592401  0.03236173  0.02970055  0.02794766\n",
      "   0.02688713  0.02627767  0.          0.02574616]\n",
      " [ 0.04324503  0.03951842  0.03556035  0.03206643  0.02945169  0.02772723\n",
      "   0.02668308  0.02608274  0.02574637  0.        ]]\n",
      "('Iteration', 135, 'Train loss:', <autograd.numpy.numpy_boxes.ArrayBox object at 0x7fc5061f7dd0>)\n",
      "Test loss:  Autograd ArrayBox with value 145.70357529\n",
      "Target\n"
     ]
    },
    {
     "data": {
      "image/png": "[encoded data removed]",
      "text/plain": [
       "<matplotlib.figure.Figure at 0x7fc505a6efd0>"
      ]
     },
     "metadata": {},
     "output_type": "display_data"
    },
    {
     "name": "stdout",
     "output_type": "stream",
     "text": [
      "Predicted\n"
     ]
    },
    {
     "data": {
      "image/png": "[encoded data removed]",
      "text/plain": [
       "<matplotlib.figure.Figure at 0x7fc54eaf1110>"
      ]
     },
     "metadata": {},
     "output_type": "display_data"
    },
    {
     "name": "stdout",
     "output_type": "stream",
     "text": [
      "L\n",
      "Autograd ArrayBox with value [[ 0.          0.10748754  0.08253089  0.06588764  0.05572906  0.04986207\n",
      "   0.04658244  0.04478109  0.04379712  0.04325683]\n",
      " [ 0.10746423  0.          0.0699305   0.05759461  0.04967479  0.04495807\n",
      "   0.04227454  0.04078616  0.03996882  0.03951869]\n",
      " [ 0.08250007  0.06991989  0.          0.04954576  0.04356793  0.03989612\n",
      "   0.03776861  0.03657642  0.03591801  0.03555426]\n",
      " [ 0.06585796  0.05758181  0.04954238  0.          0.03843178  0.03554575\n",
      "   0.03384711  0.03288664  0.03235354  0.0320582 ]\n",
      " [ 0.0557035   0.04966346  0.04356465  0.03843141  0.          0.03235913\n",
      "   0.03094542  0.03014071  0.02969239  0.0294435 ]\n",
      " [ 0.04984073  0.0449491   0.03989405  0.03554609  0.03235968  0.          0.029047\n",
      "   0.02833693  0.02794037  0.0277199 ]\n",
      " [ 0.04656443  0.04226769  0.03776783  0.03384832  0.03094667  0.02904766\n",
      "   0.          0.02724765  0.02688082  0.02667672]\n",
      " [ 0.04476539  0.04078087  0.03657665  0.03288856  0.03014254  0.02833813\n",
      "   0.02724817  0.          0.02627218  0.02607719]\n",
      " [ 0.04378287  0.03996454  0.03591891  0.03235596  0.02969463  0.02794193\n",
      "   0.0268817   0.02627253  0.          0.02574139]\n",
      " [ 0.0432434   0.03951499  0.03555555  0.0320609   0.02944597  0.02772168\n",
      "   0.0266778   0.02607775  0.02574159  0.        ]]\n",
      "('Iteration', 138, 'Train loss:', <autograd.numpy.numpy_boxes.ArrayBox object at 0x7fc5040d9ea8>)\n",
      "Test loss:  Autograd ArrayBox with value 145.748276475\n",
      "Target\n"
     ]
    },
    {
     "data": {
      "image/png": "[encoded data removed]",
      "text/plain": [
       "<matplotlib.figure.Figure at 0x7fc5039cb8d0>"
      ]
     },
     "metadata": {},
     "output_type": "display_data"
    },
    {
     "name": "stdout",
     "output_type": "stream",
     "text": [
      "Predicted\n"
     ]
    },
    {
     "data": {
      "image/png": "[encoded data removed]",
      "text/plain": [
       "<matplotlib.figure.Figure at 0x7fc50396bf10>"
      ]
     },
     "metadata": {},
     "output_type": "display_data"
    },
    {
     "name": "stdout",
     "output_type": "stream",
     "text": [
      "L\n",
      "Autograd ArrayBox with value [[ 0.          0.10749859  0.08253071  0.0658831   0.0557243   0.04985866\n",
      "   0.04658059  0.04478056  0.04379763  0.04325817]\n",
      " [ 0.10747379  0.          0.06992507  0.05758698  0.04966811  0.04495349\n",
      "   0.04227203  0.04078527  0.03996912  0.03951988]\n",
      " [ 0.08249808  0.06991397  0.          0.04953572  0.04355953  0.0398902\n",
      "   0.03776499  0.03657453  0.03591735  0.03555447]\n",
      " [ 0.06585196  0.05757393  0.0495325   0.          0.03842342  0.03553975\n",
      "   0.03384326  0.03288441  0.03235245  0.03205789]\n",
      " [ 0.0556978   0.04965702  0.04355684  0.03842345  0.          0.0323545\n",
      "   0.03094265  0.03013935  0.02969202  0.02944381]\n",
      " [ 0.04983687  0.04494526  0.03988916  0.03554086  0.03235542  0.\n",
      "   0.02904594  0.02833709  0.02794138  0.02772151]\n",
      " [ 0.0465625   0.0422663   0.03776558  0.03384554  0.03094454  0.02904686\n",
      "   0.          0.02724929  0.02688323  0.02667966]\n",
      " [ 0.04476502  0.04078135  0.03657636  0.03288761  0.03014201  0.02833872\n",
      "   0.02724998  0.          0.02627569  0.0260812 ]\n",
      " [ 0.04378367  0.03996637  0.03592     0.03235625  0.02969519  0.02794348\n",
      "   0.02688438  0.02627614  0.          0.02574614]\n",
      " [ 0.04324514  0.0395178   0.0355576   0.03206205  0.02944727  0.02772388\n",
      "   0.02668107  0.02608191  0.0257464   0.        ]]\n",
      "('Iteration', 141, 'Train loss:', <autograd.numpy.numpy_boxes.ArrayBox object at 0x7fc501bfcd88>)\n",
      "Test loss:  Autograd ArrayBox with value 145.728251928\n",
      "Target\n"
     ]
    },
    {
     "data": {
      "image/png": "[encoded data removed]",
      "text/plain": [
       "<matplotlib.figure.Figure at 0x7fc50146aa50>"
      ]
     },
     "metadata": {},
     "output_type": "display_data"
    },
    {
     "name": "stdout",
     "output_type": "stream",
     "text": [
      "Predicted\n"
     ]
    },
    {
     "data": {
      "image/png": "[encoded data removed]",
      "text/plain": [
       "<matplotlib.figure.Figure at 0x7fc501482f90>"
      ]
     },
     "metadata": {},
     "output_type": "display_data"
    },
    {
     "name": "stdout",
     "output_type": "stream",
     "text": [
      "L\n",
      "Autograd ArrayBox with value [[ 0.          0.10748381  0.08252968  0.06588783  0.05572976  0.04986283\n",
      "   0.04658309  0.04478161  0.04379755  0.0432572 ]\n",
      " [ 0.10746123  0.          0.06992985  0.05759525  0.04967621  0.04495984\n",
      "   0.04227642  0.04078805  0.03997071  0.03952058]\n",
      " [ 0.08250002  0.0699198   0.          0.04954713  0.04356995  0.03989852\n",
      "   0.03777121  0.03657911  0.03592075  0.03555703]\n",
      " [ 0.06585953  0.05758337  0.04954413  0.          0.03843434  0.0355486\n",
      "   0.03385014  0.03288976  0.03235673  0.03206142]\n",
      " [ 0.05570566  0.049666    0.04356728  0.03843421  0.          0.03236236\n",
      "   0.03094878  0.03014415  0.02969589  0.02944704]\n",
      " [ 0.04984297  0.04495209  0.0398972   0.03554933  0.03236306  0.\n",
      "   0.02905063  0.02834062  0.0279441   0.02772367]\n",
      " [ 0.04656656  0.04227085  0.03777126  0.03385182  0.03095027  0.02905137\n",
      "   0.          0.02725151  0.02688472  0.02668065]\n",
      " [ 0.04476738  0.04078408  0.03658021  0.03289222  0.03014628  0.02834196\n",
      "   0.02725209  0.          0.02627618  0.02608122]\n",
      " [ 0.04378476  0.03996777  0.03592256  0.0323597   0.02969845  0.02794584\n",
      "   0.02688568  0.02627657  0.          0.02574548]\n",
      " [ 0.04324524  0.03951824  0.03555925  0.0320647   0.02944985  0.02772564\n",
      "   0.02668184  0.02608183  0.02574571  0.        ]]\n",
      "('Iteration', 144, 'Train loss:', <autograd.numpy.numpy_boxes.ArrayBox object at 0x7fc4ff69bab8>)\n",
      "Test loss:  Autograd ArrayBox with value 145.741905587\n",
      "Target\n"
     ]
    },
    {
     "data": {
      "image/png": "[encoded data removed]",
      "text/plain": [
       "<matplotlib.figure.Figure at 0x7fc4fef88c10>"
      ]
     },
     "metadata": {},
     "output_type": "display_data"
    },
    {
     "name": "stdout",
     "output_type": "stream",
     "text": [
      "Predicted\n"
     ]
    },
    {
     "data": {
      "image/png": "[encoded data removed]",
      "text/plain": [
       "<matplotlib.figure.Figure at 0x7fc50148e810>"
      ]
     },
     "metadata": {},
     "output_type": "display_data"
    },
    {
     "name": "stdout",
     "output_type": "stream",
     "text": [
      "L\n",
      "Autograd ArrayBox with value [[ 0.          0.10749759  0.08252931  0.06588217  0.05572395  0.04985874\n",
      "   0.04658089  0.04478088  0.04379781  0.04325818]\n",
      " [ 0.10747319  0.          0.06992362  0.05758677  0.04966903  0.0449551\n",
      "   0.04227393  0.0407872   0.03997092  0.0395215 ]\n",
      " [ 0.08249755  0.06991325  0.          0.04953772  0.04356291  0.03989431\n",
      "   0.03776934  0.03657886  0.03592153  0.03555846]\n",
      " [ 0.0658522   0.05757499  0.04953513  0.          0.03842918  0.03554611\n",
      "   0.03384976  0.03289082  0.03235867  0.03206392]\n",
      " [ 0.05569878  0.04965947  0.04356115  0.03842953  0.          0.03236219\n",
      "   0.03095038  0.03014695  0.02969942  0.02945102]\n",
      " [ 0.04983832  0.04494845  0.03989427  0.03554764  0.03236321  0.\n",
      "   0.02905409  0.02834508  0.02794918  0.02772912]\n",
      " [ 0.04656417  0.04226977  0.03777092  0.03385245  0.03095238  0.02905502\n",
      "   0.          0.02725726  0.026891    0.02668725]\n",
      " [ 0.04476668  0.04078483  0.03658166  0.0328944   0.03014969  0.0283467\n",
      "   0.02725793  0.          0.02628328  0.02608861]\n",
      " [ 0.04378518  0.03996968  0.0359251   0.03236283  0.02970264  0.02795124\n",
      "   0.02689211  0.02628371  0.          0.02575335]\n",
      " [ 0.04324643  0.0395209   0.03556247  0.0320684   0.0294545   0.02773143\n",
      "   0.0266886   0.02608928  0.02575359  0.        ]]\n",
      "('Iteration', 147, 'Train loss:', <autograd.numpy.numpy_boxes.ArrayBox object at 0x7fc4fd1bb7e8>)\n",
      "Test loss:  Autograd ArrayBox with value 145.727745395\n",
      "Target\n"
     ]
    },
    {
     "data": {
      "image/png": "[encoded data removed]",
      "text/plain": [
       "<matplotlib.figure.Figure at 0x7fc4fca26dd0>"
      ]
     },
     "metadata": {},
     "output_type": "display_data"
    },
    {
     "name": "stdout",
     "output_type": "stream",
     "text": [
      "Predicted\n"
     ]
    },
    {
     "data": {
      "image/png": "[encoded data removed]",
      "text/plain": [
       "<matplotlib.figure.Figure at 0x7fc50391aed0>"
      ]
     },
     "metadata": {},
     "output_type": "display_data"
    },
    {
     "name": "stdout",
     "output_type": "stream",
     "text": [
      "L\n",
      "Autograd ArrayBox with value [[ 0.          0.10748838  0.08253126  0.06588765  0.0557289   0.04986187\n",
      "   0.04658227  0.04478099  0.04379713  0.04325699]\n",
      " [ 0.10746487  0.          0.06993041  0.057594    0.04967398  0.04495729\n",
      "   0.04227389  0.04078565  0.03996846  0.03951849]\n",
      " [ 0.08250007  0.06991952  0.          0.04954412  0.04356616  0.03989451\n",
      "   0.03776725  0.03657529  0.03591708  0.03555351]\n",
      " [ 0.06585753  0.05758079  0.0495406   0.          0.03842946  0.03554368\n",
      "   0.03384536  0.03288516  0.03235228  0.03205711]\n",
      " [ 0.05570291  0.04966225  0.04356274  0.0384291   0.          0.0323571\n",
      "   0.0309437   0.03013926  0.02969115  0.02944242]\n",
      " [ 0.04984015  0.04494799  0.03989237  0.03554409  0.03235771  0.\n",
      "   0.02904557  0.02833575  0.02793937  0.02771905]\n",
      " [ 0.04656392  0.04226678  0.03776648  0.03384671  0.03094508  0.02904629\n",
      "   0.          0.02724678  0.02688013  0.02667616]\n",
      " [ 0.04476497  0.04078015  0.03657559  0.03288728  0.03014127  0.02833705\n",
      "   0.02724735  0.          0.02627173  0.02607688]\n",
      " [ 0.04378257  0.039964    0.03591809  0.03235492  0.02969359  0.02794107\n",
      "   0.02688108  0.02627211  0.          0.02574125]\n",
      " [ 0.04324329  0.03951465  0.03555494  0.03206006  0.02944512  0.02772098\n",
      "   0.02667733  0.02607748  0.02574147  0.        ]]\n",
      "('Iteration', 150, 'Train loss:', <autograd.numpy.numpy_boxes.ArrayBox object at 0x7fc4fac65518>)\n",
      "Test loss:  Autograd ArrayBox with value 145.691788893\n",
      "Target\n"
     ]
    },
    {
     "data": {
      "image/png": "[encoded data removed]",
      "text/plain": [
       "<matplotlib.figure.Figure at 0x7fc4fa54ef90>"
      ]
     },
     "metadata": {},
     "output_type": "display_data"
    },
    {
     "name": "stdout",
     "output_type": "stream",
     "text": [
      "Predicted\n"
     ]
    },
    {
     "data": {
      "image/png": "[encoded data removed]",
      "text/plain": [
       "<matplotlib.figure.Figure at 0x7fc50143f090>"
      ]
     },
     "metadata": {},
     "output_type": "display_data"
    },
    {
     "name": "stdout",
     "output_type": "stream",
     "text": [
      "L\n",
      "Autograd ArrayBox with value [[ 0.          0.10746598  0.08252885  0.06589393  0.05573665  0.04986802\n",
      "   0.04658612  0.04478279  0.04379736  0.04325607]\n",
      " [ 0.10744608  0.          0.06993538  0.05760472  0.04968558  0.04496734\n",
      "   0.0422818   0.04079165  0.03997301  0.039522  ]\n",
      " [ 0.08250261  0.06992642  0.          0.04955934  0.04358143  0.03990815\n",
      "   0.03777889  0.03658519  0.03592567  0.03556117]\n",
      " [ 0.06586881  0.05759408  0.04955666  0.          0.03844661  0.03555922\n",
      "   0.03385907  0.03289732  0.03236329  0.03206731]\n",
      " [ 0.05571518  0.04967641  0.04357905  0.03844653  0.          0.03237265\n",
      "   0.03095765  0.03015185  0.02970273  0.0294533 ]\n",
      " [ 0.04985028  0.04496037  0.039907    0.03555992  0.0323733   0.\n",
      "   0.02905861  0.0283476   0.02795033  0.02772939]\n",
      " [ 0.0465713   0.04227676  0.03777898  0.03386065  0.03095903  0.0290593\n",
      "   0.          0.02725751  0.02689006  0.02668552]\n",
      " [ 0.04476999  0.04078804  0.03658624  0.0328996   0.03015381  0.02834882\n",
      "   0.02725804  0.          0.0262807   0.02608532]\n",
      " [ 0.04378583  0.03997031  0.03592735  0.03236603  0.02970508  0.02795192\n",
      "   0.02689093  0.02628105  0.          0.02574897]\n",
      " [ 0.04324527  0.03951983  0.03556322  0.03207033  0.02945588  0.02773118\n",
      "   0.0266866   0.02608586  0.02574917  0.        ]]\n",
      "('Iteration', 153, 'Train loss:', <autograd.numpy.numpy_boxes.ArrayBox object at 0x7fc4f86a9248>)\n",
      "Test loss:  Autograd ArrayBox with value 145.743644253\n",
      "Target\n"
     ]
    },
    {
     "data": {
      "image/png": "[encoded data removed]",
      "text/plain": [
       "<matplotlib.figure.Figure at 0x7fc4f7f21190>"
      ]
     },
     "metadata": {},
     "output_type": "display_data"
    },
    {
     "name": "stdout",
     "output_type": "stream",
     "text": [
      "Predicted\n"
     ]
    },
    {
     "data": {
      "image/png": "[encoded data removed]",
      "text/plain": [
       "<matplotlib.figure.Figure at 0x7fc4fc9fa2d0>"
      ]
     },
     "metadata": {},
     "output_type": "display_data"
    },
    {
     "name": "stdout",
     "output_type": "stream",
     "text": [
      "L\n",
      "Autograd ArrayBox with value [[ 0.          0.10749414  0.08253106  0.06588525  0.05572643  0.04986012\n",
      "   0.0465813   0.04478064  0.04379721  0.04325734]\n",
      " [ 0.10746988  0.          0.06992811  0.05759076  0.04967111  0.04495524\n",
      "   0.04227262  0.04078497  0.03996817  0.03951845]\n",
      " [ 0.08249904  0.06991711  0.          0.04954063  0.04356331  0.03989247\n",
      "   0.03776591  0.03657446  0.03591657  0.0355532 ]\n",
      " [ 0.06585448  0.05757754  0.04953719  0.          0.03842703  0.03554196\n",
      "   0.03384422  0.03288443  0.03235181  0.0320568 ]\n",
      " [ 0.05570001  0.0496595   0.04356005  0.03842674  0.          0.03235588\n",
      "   0.03094296  0.03013885  0.02969095  0.02944234]\n",
      " [ 0.04983813  0.04494615  0.03989055  0.03554248  0.03235653  0.\n",
      "   0.02904525  0.0283357   0.0279395   0.02771928]\n",
      " [ 0.04656281  0.04226579  0.03776539  0.0338457   0.03094439  0.02904598\n",
      "   0.          0.02724703  0.02688053  0.02667665]\n",
      " [ 0.04476456  0.04077979  0.03657502  0.03288668  0.03014091  0.02833702\n",
      "   0.0272476   0.          0.02627233  0.02607755]\n",
      " [ 0.04378264  0.03996406  0.03591786  0.03235459  0.02969344  0.02794121\n",
      "   0.02688148  0.02627271  0.          0.02574205]\n",
      " [ 0.04324364  0.03951495  0.0355549   0.03205988  0.02944509  0.02772122\n",
      "   0.02667782  0.02607815  0.02574227  0.        ]]\n",
      "('Iteration', 156, 'Train loss:', <autograd.numpy.numpy_boxes.ArrayBox object at 0x7fc4f6105f38>)\n",
      "Test loss:  Autograd ArrayBox with value 145.690481817\n",
      "Target\n"
     ]
    },
    {
     "data": {
      "image/png": "[encoded data removed]",
      "text/plain": [
       "<matplotlib.figure.Figure at 0x7fc574783c10>"
      ]
     },
     "metadata": {},
     "output_type": "display_data"
    },
    {
     "name": "stdout",
     "output_type": "stream",
     "text": [
      "Predicted\n"
     ]
    },
    {
     "data": {
      "image/png": "[encoded data removed]",
      "text/plain": [
       "<matplotlib.figure.Figure at 0x7fc4fa4a3e10>"
      ]
     },
     "metadata": {},
     "output_type": "display_data"
    },
    {
     "name": "stdout",
     "output_type": "stream",
     "text": [
      "L\n",
      "Autograd ArrayBox with value [[ 0.          0.10746155  0.08252791  0.06589469  0.05573787  0.04986913\n",
      "   0.04658696  0.04478337  0.0437977   0.04325621]\n",
      " [ 0.10744234  0.          0.06993564  0.05760631  0.04968761  0.04496931\n",
      "   0.04228353  0.04079315  0.03997431  0.03952312]\n",
      " [ 0.08250273  0.06992716  0.          0.04956192  0.04358416  0.03991067\n",
      "   0.03778112  0.03658717  0.03592745  0.03556279]\n",
      " [ 0.06587074  0.05759636  0.04955946  0.          0.03844952  0.03556178\n",
      "   0.03386126  0.03289924  0.032365    0.03206888]\n",
      " [ 0.05571757  0.04967918  0.04358207  0.03844949  0.          0.03237484\n",
      "   0.03095945  0.03015337  0.02970405  0.02945448]\n",
      " [ 0.04985251  0.04496306  0.0399098   0.03556253  0.03237549  0.\n",
      "   0.02905994  0.02834864  0.02795119  0.02773012]\n",
      " [ 0.04657322  0.0422792   0.03778147  0.03386288  0.03096081  0.02906061\n",
      "   0.          0.02725817  0.02689053  0.02668587]\n",
      " [ 0.04477162  0.04079022  0.03658846  0.03290154  0.0301553   0.02834984\n",
      "   0.02725869  0.          0.0262809   0.0260854 ]\n",
      " [ 0.0437872   0.03997228  0.03592936  0.03236777  0.02970637  0.02795275\n",
      "   0.02689139  0.02628125  0.          0.02574888]\n",
      " [ 0.04324642  0.03952161  0.03556507  0.03207191  0.02945703  0.02773188\n",
      "   0.02668693  0.02608594  0.02574908  0.        ]]\n",
      "('Iteration', 159, 'Train loss:', <autograd.numpy.numpy_boxes.ArrayBox object at 0x7fc4f3ae9c68>)\n",
      "Test loss:  Autograd ArrayBox with value 145.71035762\n",
      "Target\n"
     ]
    },
    {
     "data": {
      "image/png": "[encoded data removed]",
      "text/plain": [
       "<matplotlib.figure.Figure at 0x7fc4f33644d0>"
      ]
     },
     "metadata": {},
     "output_type": "display_data"
    },
    {
     "name": "stdout",
     "output_type": "stream",
     "text": [
      "Predicted\n"
     ]
    },
    {
     "data": {
      "image/png": "[encoded data removed]",
      "text/plain": [
       "<matplotlib.figure.Figure at 0x7fc4f7f03f10>"
      ]
     },
     "metadata": {},
     "output_type": "display_data"
    },
    {
     "name": "stdout",
     "output_type": "stream",
     "text": [
      "L\n",
      "Autograd ArrayBox with value [[ 0.          0.10747858  0.08252976  0.06588995  0.05573201  0.04986447\n",
      "   0.046584    0.04478192  0.04379745  0.04325685]\n",
      " [ 0.10745668  0.          0.06993186  0.05759815  0.04967882  0.04496171\n",
      "   0.04227757  0.04078863  0.03997089  0.03952053]\n",
      " [ 0.08250088  0.06992193  0.          0.04955028  0.04357257  0.03990043\n",
      "   0.03777246  0.03657985  0.03592115  0.03555723]\n",
      " [ 0.06586226  0.05758629  0.04954721  0.          0.03843668  0.03555033\n",
      "   0.03385132  0.03289052  0.03235719  0.03206171]\n",
      " [ 0.05570832  0.04966849  0.04356975  0.03843649  0.          0.03236372\n",
      "   0.03094969  0.0301447   0.02969619  0.02944717]\n",
      " [ 0.04984486  0.04495376  0.0398989   0.03555094  0.03236438  0.\n",
      "   0.02905115  0.02834083  0.02794409  0.02772352]\n",
      " [ 0.0465676   0.04227173  0.03777227  0.03385286  0.03095111  0.02905187\n",
      "   0.          0.02725138  0.02688439  0.02668018]\n",
      " [ 0.04476774  0.04078433  0.0365807   0.03289282  0.03014674  0.02834213\n",
      "   0.02725194  0.          0.02627558  0.02608049]\n",
      " [ 0.04378466  0.0399676   0.03592268  0.03235999  0.02969865  0.02794577\n",
      "   0.02688532  0.02627595  0.          0.02574456]\n",
      " [ 0.04324487  0.03951782  0.03555916  0.03206481  0.02944988  0.02772542\n",
      "   0.02668133  0.02608108  0.02574477  0.        ]]\n",
      "('Iteration', 162, 'Train loss:', <autograd.numpy.numpy_boxes.ArrayBox object at 0x7fc4f154c9e0>)\n",
      "Test loss:  Autograd ArrayBox with value 145.73420744\n",
      "Target\n"
     ]
    },
    {
     "data": {
      "image/png": "[encoded data removed]",
      "text/plain": [
       "<matplotlib.figure.Figure at 0x7fc4f0dc7650>"
      ]
     },
     "metadata": {},
     "output_type": "display_data"
    },
    {
     "name": "stdout",
     "output_type": "stream",
     "text": [
      "Predicted\n"
     ]
    },
    {
     "data": {
      "image/png": "[encoded data removed]",
      "text/plain": [
       "<matplotlib.figure.Figure at 0x7fc4f0dc7c50>"
      ]
     },
     "metadata": {},
     "output_type": "display_data"
    },
    {
     "name": "stdout",
     "output_type": "stream",
     "text": [
      "L\n",
      "Autograd ArrayBox with value [[ 0.          0.1074878   0.08253034  0.06588699  0.05572865  0.04986197\n",
      "   0.04658258  0.04478139  0.04379757  0.04325747]\n",
      " [ 0.1074644   0.          0.06992895  0.05759309  0.04967375  0.04495762\n",
      "   0.04227458  0.04078653  0.03996943  0.03951953]\n",
      " [ 0.08249945  0.06991829  0.          0.04954339  0.04356606  0.03989491\n",
      "   0.03776798  0.03657618  0.03591804  0.03555451]\n",
      " [ 0.06585736  0.05758032  0.04954006  0.          0.03842971  0.03554428\n",
      "   0.03384616  0.03288605  0.03235319  0.03205802]\n",
      " [ 0.05570331  0.04966262  0.04356297  0.03842947  0.          0.03235792\n",
      "   0.03094462  0.0301402   0.02969206  0.02944331]\n",
      " [ 0.04984099  0.04494904  0.03989319  0.03554486  0.03235858  0.\n",
      "   0.02904654  0.02833669  0.02794027  0.02771991]\n",
      " [ 0.04656504  0.04226826  0.03776768  0.03384771  0.03094607  0.02904728\n",
      "   0.          0.02724768  0.02688096  0.02667695]\n",
      " [ 0.04476622  0.04078187  0.03657698  0.03288838  0.03014228  0.02833801\n",
      "   0.02724825  0.          0.0262725   0.02607758]\n",
      " [ 0.04378388  0.03996583  0.03591956  0.03235605  0.02969458  0.02794198\n",
      "   0.02688191  0.02627287  0.          0.02574187]\n",
      " [ 0.04324464  0.03951654  0.03555645  0.03206118  0.02944607  0.02772184\n",
      "   0.02667811  0.02607817  0.02574209  0.        ]]\n",
      "('Iteration', 165, 'Train loss:', <autograd.numpy.numpy_boxes.ArrayBox object at 0x7fc4eef326c8>)\n",
      "Test loss:  Autograd ArrayBox with value 145.734164824\n",
      "Target\n"
     ]
    },
    {
     "data": {
      "image/png": "[encoded data removed]",
      "text/plain": [
       "<matplotlib.figure.Figure at 0x7fc4ee7a8810>"
      ]
     },
     "metadata": {},
     "output_type": "display_data"
    },
    {
     "name": "stdout",
     "output_type": "stream",
     "text": [
      "Predicted\n"
     ]
    },
    {
     "data": {
      "image/png": "[encoded data removed]",
      "text/plain": [
       "<matplotlib.figure.Figure at 0x7fc4ee7a8e10>"
      ]
     },
     "metadata": {},
     "output_type": "display_data"
    },
    {
     "name": "stdout",
     "output_type": "stream",
     "text": [
      "L\n",
      "Autograd ArrayBox with value [[ 0.          0.10748918  0.08253019  0.0658863   0.05572797  0.04986149\n",
      "   0.0465823   0.04478127  0.04379752  0.04325745]\n",
      " [ 0.10746573  0.          0.06992816  0.05759231  0.04967337  0.04495765\n",
      "   0.04227492  0.04078708  0.0399701   0.03952023]\n",
      " [ 0.08249932  0.06991769  0.          0.04954311  0.04356642  0.03989582\n",
      "   0.03776927  0.03657771  0.0359197   0.03555622]\n",
      " [ 0.0658568   0.05757995  0.04954004  0.          0.0384309   0.03554597\n",
      "   0.0338482   0.03288831  0.03235557  0.03206046]\n",
      " [ 0.05570282  0.0496628   0.04356377  0.03843084  0.          0.03236022\n",
      "   0.0309472   0.03014296  0.02969493  0.02944623]\n",
      " [ 0.04984075  0.0449497   0.03989464  0.03554685  0.03236099  0.\n",
      "   0.02904951  0.0283398   0.02794347  0.02772316]\n",
      " [ 0.04656503  0.04226928  0.03776955  0.03385009  0.03094881  0.0290503\n",
      "   0.          0.02725102  0.02688438  0.0266804 ]\n",
      " [ 0.04476638  0.04078311  0.03657911  0.03289101  0.03014524  0.02834121\n",
      "   0.02725162  0.          0.02627605  0.02608117]\n",
      " [ 0.04378412  0.0399672   0.03592184  0.03235881  0.02969766  0.02794528\n",
      "   0.02688538  0.02627644  0.          0.02574555]\n",
      " [ 0.0432449   0.03951795  0.03555878  0.03206402  0.02944921  0.0277252\n",
      "   0.02668162  0.02608179  0.02574577  0.        ]]\n",
      "('Iteration', 168, 'Train loss:', <autograd.numpy.numpy_boxes.ArrayBox object at 0x7fc4eceb2f38>)\n",
      "Test loss:  Autograd ArrayBox with value 145.728611264\n",
      "Target\n"
     ]
    },
    {
     "data": {
      "image/png": "[encoded data removed]",
      "text/plain": [
       "<matplotlib.figure.Figure at 0x7fc4ec71ea90>"
      ]
     },
     "metadata": {},
     "output_type": "display_data"
    },
    {
     "name": "stdout",
     "output_type": "stream",
     "text": [
      "Predicted\n"
     ]
    },
    {
     "data": {
      "image/png": "[encoded data removed]",
      "text/plain": [
       "<matplotlib.figure.Figure at 0x7fc4ec740f50>"
      ]
     },
     "metadata": {},
     "output_type": "display_data"
    },
    {
     "name": "stdout",
     "output_type": "stream",
     "text": [
      "L\n",
      "Autograd ArrayBox with value [[ 0.          0.1074929   0.08253023  0.06588489  0.05572645  0.04986036\n",
      "   0.04658166  0.04478103  0.0437976   0.04325774]\n",
      " [ 0.10746891  0.          0.06992682  0.05759019  0.04967134  0.04495608\n",
      "   0.04227384  0.0407864   0.03996971  0.03952005]\n",
      " [ 0.0824987   0.06991614  0.          0.04954045  0.04356401  0.03989389\n",
      "   0.03776781  0.03657662  0.03591888  0.03555559]\n",
      " [ 0.0658548   0.05757762  0.04953735  0.          0.03842848  0.03554402\n",
      "   0.03384668  0.03288712  0.03235463  0.03205969]\n",
      " [ 0.05570084  0.04966063  0.04356136  0.03842845  0.          0.03235856\n",
      "   0.03094594  0.030142    0.02969419  0.02944563]\n",
      " [ 0.04983929  0.04494807  0.03989275  0.03554495  0.03235936  0.\n",
      "   0.02904862  0.02833919  0.02794305  0.02772287]\n",
      " [ 0.04656414  0.04226819  0.03776817  0.03384867  0.03094761  0.02904944\n",
      "   0.          0.02725074  0.02688428  0.02668043]\n",
      " [ 0.04476596  0.04078246  0.03657813  0.03288994  0.03014436  0.02834065\n",
      "   0.02725136  0.          0.0262762   0.02608144]\n",
      " [ 0.04378405  0.03996687  0.03592115  0.032358    0.029697    0.02794492\n",
      "   0.02688531  0.0262766   0.          0.02574598]\n",
      " [ 0.04324507  0.03951784  0.03555829  0.03206338  0.02944871  0.02772498\n",
      "   0.02668168  0.02608207  0.02574621  0.        ]]\n",
      "('Iteration', 171, 'Train loss:', <autograd.numpy.numpy_boxes.ArrayBox object at 0x7fc4ea9d3e60>)\n",
      "Test loss:  Autograd ArrayBox with value 145.7046897\n",
      "Target\n"
     ]
    },
    {
     "data": {
      "image/png": "[encoded data removed]",
      "text/plain": [
       "<matplotlib.figure.Figure at 0x7fc4ea23ef50>"
      ]
     },
     "metadata": {},
     "output_type": "display_data"
    },
    {
     "name": "stdout",
     "output_type": "stream",
     "text": [
      "Predicted\n"
     ]
    },
    {
     "data": {
      "image/png": "[encoded data removed]",
      "text/plain": [
       "<matplotlib.figure.Figure at 0x7fc4ee706650>"
      ]
     },
     "metadata": {},
     "output_type": "display_data"
    },
    {
     "name": "stdout",
     "output_type": "stream",
     "text": [
      "L\n",
      "Autograd ArrayBox with value [[ 0.          0.10747893  0.08252992  0.06588994  0.05573188  0.04986427\n",
      "   0.04658379  0.04478172  0.04379727  0.04325669]\n",
      " [ 0.10745711  0.          0.069932    0.05759825  0.04967892  0.04496184\n",
      "   0.04227772  0.04078882  0.03997113  0.03952078]\n",
      " [ 0.08250113  0.06992216  0.          0.04955057  0.04357302  0.03990102\n",
      "   0.03777317  0.03658066  0.03592203  0.03555815]\n",
      " [ 0.06586234  0.05758654  0.04954761  0.          0.03843746  0.03555132\n",
      "   0.03385248  0.03289182  0.0323586   0.03206318]\n",
      " [ 0.05570827  0.04966879  0.04357038  0.03843736  0.          0.03236507\n",
      "   0.03095124  0.03014641  0.02969801  0.02944908]\n",
      " [ 0.04984472  0.04495411  0.03989973  0.03555209  0.0323658   0.\n",
      "   0.02905305  0.0283429   0.02794628  0.02772579]\n",
      " [ 0.04656742  0.0422721   0.03777324  0.03385423  0.03095278  0.02905382\n",
      "   0.          0.02725372  0.02688686  0.02668274]\n",
      " [ 0.04476757  0.04078475  0.03658178  0.03289435  0.03014861  0.02834427\n",
      "   0.02725432  0.          0.02627826  0.02608326]\n",
      " [ 0.04378451  0.03996806  0.03592385  0.03236165  0.02970065  0.02794806\n",
      "   0.02688785  0.02627866  0.          0.02574748]\n",
      " [ 0.04324472  0.0395183   0.03556039  0.03206655  0.02945198  0.02772782\n",
      "   0.02668396  0.02608389  0.02574771  0.        ]]\n",
      "('Iteration', 174, 'Train loss:', <autograd.numpy.numpy_boxes.ArrayBox object at 0x7fc4e8470b90>)\n",
      "Test loss:  Autograd ArrayBox with value 145.695904137\n",
      "Target\n"
     ]
    },
    {
     "data": {
      "image/png": "[encoded data removed]",
      "text/plain": [
       "<matplotlib.figure.Figure at 0x7fc4e7ce2150>"
      ]
     },
     "metadata": {},
     "output_type": "display_data"
    },
    {
     "name": "stdout",
     "output_type": "stream",
     "text": [
      "Predicted\n"
     ]
    },
    {
     "data": {
      "image/png": "[encoded data removed]",
      "text/plain": [
       "<matplotlib.figure.Figure at 0x7fc4ee710d50>"
      ]
     },
     "metadata": {},
     "output_type": "display_data"
    },
    {
     "name": "stdout",
     "output_type": "stream",
     "text": [
      "L\n",
      "Autograd ArrayBox with value [[ 0.          0.10746981  0.08252997  0.0658936   0.05573584  0.04986725\n",
      "   0.04658556  0.04478245  0.04379721  0.04325608]\n",
      " [ 0.10744906  0.          0.06993557  0.05760347  0.04968357  0.0449651\n",
      "   0.0422796   0.04078958  0.03997106  0.03952016]\n",
      " [ 0.08250239  0.06992589  0.          0.04955666  0.04357797  0.03990435\n",
      "   0.03777503  0.03658137  0.03592192  0.03555749]\n",
      " [ 0.06586693  0.05759168  0.04955347  0.          0.03844194  0.03555424\n",
      "   0.033854    0.03289226  0.03235826  0.03206233]\n",
      " [ 0.0557128   0.04967306  0.04357483  0.03844156  0.          0.03236691\n",
      "   0.03095183  0.03014603  0.02969694  0.02944753]\n",
      " [ 0.04984798  0.04495674  0.03990232  0.03555451  0.03236741  0.\n",
      "   0.0290524   0.02834138  0.02794413  0.02772322]\n",
      " [ 0.04656928  0.04227317  0.03777419  0.03385507  0.03095297  0.029053    0.\n",
      "   0.02725113  0.02688368  0.02667917]\n",
      " [ 0.04476824  0.04078458  0.03658147  0.03289399  0.03014772  0.02834248\n",
      "   0.02725161  0.          0.02627426  0.02607889]\n",
      " [ 0.04378428  0.03996699  0.03592264  0.03236045  0.02969899  0.02794557\n",
      "   0.02688449  0.02627459  0.          0.02574253]\n",
      " [ 0.04324391  0.03951662  0.03555858  0.03206478  0.02944981  0.02772485\n",
      "   0.02668017  0.0260794   0.02574272  0.        ]]\n",
      "('Iteration', 177, 'Train loss:', <autograd.numpy.numpy_boxes.ArrayBox object at 0x7fc4e5f918c0>)\n",
      "Test loss:  Autograd ArrayBox with value 145.714790552\n",
      "Target\n"
     ]
    },
    {
     "data": {
      "image/png": "[encoded data removed]",
      "text/plain": [
       "<matplotlib.figure.Figure at 0x7fc4e5804310>"
      ]
     },
     "metadata": {},
     "output_type": "display_data"
    },
    {
     "name": "stdout",
     "output_type": "stream",
     "text": [
      "Predicted\n"
     ]
    },
    {
     "data": {
      "image/png": "[encoded data removed]",
      "text/plain": [
       "<matplotlib.figure.Figure at 0x7fc4ea1fca90>"
      ]
     },
     "metadata": {},
     "output_type": "display_data"
    },
    {
     "name": "stdout",
     "output_type": "stream",
     "text": [
      "L\n",
      "Autograd ArrayBox with value [[ 0.          0.1074852   0.08252967  0.06588738  0.05572937  0.04986263\n",
      "   0.04658304  0.04478161  0.0437975   0.04325709]\n",
      " [ 0.10746231  0.          0.06992957  0.05759481  0.04967578  0.04495944\n",
      "   0.04227601  0.04078757  0.03997011  0.03951987]\n",
      " [ 0.08249963  0.06991943  0.          0.04954713  0.04357001  0.03989849\n",
      "   0.03777101  0.03657871  0.03592016  0.03555628]\n",
      " [ 0.0658587   0.05758279  0.04954408  0.          0.03843491  0.03554906\n",
      "   0.03385037  0.03288974  0.03235647  0.03206098]\n",
      " [ 0.05570491  0.04966537  0.0435672   0.03843469  0.          0.03236297\n",
      "   0.03094916  0.03014427  0.02969577  0.02944673]\n",
      " [ 0.04984243  0.04495144  0.03989693  0.03554958  0.03236355  0.\n",
      "   0.02905083  0.02834058  0.02794383  0.02772322]\n",
      " [ 0.04656617  0.04227013  0.03777073  0.03385174  0.03095043  0.02905148\n",
      "   0.          0.02725116  0.02688415  0.02667991]\n",
      " [ 0.04476705  0.04078325  0.03657943  0.03289181  0.0301461   0.02834173\n",
      "   0.02725166  0.          0.02627531  0.02608019]\n",
      " [ 0.04378437  0.03996678  0.03592153  0.03235901  0.02969798  0.02794533\n",
      "   0.02688499  0.02627564  0.          0.02574419]\n",
      " [ 0.04324478  0.0395171   0.03555801  0.03206378  0.02944916  0.02772491\n",
      "   0.02668093  0.0260807   0.02574438  0.        ]]\n",
      "('Iteration', 180, 'Train loss:', <autograd.numpy.numpy_boxes.ArrayBox object at 0x7fc4e3a34638>)\n",
      "Test loss:  Autograd ArrayBox with value 145.720438725\n",
      "Target\n"
     ]
    },
    {
     "data": {
      "image/png": "[encoded data removed]",
      "text/plain": [
       "<matplotlib.figure.Figure at 0x7fc4e32a14d0>"
      ]
     },
     "metadata": {},
     "output_type": "display_data"
    },
    {
     "name": "stdout",
     "output_type": "stream",
     "text": [
      "Predicted\n"
     ]
    },
    {
     "data": {
      "image/png": "[encoded data removed]",
      "text/plain": [
       "<matplotlib.figure.Figure at 0x7fc4e7d01e90>"
      ]
     },
     "metadata": {},
     "output_type": "display_data"
    },
    {
     "name": "stdout",
     "output_type": "stream",
     "text": [
      "L\n",
      "Autograd ArrayBox with value [[ 0.          0.10747486  0.08252927  0.06589097  0.05573335  0.0498656\n",
      "   0.04658477  0.04478231  0.04379747  0.04325658]\n",
      " [ 0.10745349  0.          0.06993283  0.05760019  0.04968096  0.04496348\n",
      "   0.04227883  0.04078942  0.03997128  0.03952059]\n",
      " [ 0.08250114  0.06992322  0.          0.04955361  0.04357582  0.03990314\n",
      "   0.03777454  0.03658138  0.03592223  0.03555796]\n",
      " [ 0.06586402  0.05758871  0.04955063  0.          0.03844058  0.03555365\n",
      "   0.03385399  0.03289262  0.03235885  0.03206304]\n",
      " [ 0.05571031  0.04967094  0.04357303  0.03844033  0.          0.03236697\n",
      "   0.03095234  0.03014682  0.0296979   0.02944859]\n",
      " [ 0.04984653  0.04495572  0.03990152  0.0355541   0.03236752  0.\n",
      "   0.02905334  0.02834255  0.02794544  0.02772459]\n",
      " [ 0.04656882  0.04227307  0.03777414  0.03385525  0.03095354  0.02905396\n",
      "   0.          0.02725256  0.02688523  0.02668077]\n",
      " [ 0.04476851  0.04078513  0.03658193  0.03289455  0.03014857  0.02834366\n",
      "   0.02725305  0.          0.02627597  0.02608065]\n",
      " [ 0.04378501  0.03996793  0.03592341  0.03236123  0.02970002  0.02794688\n",
      "   0.02688604  0.02627629  0.          0.02574437]\n",
      " [ 0.04324489  0.03951779  0.0355595   0.03206568  0.02945091  0.02772623\n",
      "   0.02668176  0.02608115  0.02574455  0.        ]]\n",
      "('Iteration', 183, 'Train loss:', <autograd.numpy.numpy_boxes.ArrayBox object at 0x7fc4e14f1320>)\n",
      "Test loss:  Autograd ArrayBox with value 145.725156635\n",
      "Target\n"
     ]
    },
    {
     "data": {
      "image/png": "[encoded data removed]",
      "text/plain": [
       "<matplotlib.figure.Figure at 0x7fc4e0d66690>"
      ]
     },
     "metadata": {},
     "output_type": "display_data"
    },
    {
     "name": "stdout",
     "output_type": "stream",
     "text": [
      "Predicted\n"
     ]
    },
    {
     "data": {
      "image/png": "[encoded data removed]",
      "text/plain": [
       "<matplotlib.figure.Figure at 0x7fc4e0d66c90>"
      ]
     },
     "metadata": {},
     "output_type": "display_data"
    },
    {
     "name": "stdout",
     "output_type": "stream",
     "text": [
      "L\n",
      "Autograd ArrayBox with value [[ 0.          0.10749556  0.08253082  0.06588443  0.05572569  0.04985968\n",
      "   0.04658118  0.04478077  0.04379752  0.04325779]\n",
      " [ 0.10747107  0.          0.06992677  0.05758926  0.04966997  0.04495462\n",
      "   0.04227246  0.04078516  0.0399686   0.03951904]\n",
      " [ 0.08249853  0.06991572  0.          0.04953872  0.04356181  0.03989149\n",
      "   0.0377654   0.03657428  0.03591663  0.03555342]\n",
      " [ 0.06585351  0.05757609  0.04953535  0.          0.03842549  0.03554084\n",
      "   0.03384348  0.03288398  0.03235156  0.03205669]\n",
      " [ 0.05569926  0.04965856  0.04355872  0.03842529  0.          0.03235491\n",
      "   0.03094229  0.03013841  0.02969068  0.02944219]\n",
      " [ 0.04983782  0.04494586  0.03988984  0.03554152  0.03235562  0.\n",
      "   0.0290448   0.02833545  0.02793939  0.02771927]\n",
      " [ 0.04656292  0.04226605  0.03776521  0.03384517  0.03094383  0.02904558\n",
      "   0.          0.027247    0.02688062  0.02667683]\n",
      " [ 0.04476499  0.04078047  0.03657523  0.03288649  0.03014063  0.02833685\n",
      "   0.0272476   0.          0.0262726   0.0260779 ]\n",
      " [ 0.04378329  0.03996502  0.03591833  0.03235462  0.02969335  0.0279412\n",
      "   0.02688163  0.026273    0.          0.02574252]\n",
      " [ 0.04324445  0.0395161   0.03555556  0.03206006  0.02944512  0.02772132\n",
      "   0.02667807  0.02607853  0.02574275  0.        ]]\n",
      "('Iteration', 186, 'Train loss:', <autograd.numpy.numpy_boxes.ArrayBox object at 0x7fc4deed5098>)\n",
      "Test loss:  Autograd ArrayBox with value 145.71635214\n",
      "Target\n"
     ]
    },
    {
     "data": {
      "image/png": "[encoded data removed]",
      "text/plain": [
       "<matplotlib.figure.Figure at 0x7fc4de7c8850>"
      ]
     },
     "metadata": {},
     "output_type": "display_data"
    },
    {
     "name": "stdout",
     "output_type": "stream",
     "text": [
      "Predicted\n"
     ]
    },
    {
     "data": {
      "image/png": "[encoded data removed]",
      "text/plain": [
       "<matplotlib.figure.Figure at 0x7fc4de7c8e50>"
      ]
     },
     "metadata": {},
     "output_type": "display_data"
    },
    {
     "name": "stdout",
     "output_type": "stream",
     "text": [
      "L\n",
      "Autograd ArrayBox with value [[ 0.          0.107478    0.08252901  0.06588942  0.05573178  0.0498645\n",
      "   0.04658422  0.04478226  0.0437978   0.04325713]\n",
      " [ 0.10745623  0.          0.06993099  0.05759787  0.04967904  0.04496225\n",
      "   0.04227829  0.04078945  0.03997173  0.03952131]\n",
      " [ 0.08250046  0.06992135  0.          0.0495508   0.04357349  0.03990149\n",
      "   0.03777356  0.03658095  0.03592221  0.03555821]\n",
      " [ 0.06586224  0.05758651  0.04954793  0.          0.038438    0.03555161\n",
      "   0.0338525   0.03289162  0.03235822  0.03206265]\n",
      " [ 0.05570871  0.04966931  0.04357092  0.03843786  0.          0.03236491\n",
      "   0.03095072  0.03014562  0.02969702  0.02944792]\n",
      " [ 0.04984556  0.04495493  0.03990021  0.03555226  0.03236555  0.\n",
      "   0.02905195  0.02834151  0.02794468  0.02772403]\n",
      " [ 0.04656853  0.04227308  0.03777359  0.03385405  0.0309521   0.02905265\n",
      "   0.          0.02725186  0.02688478  0.02668051]\n",
      " [ 0.04476881  0.04078579  0.036582    0.03289389  0.03014759  0.02834276\n",
      "   0.0272524   0.          0.02627584  0.02608069]\n",
      " [ 0.04378575  0.03996907  0.03592393  0.03236099  0.0296994   0.0279463\n",
      "   0.02688569  0.0262762   0.          0.02574468]\n",
      " [ 0.04324589  0.03951922  0.03556033  0.03206571  0.02945055  0.02772587\n",
      "   0.02668162  0.02608127  0.02574489  0.        ]]\n",
      "('Iteration', 189, 'Train loss:', <autograd.numpy.numpy_boxes.ArrayBox object at 0x7fc4dc933d40>)\n",
      "Test loss:  Autograd ArrayBox with value 145.727985964\n",
      "Target\n"
     ]
    },
    {
     "data": {
      "image/png": "[encoded data removed]",
      "text/plain": [
       "<matplotlib.figure.Figure at 0x7fc4dc1a9a10>"
      ]
     },
     "metadata": {},
     "output_type": "display_data"
    },
    {
     "name": "stdout",
     "output_type": "stream",
     "text": [
      "Predicted\n"
     ]
    },
    {
     "data": {
      "image/png": "[encoded data removed]",
      "text/plain": [
       "<matplotlib.figure.Figure at 0x7fc4dc1a9fd0>"
      ]
     },
     "metadata": {},
     "output_type": "display_data"
    },
    {
     "name": "stdout",
     "output_type": "stream",
     "text": [
      "L\n",
      "Autograd ArrayBox with value [[ 0.          0.10748039  0.08252916  0.06588869  0.05573097  0.04986387\n",
      "   0.04658378  0.04478194  0.04379755  0.04325696]\n",
      " [ 0.10745835  0.          0.06993044  0.05759689  0.04967814  0.04496161\n",
      "   0.04227785  0.04078912  0.03997146  0.03952109]\n",
      " [ 0.08250027  0.06992075  0.          0.04954991  0.043573    0.03990141\n",
      "   0.03777376  0.03658129  0.03592261  0.03555865]\n",
      " [ 0.06586119  0.05758551  0.04954712  0.          0.03843833  0.03555245\n",
      "   0.03385365  0.03289293  0.03235958  0.03206404]\n",
      " [ 0.0557076   0.04966845  0.04357059  0.03843828  0.          0.03236661\n",
      "   0.03095272  0.03014776  0.02969921  0.02945014]\n",
      " [ 0.04984466  0.04495435  0.03990034  0.03555323  0.03236729  0.\n",
      "   0.02905451  0.0283442   0.02794742  0.02772678]\n",
      " [ 0.04656783  0.04227272  0.03777401  0.03385536  0.03095417  0.02905522\n",
      "   0.          0.02725483  0.02688779  0.02668353]\n",
      " [ 0.04476823  0.04078553  0.03658256  0.03289536  0.03014981  0.02834547\n",
      "   0.02725537  0.          0.02627896  0.02608382]\n",
      " [ 0.04378524  0.03996886  0.03592454  0.0323625   0.02970166  0.02794905\n",
      "   0.02688869  0.02627931  0.          0.02574783]\n",
      " [ 0.04324545  0.03951905  0.03556097  0.03206724  0.02945282  0.02772862\n",
      "   0.02668463  0.02608437  0.02574803  0.        ]]\n",
      "('Iteration', 192, 'Train loss:', <autograd.numpy.numpy_boxes.ArrayBox object at 0x7fc4da315ab8>)\n",
      "Test loss:  Autograd ArrayBox with value 145.717945977\n",
      "Target\n"
     ]
    },
    {
     "data": {
      "image/png": "[encoded data removed]",
      "text/plain": [
       "<matplotlib.figure.Figure at 0x7fc4d9c09bd0>"
      ]
     },
     "metadata": {},
     "output_type": "display_data"
    },
    {
     "name": "stdout",
     "output_type": "stream",
     "text": [
      "Predicted\n"
     ]
    },
    {
     "data": {
      "image/png": "[encoded data removed]",
      "text/plain": [
       "<matplotlib.figure.Figure at 0x7fc4dc1213d0>"
      ]
     },
     "metadata": {},
     "output_type": "display_data"
    },
    {
     "name": "stdout",
     "output_type": "stream",
     "text": [
      "L\n",
      "Autograd ArrayBox with value [[ 0.          0.1074906   0.08253025  0.06588583  0.05572746  0.04986111\n",
      "   0.04658209  0.04478118  0.04379749  0.04325741]\n",
      " [ 0.10746686  0.          0.06992816  0.05759197  0.04967279  0.04495693\n",
      "   0.04227413  0.04078625  0.03996922  0.0395193 ]\n",
      " [ 0.08249901  0.06991753  0.          0.04954292  0.0435659   0.03989497\n",
      "   0.03776816  0.03657642  0.03591829  0.03555472]\n",
      " [ 0.06585596  0.05757934  0.04953969  0.          0.03843028  0.03554501\n",
      "   0.03384695  0.03288685  0.03235397  0.03205876]\n",
      " [ 0.05570194  0.04966182  0.04356292  0.03843005  0.          0.03235901\n",
      "   0.03094575  0.03014133  0.02969318  0.02944438]\n",
      " [ 0.04984001  0.04494849  0.03989331  0.03554558  0.03235964  0.\n",
      "   0.02904779  0.02833795  0.02794151  0.02772111]\n",
      " [ 0.04656446  0.04226792  0.03776787  0.03384844  0.03094713  0.02904849\n",
      "   0.          0.02724895  0.02688222  0.02667818]\n",
      " [ 0.04476594  0.04078166  0.03657719  0.03288908  0.03014331  0.0283392\n",
      "   0.02724949  0.          0.02627374  0.0260788 ]\n",
      " [ 0.04378374  0.03996568  0.03591976  0.03235671  0.02969557  0.02794313\n",
      "   0.02688312  0.0262741   0.          0.02574307]\n",
      " [ 0.04324451  0.03951635  0.03555658  0.03206178  0.029447    0.02772295\n",
      "   0.02667928  0.02607936  0.02574327  0.        ]]\n",
      "('Iteration', 195, 'Train loss:', <autograd.numpy.numpy_boxes.ArrayBox object at 0x7fc4d7d7a7a0>)\n",
      "Test loss:  Autograd ArrayBox with value 145.715278912\n",
      "Target\n"
     ]
    },
    {
     "data": {
      "image/png": "[encoded data removed]",
      "text/plain": [
       "<matplotlib.figure.Figure at 0x7fc4d75edd90>"
      ]
     },
     "metadata": {},
     "output_type": "display_data"
    },
    {
     "name": "stdout",
     "output_type": "stream",
     "text": [
      "Predicted\n"
     ]
    },
    {
     "data": {
      "image/png": "[encoded data removed]",
      "text/plain": [
       "<matplotlib.figure.Figure at 0x7fc4de6ace90>"
      ]
     },
     "metadata": {},
     "output_type": "display_data"
    },
    {
     "name": "stdout",
     "output_type": "stream",
     "text": [
      "L\n",
      "Autograd ArrayBox with value [[ 0.          0.10747635  0.08252856  0.06588962  0.0557322   0.04986488\n",
      "   0.04658446  0.04478232  0.04379773  0.04325702]\n",
      " [ 0.107455    0.          0.06993083  0.05759834  0.04967995  0.04496336\n",
      "   0.04227943  0.04079053  0.03997274  0.0395223 ]\n",
      " [ 0.08250065  0.06992153  0.          0.04955184  0.04357514  0.03990356\n",
      "   0.03777583  0.03658327  0.03592453  0.03556054]\n",
      " [ 0.06586316  0.05758755  0.04954927  0.          0.03844063  0.03555472\n",
      "   0.03385587  0.03289509  0.03236171  0.03206616]\n",
      " [ 0.05570984  0.04967092  0.04357308  0.03844071  0.          0.03236891\n",
      "   0.03095497  0.03014997  0.02970139  0.02945231]\n",
      " [ 0.04984663  0.04495681  0.03990291  0.03555573  0.03236969  0.\n",
      "   0.02905677  0.02834641  0.0279496   0.02772895]\n",
      " [ 0.04656942  0.04227502  0.03777656  0.03385786  0.03095657  0.02905754\n",
      "   0.          0.02725703  0.02688997  0.0266857 ]\n",
      " [ 0.04476949  0.04078767  0.03658505  0.03289784  0.0301522   0.02834777\n",
      "   0.02725761  0.          0.02628113  0.02608598]\n",
      " [ 0.04378628  0.03997088  0.03592699  0.03236497  0.02970404  0.02795135\n",
      "   0.02689092  0.02628151  0.          0.02574999]\n",
      " [ 0.04324636  0.03952101  0.0355634   0.03206971  0.0294552   0.02773092\n",
      "   0.02668687  0.02608657  0.0257502   0.        ]]\n",
      "('Iteration', 198, 'Train loss:', <autograd.numpy.numpy_boxes.ArrayBox object at 0x7fc4d575b4d0>)\n",
      "Test loss:  Autograd ArrayBox with value 145.671633292\n",
      "Target\n"
     ]
    },
    {
     "data": {
      "image/png": "[encoded data removed]",
      "text/plain": [
       "<matplotlib.figure.Figure at 0x7fc4d504aed0>"
      ]
     },
     "metadata": {},
     "output_type": "display_data"
    },
    {
     "name": "stdout",
     "output_type": "stream",
     "text": [
      "Predicted\n"
     ]
    },
    {
     "data": {
      "image/png": "[encoded data removed]",
      "text/plain": [
       "<matplotlib.figure.Figure at 0x7fc4de6ac050>"
      ]
     },
     "metadata": {},
     "output_type": "display_data"
    },
    {
     "name": "stdout",
     "output_type": "stream",
     "text": [
      "L\n",
      "Autograd ArrayBox with value [[ 0.          0.10746173  0.08252848  0.06589517  0.0557381   0.04986912\n",
      "   0.04658676  0.04478307  0.04379738  0.04325589]\n",
      " [ 0.10744252  0.          0.06993654  0.05760689  0.04968779  0.04496916\n",
      "   0.04228316  0.04079266  0.03997378  0.03952259]\n",
      " [ 0.08250319  0.06992794  0.          0.04956227  0.04358418  0.03991047\n",
      "   0.03778078  0.03658676  0.03592703  0.03556239]\n",
      " [ 0.06587099  0.05759669  0.04955971  0.          0.03844941  0.0355616\n",
      "   0.03386107  0.03289905  0.03236485  0.03206876]\n",
      " [ 0.05571747  0.04967903  0.04358194  0.03844935  0.          0.03237479\n",
      "   0.03095947  0.03015345  0.0297042   0.02945468]\n",
      " [ 0.04985209  0.04496253  0.03990943  0.03556232  0.03237544  0.\n",
      "   0.02906019  0.02834899  0.02795162  0.02773061]\n",
      " [ 0.04657257  0.04227842  0.03778095  0.03386266  0.03096086  0.02906088\n",
      "   0.          0.02725873  0.02689118  0.02668659]\n",
      " [ 0.04477085  0.0407893   0.03658787  0.03290134  0.03015542  0.02835023\n",
      "   0.02725926  0.          0.02628171  0.02608627]\n",
      " [ 0.04378639  0.03997131  0.03592877  0.0323676   0.02970657  0.02795322\n",
      "   0.02689207  0.02628206  0.          0.02574986]\n",
      " [ 0.04324561  0.03952064  0.03556449  0.03207179  0.02945728  0.02773243\n",
      "   0.02668769  0.02608683  0.02575007  0.        ]]\n",
      "('Iteration', 201, 'Train loss:', <autograd.numpy.numpy_boxes.ArrayBox object at 0x7fc4d31ba248>)\n",
      "Test loss:  Autograd ArrayBox with value 145.733238468\n",
      "Target\n"
     ]
    },
    {
     "data": {
      "image/png": "[encoded data removed]",
      "text/plain": [
       "<matplotlib.figure.Figure at 0x7fc4d2a300d0>"
      ]
     },
     "metadata": {},
     "output_type": "display_data"
    },
    {
     "name": "stdout",
     "output_type": "stream",
     "text": [
      "Predicted\n"
     ]
    },
    {
     "data": {
      "image/png": "[encoded data removed]",
      "text/plain": [
       "<matplotlib.figure.Figure at 0x7fc4d299fe50>"
      ]
     },
     "metadata": {},
     "output_type": "display_data"
    },
    {
     "name": "stdout",
     "output_type": "stream",
     "text": [
      "L\n",
      "Autograd ArrayBox with value [[ 0.          0.10750275  0.08253124  0.06588209  0.05572304  0.0498577\n",
      "   0.04658002  0.04478028  0.0437975   0.04325811]\n",
      " [ 0.10747716  0.          0.06992454  0.05758546  0.04966631  0.04495177\n",
      "   0.04227048  0.04078386  0.03996777  0.03951853]\n",
      " [ 0.08249752  0.06991304  0.          0.04953397  0.04355764  0.03988827\n",
      "   0.03776305  0.03657259  0.03591538  0.03555245]\n",
      " [ 0.06584981  0.05757183  0.04953054  0.          0.03842156  0.03553783\n",
      "   0.03384127  0.03288235  0.0323503   0.03205567]\n",
      " [ 0.05569546  0.04965454  0.04355457  0.03842142  0.          0.0323525\n",
      "   0.03094055  0.03013716  0.02968973  0.02944144]\n",
      " [ 0.0498349   0.0449428   0.03988674  0.03553864  0.03235328  0.\n",
      "   0.02904364  0.02833469  0.02793888  0.02771893]\n",
      " [ 0.04656097  0.04226398  0.03776307  0.03384315  0.0309422   0.02904446\n",
      "   0.          0.02724668  0.02688053  0.02667688]\n",
      " [ 0.04476382  0.04077915  0.0365738   0.03288508  0.03013951  0.02833615\n",
      "   0.02724731  0.          0.02627281  0.02607824]\n",
      " [ 0.04378264  0.03996421  0.03591736  0.0323536   0.02969255  0.02794077\n",
      "   0.02688157  0.02627322  0.          0.02574305]\n",
      " [ 0.04324418  0.03951563  0.03555488  0.03205929  0.02944452  0.02772106\n",
      "   0.02667815  0.02607888  0.02574328  0.        ]]\n",
      "('Iteration', 204, 'Train loss:', <autograd.numpy.numpy_boxes.ArrayBox object at 0x7fc4d0c12ef0>)\n",
      "Test loss:  Autograd ArrayBox with value 145.709715229\n",
      "Target\n"
     ]
    },
    {
     "data": {
      "image/png": "[encoded data removed]",
      "text/plain": [
       "<matplotlib.figure.Figure at 0x7fc4d2a39b10>"
      ]
     },
     "metadata": {},
     "output_type": "display_data"
    },
    {
     "name": "stdout",
     "output_type": "stream",
     "text": [
      "Predicted\n"
     ]
    },
    {
     "data": {
      "image/png": "[encoded data removed]",
      "text/plain": [
       "<matplotlib.figure.Figure at 0x7fc4d4ff5290>"
      ]
     },
     "metadata": {},
     "output_type": "display_data"
    },
    {
     "name": "stdout",
     "output_type": "stream",
     "text": [
      "L\n",
      "Autograd ArrayBox with value [[ 0.          0.10747439  0.08252907  0.06589085  0.05573327  0.04986553\n",
      "   0.04658473  0.04478236  0.04379768  0.04325694]\n",
      " [ 0.1074532   0.          0.06993222  0.05759968  0.04968072  0.04496356\n",
      "   0.04227919  0.04079005  0.03997217  0.0395217 ]\n",
      " [ 0.08250119  0.0699227   0.          0.04955248  0.04357497  0.03990276\n",
      "   0.03777463  0.03658186  0.03592305  0.03555904]\n",
      " [ 0.06586424  0.05758842  0.04954963  0.          0.03843934  0.03555289\n",
      "   0.03385373  0.0328928   0.03235939  0.03206385]\n",
      " [ 0.05571064  0.04967108  0.04357248  0.03843927  0.          0.03236636\n",
      "   0.03095221  0.03014711  0.02969853  0.02944947]\n",
      " [ 0.04984693  0.04495632  0.03990161  0.03555368  0.03236708  0.\n",
      "   0.02905368  0.02834328  0.02794648  0.02772587]\n",
      " [ 0.04656929  0.04227407  0.03777483  0.03385548  0.03095373  0.02905444\n",
      "   0.          0.02725381  0.02688677  0.02668253]\n",
      " [ 0.04476911  0.04078647  0.03658311  0.03289532  0.03014927  0.02834463\n",
      "   0.02725439  0.          0.02627793  0.02608282]\n",
      " [ 0.0437858   0.03996959  0.035925    0.03236242  0.02970112  0.02794823\n",
      "   0.02688773  0.02627831  0.          0.02574686]\n",
      " [ 0.04324585  0.0395197   0.03556141  0.03206719  0.02945232  0.02772785\n",
      "   0.02668373  0.02608343  0.02574709  0.        ]]\n",
      "('Iteration', 207, 'Train loss:', <autograd.numpy.numpy_boxes.ArrayBox object at 0x7fc4cecd78c0>)\n",
      "Test loss:  Autograd ArrayBox with value 145.755361264\n",
      "Target\n"
     ]
    },
    {
     "data": {
      "image/png": "[encoded data removed]",
      "text/plain": [
       "<matplotlib.figure.Figure at 0x7fc4ce5c74d0>"
      ]
     },
     "metadata": {},
     "output_type": "display_data"
    },
    {
     "name": "stdout",
     "output_type": "stream",
     "text": [
      "Predicted\n"
     ]
    },
    {
     "data": {
      "image/png": "[encoded data removed]",
      "text/plain": [
       "<matplotlib.figure.Figure at 0x7fc4ce5c7ad0>"
      ]
     },
     "metadata": {},
     "output_type": "display_data"
    },
    {
     "name": "stdout",
     "output_type": "stream",
     "text": [
      "L\n",
      "Autograd ArrayBox with value [[ 0.          0.10749474  0.08252872  0.06588273  0.05572486  0.04985958\n",
      "   0.04658152  0.04478126  0.04379795  0.04325812]\n",
      " [ 0.10747075  0.          0.06992394  0.05758804  0.04967058  0.04495652\n",
      "   0.04227508  0.04078807  0.03997154  0.03952191]\n",
      " [ 0.08249761  0.0699139   0.          0.04953998  0.04356526  0.03989638\n",
      "   0.03777103  0.0365802   0.03592257  0.03555928]\n",
      " [ 0.06585348  0.05757671  0.04953753  0.          0.03843197  0.03554854\n",
      "   0.03385175  0.03289243  0.03235997  0.032065  ]\n",
      " [ 0.05570037  0.04966145  0.04356362  0.0384323   0.          0.03236452\n",
      "   0.03095227  0.03014846  0.02970065  0.02945203]\n",
      " [ 0.04983979  0.04495025  0.0398964   0.03554999  0.03236546  0.\n",
      "   0.02905561  0.02834624  0.02795007  0.02772981]\n",
      " [ 0.04656537  0.04227124  0.0377726   0.03385429  0.03095413  0.02905647\n",
      "   0.          0.027258    0.02689149  0.02668755]\n",
      " [ 0.04476761  0.04078597  0.03658292  0.0328958   0.03015101  0.02834774\n",
      "   0.02725862  0.          0.02628341  0.02608857]\n",
      " [ 0.04378584  0.03997053  0.03592604  0.03236388  0.02970364  0.02795197\n",
      "   0.0268925   0.0262838   0.          0.02575303]\n",
      " [ 0.04324686  0.03952151  0.03556316  0.0320692   0.02945526  0.02773193\n",
      "   0.02668878  0.02608917  0.02575325  0.        ]]\n",
      "('Iteration', 210, 'Train loss:', <autograd.numpy.numpy_boxes.ArrayBox object at 0x7fc4cc7f75f0>)\n",
      "Test loss:  Autograd ArrayBox with value 145.724489671\n",
      "Target\n"
     ]
    },
    {
     "data": {
      "image/png": "[encoded data removed]",
      "text/plain": [
       "<matplotlib.figure.Figure at 0x7fc4cc066650>"
      ]
     },
     "metadata": {},
     "output_type": "display_data"
    },
    {
     "name": "stdout",
     "output_type": "stream",
     "text": [
      "Predicted\n"
     ]
    },
    {
     "data": {
      "image/png": "[encoded data removed]",
      "text/plain": [
       "<matplotlib.figure.Figure at 0x7fc4cc066c50>"
      ]
     },
     "metadata": {},
     "output_type": "display_data"
    },
    {
     "name": "stdout",
     "output_type": "stream",
     "text": [
      "L\n",
      "Autograd ArrayBox with value [[ 0.          0.10748417  0.08253079  0.06588884  0.05573039  0.04986309\n",
      "   0.04658305  0.04478137  0.04379723  0.04325691]\n",
      " [ 0.1074613   0.          0.06993121  0.05759582  0.04967597  0.04495902\n",
      "   0.04227523  0.04078665  0.03996921  0.03951908]\n",
      " [ 0.08250047  0.06992061  0.          0.04954648  0.04356849  0.03989655\n",
      "   0.03776895  0.03657667  0.03591823  0.03555451]\n",
      " [ 0.06585958  0.05758298  0.04954306  0.          0.03843196  0.03554591\n",
      "   0.03384728  0.0328868   0.0323537   0.0320584 ]\n",
      " [ 0.05570519  0.0496646   0.0435652   0.03843164  0.          0.03235934\n",
      "   0.03094567  0.03014098  0.02969268  0.02944383]\n",
      " [ 0.04984206  0.04495005  0.03989454  0.03554635  0.03235995  0.\n",
      "   0.02904742  0.02833738  0.02794084  0.02772041]\n",
      " [ 0.04656532  0.04226843  0.03776828  0.03384865  0.03094704  0.02904813\n",
      "   0.          0.02724823  0.02688142  0.02667735]\n",
      " [ 0.04476592  0.04078143  0.03657706  0.03288892  0.03014298  0.02833866\n",
      "   0.02724879  0.          0.02627285  0.02607789]\n",
      " [ 0.0437832   0.03996501  0.03591932  0.03235634  0.0296951   0.0279425\n",
      "   0.02688235  0.02627322  0.          0.02574212]\n",
      " [ 0.04324372  0.03951549  0.03555601  0.03206134  0.02944649  0.02772229\n",
      "   0.02667849  0.02607847  0.02574233  0.        ]]\n",
      "('Iteration', 213, 'Train loss:', <autograd.numpy.numpy_boxes.ArrayBox object at 0x7fc4ca2972d8>)\n",
      "Test loss:  Autograd ArrayBox with value 145.722499173\n",
      "Target\n"
     ]
    },
    {
     "data": {
      "image/png": "[encoded data removed]",
      "text/plain": [
       "<matplotlib.figure.Figure at 0x7fc4c9b84810>"
      ]
     },
     "metadata": {},
     "output_type": "display_data"
    },
    {
     "name": "stdout",
     "output_type": "stream",
     "text": [
      "Predicted\n"
     ]
    },
    {
     "data": {
      "image/png": "[encoded data removed]",
      "text/plain": [
       "<matplotlib.figure.Figure at 0x7fc4c9b84e10>"
      ]
     },
     "metadata": {},
     "output_type": "display_data"
    },
    {
     "name": "stdout",
     "output_type": "stream",
     "text": [
      "L\n",
      "Autograd ArrayBox with value [[ 0.          0.10749043  0.08252912  0.06588475  0.05572678  0.04986082\n",
      "   0.04658205  0.04478128  0.04379766  0.04325765]\n",
      " [ 0.1074671   0.          0.0699262   0.05759086  0.0496729   0.04495805\n",
      "   0.04227591  0.04078841  0.03997158  0.03952179]\n",
      " [ 0.08249872  0.06991624  0.          0.04954285  0.04356749  0.03989791\n",
      "   0.03777201  0.03658081  0.03592297  0.03555957]\n",
      " [ 0.06585602  0.05757949  0.04954032  0.          0.03843377  0.03554982\n",
      "   0.03385264  0.03289307  0.03236049  0.03206545]\n",
      " [ 0.05570259  0.0496636   0.0435657   0.03843406  0.          0.03236548\n",
      "   0.03095298  0.03014902  0.02970112  0.02945248]\n",
      " [ 0.04984114  0.04495152  0.03989776  0.03555122  0.03236643  0.\n",
      "   0.02905616  0.0283467   0.02795048  0.02773022]\n",
      " [ 0.04656589  0.04227174  0.03777339  0.03385515  0.03095487  0.02905705\n",
      "   0.          0.0272584   0.02689186  0.02668793]\n",
      " [ 0.04476752  0.04078593  0.03658334  0.03289643  0.03015161  0.02834824\n",
      "   0.02725904  0.          0.02628377  0.02608894]\n",
      " [ 0.04378539  0.03997018  0.03592625  0.0323644   0.02970417  0.02795244\n",
      "   0.02689292  0.02628418  0.          0.02575342]\n",
      " [ 0.04324622  0.039521    0.03556327  0.03206967  0.02945578  0.02773241\n",
      "   0.02668921  0.02608957  0.02575365  0.        ]]\n",
      "('Iteration', 216, 'Train loss:', <autograd.numpy.numpy_boxes.ArrayBox object at 0x7fc4c7db0fc8>)\n",
      "Test loss:  Autograd ArrayBox with value 145.737370569\n",
      "Target\n"
     ]
    },
    {
     "data": {
      "image/png": "[encoded data removed]",
      "text/plain": [
       "<matplotlib.figure.Figure at 0x7fc4c76209d0>"
      ]
     },
     "metadata": {},
     "output_type": "display_data"
    },
    {
     "name": "stdout",
     "output_type": "stream",
     "text": [
      "Predicted\n"
     ]
    },
    {
     "data": {
      "image/png": "[encoded data removed]",
      "text/plain": [
       "<matplotlib.figure.Figure at 0x7fc4c7620fd0>"
      ]
     },
     "metadata": {},
     "output_type": "display_data"
    },
    {
     "name": "stdout",
     "output_type": "stream",
     "text": [
      "L\n",
      "Autograd ArrayBox with value [[ 0.          0.10750009  0.08253093  0.06588282  0.05572394  0.04985837\n",
      "   0.04658039  0.04478038  0.0437974   0.04325789]\n",
      " [ 0.10747501  0.          0.06992527  0.05758688  0.0496678   0.04495304\n",
      "   0.04227145  0.04078457  0.03996829  0.03951893]\n",
      " [ 0.08249792  0.06991406  0.          0.04953602  0.0435597   0.03989014\n",
      "   0.03776468  0.036574    0.03591663  0.03555359]\n",
      " [ 0.06585126  0.05757362  0.04953272  0.          0.03842399  0.03554014\n",
      "   0.03384339  0.0328843   0.03235213  0.03205741]\n",
      " [ 0.05569699  0.0496564   0.04355681  0.03842391  0.          0.03235502\n",
      "   0.03094294  0.03013941  0.02969189  0.02944352]\n",
      " [ 0.04983611  0.04494439  0.03988878  0.03554102  0.03235581  0.\n",
      "   0.02904609  0.02833704  0.02794115  0.02772114]\n",
      " [ 0.0465618   0.04226522  0.03776485  0.03384535  0.03094462  0.02904692\n",
      "   0.          0.02724901  0.02688278  0.02667908]\n",
      " [ 0.04476432  0.04078009  0.03657534  0.0328871   0.03014179  0.02833851\n",
      "   0.02724963  0.          0.026275    0.02608039]\n",
      " [ 0.04378292  0.03996494  0.03591873  0.03235548  0.02969472  0.02794304\n",
      "   0.02688382  0.02627541  0.          0.02574514]\n",
      " [ 0.04324431  0.03951622  0.03555614  0.03206109  0.02944662  0.02772327\n",
      "   0.02668035  0.02608102  0.02574537  0.        ]]\n",
      "('Iteration', 219, 'Train loss:', <autograd.numpy.numpy_boxes.ArrayBox object at 0x7fc4c58d3cf8>)\n",
      "Test loss:  Autograd ArrayBox with value 145.734642211\n",
      "Target\n"
     ]
    },
    {
     "data": {
      "image/png": "[encoded data removed]",
      "text/plain": [
       "<matplotlib.figure.Figure at 0x7fc4c5141b90>"
      ]
     },
     "metadata": {},
     "output_type": "display_data"
    },
    {
     "name": "stdout",
     "output_type": "stream",
     "text": [
      "Predicted\n"
     ]
    },
    {
     "data": {
      "image/png": "[encoded data removed]",
      "text/plain": [
       "<matplotlib.figure.Figure at 0x7fc4c764cc10>"
      ]
     },
     "metadata": {},
     "output_type": "display_data"
    },
    {
     "name": "stdout",
     "output_type": "stream",
     "text": [
      "L\n",
      "Autograd ArrayBox with value [[ 0.          0.10747974  0.08253069  0.06589045  0.05573216  0.04986441\n",
      "   0.04658385  0.04478172  0.04379723  0.04325664]\n",
      " [ 0.10745746  0.          0.06993285  0.05759836  0.04967829  0.0449607\n",
      "   0.04227628  0.0407872   0.03996939  0.03951899]\n",
      " [ 0.08250107  0.06992243  0.          0.04954968  0.04357117  0.03989845\n",
      "   0.03777014  0.03657733  0.03591852  0.03555453]\n",
      " [ 0.06586181  0.05758564  0.04954621  0.          0.03843443  0.03554758\n",
      "   0.03384825  0.03288726  0.03235382  0.03205828]\n",
      " [ 0.05570741  0.04966691  0.0435677   0.03843398  0.          0.03236035\n",
      "   0.03094605  0.03014091  0.0296923   0.02944324]\n",
      " [ 0.0498437   0.0449516   0.03989614  0.03554779  0.03236085  0.\n",
      "   0.02904711  0.02833667  0.02793985  0.02771923]\n",
      " [ 0.04656633  0.04226924  0.03776909  0.0338493   0.03094724  0.02904775\n",
      "   0.          0.02724697  0.02687992  0.02667568]\n",
      " [ 0.04476643  0.04078168  0.03657728  0.03288902  0.03014267  0.02833783\n",
      "   0.02724749  0.          0.02627097  0.02607586]\n",
      " [ 0.04378332  0.03996486  0.03591913  0.03235606  0.02969446  0.02794137\n",
      "   0.02688078  0.02627132  0.          0.02573984]\n",
      " [ 0.04324355  0.03951504  0.03555554  0.0320608   0.02944562  0.02772096\n",
      "   0.02667674  0.0260764   0.02574004  0.        ]]\n",
      "('Iteration', 222, 'Train loss:', <autograd.numpy.numpy_boxes.ArrayBox object at 0x7fc4c3387a70>)\n",
      "Test loss:  Autograd ArrayBox with value 145.680228783\n",
      "Target\n"
     ]
    },
    {
     "data": {
      "image/png": "[encoded data removed]",
      "text/plain": [
       "<matplotlib.figure.Figure at 0x7fc4c2bfcd50>"
      ]
     },
     "metadata": {},
     "output_type": "display_data"
    },
    {
     "name": "stdout",
     "output_type": "stream",
     "text": [
      "Predicted\n"
     ]
    },
    {
     "data": {
      "image/png": "[encoded data removed]",
      "text/plain": [
       "<matplotlib.figure.Figure at 0x7fc4c9b4f310>"
      ]
     },
     "metadata": {},
     "output_type": "display_data"
    },
    {
     "name": "stdout",
     "output_type": "stream",
     "text": [
      "L\n",
      "Autograd ArrayBox with value [[ 0.          0.10746546  0.08252842  0.06589368  0.05573658  0.04986811\n",
      "   0.04658634  0.04478312  0.04379777  0.04325649]\n",
      " [ 0.10744553  0.          0.06993486  0.05760442  0.04968543  0.04496729\n",
      "   0.04228184  0.04079179  0.03997322  0.03952223]\n",
      " [ 0.08250223  0.06992592  0.          0.04955893  0.04358087  0.03990746\n",
      "   0.03777814  0.03658444  0.03592494  0.03556045]\n",
      " [ 0.06586869  0.05759381  0.04955619  0.          0.03844538  0.03555769\n",
      "   0.03385737  0.03289555  0.0323615   0.03206551]\n",
      " [ 0.05571533  0.04967629  0.04357838  0.03844521  0.          0.03237038\n",
      "   0.03095517  0.03014927  0.02970012  0.02945067]\n",
      " [ 0.04985064  0.04496036  0.03990615  0.03555825  0.03237097  0.\n",
      "   0.02905562  0.0283445   0.0279472   0.02772624]\n",
      " [ 0.04657184  0.04227686  0.03777805  0.03385877  0.03095645  0.02905627\n",
      "   0.          0.02725414  0.02688664  0.02668209]\n",
      " [ 0.04477068  0.04078824  0.0365853   0.03289763  0.03015112  0.02834568\n",
      "   0.02725465  0.          0.02627716  0.02608175]\n",
      " [ 0.04378662  0.0399706   0.03592644  0.03236405  0.02970235  0.02794873\n",
      "   0.0268875   0.0262775   0.          0.02574535]\n",
      " [ 0.04324609  0.03952015  0.03556232  0.03206834  0.02945314  0.02772798\n",
      "   0.02668315  0.02608229  0.02574555  0.        ]]\n",
      "('Iteration', 225, 'Train loss:', <autograd.numpy.numpy_boxes.ArrayBox object at 0x7fc4c0d69758>)\n",
      "Test loss:  Autograd ArrayBox with value 145.710185491\n",
      "Target\n"
     ]
    },
    {
     "data": {
      "image/png": "[encoded data removed]",
      "text/plain": [
       "<matplotlib.figure.Figure at 0x7fc4c05ddf10>"
      ]
     },
     "metadata": {},
     "output_type": "display_data"
    },
    {
     "name": "stdout",
     "output_type": "stream",
     "text": [
      "Predicted\n"
     ]
    },
    {
     "data": {
      "image/png": "[encoded data removed]",
      "text/plain": [
       "<matplotlib.figure.Figure at 0x7fc4c0554d10>"
      ]
     },
     "metadata": {},
     "output_type": "display_data"
    },
    {
     "name": "stdout",
     "output_type": "stream",
     "text": [
      "L\n",
      "Autograd ArrayBox with value [[ 0.          0.10747713  0.0825283   0.06588908  0.05573173  0.04986457\n",
      "   0.04658428  0.04478221  0.04379765  0.04325693]\n",
      " [ 0.10745582  0.          0.06993026  0.05759793  0.04967989  0.04496361\n",
      "   0.04227987  0.04079106  0.0399733   0.03952285]\n",
      " [ 0.08250055  0.06992119  0.          0.04955212  0.04357599  0.03990482\n",
      "   0.03777733  0.03658489  0.03592618  0.03556219]\n",
      " [ 0.06586287  0.05758757  0.04954979  0.          0.03844244  0.03555695\n",
      "   0.03385833  0.03289766  0.03236432  0.03206877]\n",
      " [ 0.05570967  0.04967141  0.04357433  0.03844269  0.          0.03237185\n",
      "   0.03095811  0.0301532   0.02970465  0.02945557]\n",
      " [ 0.04984663  0.04495764  0.03990464  0.0355582   0.03237271  0.\n",
      "   0.02906029  0.02835002  0.02795323  0.02773259]\n",
      " [ 0.04656955  0.04227605  0.03777854  0.03386059  0.03095981  0.0290611\n",
      "   0.          0.02726083  0.02689379  0.02668952]\n",
      " [ 0.0447697   0.04078879  0.03658714  0.03290069  0.03015555  0.02835142\n",
      "   0.02726142  0.          0.02628503  0.02608988]\n",
      " [ 0.0437865   0.03997202  0.03592913  0.03236785  0.02970743  0.02795503\n",
      "   0.02689476  0.02628541  0.          0.02575391]\n",
      " [ 0.04324656  0.03952213  0.03556552  0.03207259  0.02945859  0.02773461\n",
      "   0.0266907   0.02609048  0.02575413  0.        ]]\n",
      "('Iteration', 228, 'Train loss:', <autograd.numpy.numpy_boxes.ArrayBox object at 0x7fc4be7d0488>)\n",
      "Test loss:  Autograd ArrayBox with value 145.71308285\n",
      "Target\n"
     ]
    },
    {
     "data": {
      "image/png": "[encoded data removed]",
      "text/plain": [
       "<matplotlib.figure.Figure at 0x7fc4be048110>"
      ]
     },
     "metadata": {},
     "output_type": "display_data"
    },
    {
     "name": "stdout",
     "output_type": "stream",
     "text": [
      "Predicted\n"
     ]
    },
    {
     "data": {
      "image/png": "[encoded data removed]",
      "text/plain": [
       "<matplotlib.figure.Figure at 0x7fc4c055d0d0>"
      ]
     },
     "metadata": {},
     "output_type": "display_data"
    },
    {
     "name": "stdout",
     "output_type": "stream",
     "text": [
      "L\n",
      "Autograd ArrayBox with value [[ 0.          0.10748019  0.08252916  0.06588868  0.05573091  0.0498638\n",
      "   0.04658376  0.04478202  0.04379778  0.04325732]\n",
      " [ 0.10745817  0.          0.06993012  0.05759645  0.04967771  0.04496131\n",
      "   0.04227775  0.04078924  0.03997179  0.03952159]\n",
      " [ 0.08250027  0.06992036  0.          0.04954865  0.04357165  0.03990023\n",
      "   0.03777285  0.03658067  0.03592225  0.0355585 ]\n",
      " [ 0.0658612   0.05758499  0.04954581  0.          0.03843612  0.03555036\n",
      "   0.03385184  0.03289141  0.03235833  0.032063  ]\n",
      " [ 0.05570761  0.04966801  0.04356925  0.03843611  0.          0.0323641\n",
      "   0.03095045  0.03014577  0.02969746  0.02944858]\n",
      " [ 0.04984471  0.04495413  0.03989925  0.03555126  0.03236487  0.\n",
      "   0.02905225  0.02834218  0.02794562  0.02772517]\n",
      " [ 0.04656798  0.04227277  0.03777329  0.03385375  0.03095206  0.02905304\n",
      "   0.          0.02725302  0.02688619  0.02668209]\n",
      " [ 0.04476852  0.04078587  0.0365822   0.03289412  0.03014804  0.02834359\n",
      "   0.02725363  0.          0.02627762  0.02608263]\n",
      " [ 0.0437857   0.03996946  0.0359245   0.03236158  0.02970019  0.02794745\n",
      "   0.0268872   0.02627801  0.          0.02574687]\n",
      " [ 0.04324607  0.03951987  0.03556117  0.03206656  0.02945158  0.02772723\n",
      "   0.02668334  0.02608327  0.0257471   0.        ]]\n",
      "('Iteration', 231, 'Train loss:', <autograd.numpy.numpy_boxes.ArrayBox object at 0x7fc4bc1b71b8>)\n",
      "Test loss:  Autograd ArrayBox with value 145.709063787\n",
      "Target\n"
     ]
    },
    {
     "data": {
      "image/png": "[encoded data removed]",
      "text/plain": [
       "<matplotlib.figure.Figure at 0x7fc4bba2d2d0>"
      ]
     },
     "metadata": {},
     "output_type": "display_data"
    },
    {
     "name": "stdout",
     "output_type": "stream",
     "text": [
      "Predicted\n"
     ]
    },
    {
     "data": {
      "image/png": "[encoded data removed]",
      "text/plain": [
       "<matplotlib.figure.Figure at 0x7fc4c05cad90>"
      ]
     },
     "metadata": {},
     "output_type": "display_data"
    },
    {
     "name": "stdout",
     "output_type": "stream",
     "text": [
      "L\n",
      "Autograd ArrayBox with value [[ 0.          0.10747593  0.08252937  0.06589054  0.05573277  0.04986506\n",
      "   0.04658438  0.04478214  0.04379755  0.04325685]\n",
      " [ 0.10745452  0.          0.06993223  0.05759927  0.04968014  0.04496296\n",
      "   0.04227868  0.04078963  0.03997181  0.03952138]\n",
      " [ 0.0825012   0.06992262  0.          0.04955193  0.04357433  0.03990213\n",
      "   0.03777406  0.03658138  0.03592264  0.03555867]\n",
      " [ 0.06586361  0.05758786  0.04954904  0.          0.03843857  0.03555212\n",
      "   0.03385302  0.03289218  0.03235883  0.03206333]\n",
      " [ 0.05570981  0.04967033  0.04357176  0.03843847  0.          0.03236545\n",
      "   0.03095133  0.03014631  0.02969779  0.02944878]\n",
      " [ 0.04984614  0.04495554  0.03990089  0.03555288  0.03236616  0.\n",
      "   0.02905274  0.0283424   0.02794566  0.02772509]\n",
      " [ 0.04656863  0.04227336  0.03777418  0.03385474  0.03095284  0.02905349\n",
      "   0.          0.02725293  0.02688595  0.02668175]\n",
      " [ 0.04476858  0.04078585  0.03658255  0.03289466  0.03014847  0.02834375\n",
      "   0.02725352  0.          0.02627716  0.02608209]\n",
      " [ 0.04378537  0.03996904  0.0359245   0.03236184  0.02970039  0.02794742\n",
      "   0.02688693  0.02627755  0.          0.0257462 ]\n",
      " [ 0.04324547  0.03951919  0.03556095  0.03206665  0.02945163  0.02772709\n",
      "   0.02668297  0.02608271  0.02574643  0.        ]]\n",
      "('Iteration', 234, 'Train loss:', <autograd.numpy.numpy_boxes.ArrayBox object at 0x7fc4b9c0fef0>)\n",
      "Test loss:  Autograd ArrayBox with value 145.670629135\n",
      "Target\n"
     ]
    },
    {
     "data": {
      "image/png": "[encoded data removed]",
      "text/plain": [
       "<matplotlib.figure.Figure at 0x7fc4b948c490>"
      ]
     },
     "metadata": {},
     "output_type": "display_data"
    },
    {
     "name": "stdout",
     "output_type": "stream",
     "text": [
      "Predicted\n"
     ]
    },
    {
     "data": {
      "image/png": "[encoded data removed]",
      "text/plain": [
       "<matplotlib.figure.Figure at 0x7fc4b948ca50>"
      ]
     },
     "metadata": {},
     "output_type": "display_data"
    },
    {
     "name": "stdout",
     "output_type": "stream",
     "text": [
      "L\n",
      "Autograd ArrayBox with value [[ 0.          0.10746686  0.08252856  0.06589327  0.05573602  0.04986756\n",
      "   0.04658583  0.04478264  0.04379728  0.043256  ]\n",
      " [ 0.10744703  0.          0.06993486  0.05760433  0.04968551  0.04496754\n",
      "   0.0422822   0.04079219  0.03997363  0.03952263]\n",
      " [ 0.08250256  0.06992618  0.          0.04955966  0.0435822   0.03990925\n",
      "   0.03778021  0.03658666  0.03592723  0.03556276]\n",
      " [ 0.0658685   0.05759419  0.04955723  0.          0.03844805  0.03556095\n",
      "   0.03386099  0.03289938  0.03236543  0.0320695 ]\n",
      " [ 0.05571496  0.04967693  0.04358021  0.03844811  0.          0.03237474\n",
      "   0.0309599   0.03015422  0.02970519  0.02945579]\n",
      " [ 0.04985023  0.04496118  0.03990854  0.03556186  0.03237546  0.\n",
      "   0.02906107  0.02835017  0.02795298  0.02773208]\n",
      " [ 0.04657142  0.04227777  0.03778075  0.03386281  0.03096139  0.0290618\n",
      "   0.          0.02726024  0.02689285  0.02668836]\n",
      " [ 0.04477026  0.04078918  0.03658816  0.03290191  0.03015632  0.02835146\n",
      "   0.02726079  0.          0.02628361  0.02608827]\n",
      " [ 0.04378617  0.03997153  0.03592937  0.03236845  0.02970769  0.02795465\n",
      "   0.02689377  0.02628398  0.          0.02575201]\n",
      " [ 0.04324561  0.03952105  0.03556526  0.0320728   0.02945854  0.02773397\n",
      "   0.02668949  0.02608884  0.02575222  0.        ]]\n",
      "('Iteration', 237, 'Train loss:', <autograd.numpy.numpy_boxes.ArrayBox object at 0x7fc4b75efbd8>)\n",
      "Test loss:  Autograd ArrayBox with value 145.714581709\n",
      "Target\n"
     ]
    },
    {
     "data": {
      "image/png": "[encoded data removed]",
      "text/plain": [
       "<matplotlib.figure.Figure at 0x7fc4b6e67650>"
      ]
     },
     "metadata": {},
     "output_type": "display_data"
    },
    {
     "name": "stdout",
     "output_type": "stream",
     "text": [
      "Predicted\n"
     ]
    },
    {
     "data": {
      "image/png": "[encoded data removed]",
      "text/plain": [
       "<matplotlib.figure.Figure at 0x7fc4bb99a150>"
      ]
     },
     "metadata": {},
     "output_type": "display_data"
    },
    {
     "name": "stdout",
     "output_type": "stream",
     "text": [
      "L\n",
      "Autograd ArrayBox with value [[ 0.          0.1074897   0.08253109  0.06588696  0.05572822  0.04986141\n",
      "   0.04658204  0.04478093  0.04379719  0.04325711]\n",
      " [ 0.10746608  0.          0.06992958  0.05759306  0.04967332  0.04495699\n",
      "   0.04227389  0.04078587  0.03996882  0.03951893]\n",
      " [ 0.08249982  0.06991876  0.          0.04954328  0.04356572  0.03989448\n",
      "   0.03776755  0.03657581  0.03591774  0.03555425]\n",
      " [ 0.06585684  0.05758005  0.04953989  0.          0.03842937  0.03554394\n",
      "   0.0338459   0.0328859   0.03235314  0.03205805]\n",
      " [ 0.05570232  0.04966189  0.04356254  0.03842911  0.          0.03235765\n",
      "   0.03094448  0.0301402   0.02969219  0.02944352]\n",
      " [ 0.04983983  0.04494805  0.03989264  0.03554452  0.03235832  0.\n",
      "   0.02904657  0.02833688  0.02794059  0.02772032]\n",
      " [ 0.04656387  0.04226719  0.03776712  0.03384745  0.03094596  0.02904732\n",
      "   0.          0.02724807  0.02688149  0.02667758]\n",
      " [ 0.04476513  0.04078081  0.03657648  0.03288824  0.03014233  0.02833824\n",
      "   0.02724866  0.          0.02627322  0.02607841]\n",
      " [ 0.04378286  0.03996482  0.03591913  0.03235602  0.02969477  0.02794236\n",
      "   0.02688248  0.02627361  0.          0.02574286]\n",
      " [ 0.04324364  0.03951554  0.03555606  0.03206124  0.02944636  0.02772233\n",
      "   0.02667879  0.02607903  0.02574309  0.        ]]\n",
      "('Iteration', 240, 'Train loss:', <autograd.numpy.numpy_boxes.ArrayBox object at 0x7fc4b504e908>)\n",
      "Test loss:  Autograd ArrayBox with value 145.723274639\n",
      "Target\n"
     ]
    },
    {
     "data": {
      "image/png": "[encoded data removed]",
      "text/plain": [
       "<matplotlib.figure.Figure at 0x7fc4b48c7810>"
      ]
     },
     "metadata": {},
     "output_type": "display_data"
    },
    {
     "name": "stdout",
     "output_type": "stream",
     "text": [
      "Predicted\n"
     ]
    },
    {
     "data": {
      "image/png": "[encoded data removed]",
      "text/plain": [
       "<matplotlib.figure.Figure at 0x7fc4b48c7e10>"
      ]
     },
     "metadata": {},
     "output_type": "display_data"
    },
    {
     "name": "stdout",
     "output_type": "stream",
     "text": [
      "L\n",
      "Autograd ArrayBox with value [[ 0.          0.1074746   0.08252923  0.06589098  0.05573334  0.04986552\n",
      "   0.04658465  0.0447822   0.04379742  0.04325656]\n",
      " [ 0.1074534   0.          0.06993284  0.05760027  0.04968113  0.04496371\n",
      "   0.04227913  0.04078979  0.03997174  0.03952113]\n",
      " [ 0.08250136  0.06992336  0.          0.04955361  0.04357594  0.03990343\n",
      "   0.03777501  0.036582    0.03592299  0.03555883]\n",
      " [ 0.06586433  0.05758901  0.04955075  0.          0.03844061  0.03555389\n",
      "   0.03385443  0.03289326  0.03235965  0.03206396]\n",
      " [ 0.05571058  0.04967139  0.04357335  0.03844047  0.          0.03236729\n",
      "   0.03095286  0.03014754  0.02969877  0.02944957]\n",
      " [ 0.04984672  0.04495627  0.03990209  0.03555452  0.03236793  0.\n",
      "   0.02905407  0.02834345  0.02794648  0.02772575]\n",
      " [ 0.04656896  0.04227371  0.03777494  0.03385595  0.03095423  0.02905476\n",
      "   0.          0.02725369  0.0268865   0.02668214]\n",
      " [ 0.04476865  0.04078585  0.03658292  0.03289549  0.03014949  0.02834469\n",
      "   0.02725423  0.          0.02627743  0.0260822 ]\n",
      " [ 0.04378521  0.03996876  0.03592457  0.03236236  0.02970112  0.02794808\n",
      "   0.02688738  0.02627778  0.          0.02574607]\n",
      " [ 0.04324514  0.03951871  0.03556079  0.03206696  0.02945216  0.02772756\n",
      "   0.02668324  0.02608276  0.02574628  0.        ]]\n",
      "('Iteration', 243, 'Train loss:', <autograd.numpy.numpy_boxes.ArrayBox object at 0x7fc4b2a2d638>)\n",
      "Test loss:  Autograd ArrayBox with value 145.704996485\n",
      "Target\n"
     ]
    },
    {
     "data": {
      "image/png": "[encoded data removed]",
      "text/plain": [
       "<matplotlib.figure.Figure at 0x7fc4b229d9d0>"
      ]
     },
     "metadata": {},
     "output_type": "display_data"
    },
    {
     "name": "stdout",
     "output_type": "stream",
     "text": [
      "Predicted\n"
     ]
    },
    {
     "data": {
      "image/png": "[encoded data removed]",
      "text/plain": [
       "<matplotlib.figure.Figure at 0x7fc4b2260f90>"
      ]
     },
     "metadata": {},
     "output_type": "display_data"
    },
    {
     "name": "stdout",
     "output_type": "stream",
     "text": [
      "L\n",
      "Autograd ArrayBox with value [[ 0.          0.10747237  0.08252947  0.06589205  0.05573438  0.04986625\n",
      "   0.04658506  0.04478236  0.04379743  0.04325653]\n",
      " [ 0.10745143  0.          0.06993357  0.05760127  0.04968203  0.04496441\n",
      "   0.04227964  0.04079017  0.03997204  0.0395214 ]\n",
      " [ 0.0825018   0.06992405  0.          0.04955435  0.04357659  0.039904\n",
      "   0.03777552  0.03658248  0.03592346  0.03555931]\n",
      " [ 0.0658655   0.05758993  0.04955147  0.          0.03844114  0.03555441\n",
      "   0.03385498  0.03289383  0.03236024  0.03206458]\n",
      " [ 0.05571167  0.04967223  0.04357402  0.03844104  0.          0.03236789\n",
      "   0.03095351  0.03014823  0.0296995   0.02945034]\n",
      " [ 0.04984747  0.04495695  0.03990274  0.03555515  0.03236858  0.\n",
      "   0.02905486  0.0283443   0.02794738  0.02772668]\n",
      " [ 0.04656936  0.04227424  0.03777559  0.03385666  0.03095499  0.0290556\n",
      "   0.          0.02725467  0.02688753  0.02668322]\n",
      " [ 0.0447688   0.04078628  0.03658358  0.03289626  0.03015034  0.02834562\n",
      "   0.02725524  0.          0.02627857  0.02608339]\n",
      " [ 0.04378521  0.03996913  0.03592523  0.03236317  0.02970203  0.02794909\n",
      "   0.02688847  0.02627894  0.          0.02574733]\n",
      " [ 0.04324508  0.03951906  0.03556148  0.03206781  0.02945312  0.02772862\n",
      "   0.02668438  0.02608398  0.02574755  0.        ]]\n",
      "('Iteration', 246, 'Train loss:', <autograd.numpy.numpy_boxes.ArrayBox object at 0x7fc4b048b368>)\n",
      "Test loss:  Autograd ArrayBox with value 145.768488995\n",
      "Target\n"
     ]
    },
    {
     "data": {
      "image/png": "[encoded data removed]",
      "text/plain": [
       "<matplotlib.figure.Figure at 0x7fc4afcfab90>"
      ]
     },
     "metadata": {},
     "output_type": "display_data"
    },
    {
     "name": "stdout",
     "output_type": "stream",
     "text": [
      "Predicted\n"
     ]
    },
    {
     "data": {
      "image/png": "[encoded data removed]",
      "text/plain": [
       "<matplotlib.figure.Figure at 0x7fc4b2214350>"
      ]
     },
     "metadata": {},
     "output_type": "display_data"
    },
    {
     "name": "stdout",
     "output_type": "stream",
     "text": [
      "L\n",
      "Autograd ArrayBox with value [[ 0.          0.10750163  0.08252984  0.06588116  0.05572272  0.04985784\n",
      "   0.04658042  0.04478076  0.04379796  0.04325853]\n",
      " [ 0.10747638  0.          0.06992265  0.05758467  0.04966667  0.04495295\n",
      "   0.04227213  0.04078571  0.03996967  0.03952042]\n",
      " [ 0.08249686  0.06991172  0.          0.0495344   0.04355932  0.03989079\n",
      "   0.03776602  0.03657574  0.03591856  0.03555561]\n",
      " [ 0.06584994  0.05757209  0.04953148  0.          0.03842473  0.03554166\n",
      "   0.03384541  0.03288658  0.03235452  0.03205984]\n",
      " [ 0.0556964   0.04965625  0.04355707  0.03842488  0.          0.03235727\n",
      "   0.03094551  0.03014214  0.02969467  0.02944631]\n",
      " [ 0.04983639  0.04494548  0.03989021  0.03554289  0.03235817  0.          0.029049\n",
      "   0.02834003  0.02794416  0.02772413]\n",
      " [ 0.04656278  0.0422672   0.03776704  0.03384776  0.03094733  0.02904986\n",
      "   0.          0.02725212  0.02688588  0.02668215]\n",
      " [ 0.04476573  0.04078261  0.03657797  0.03288979  0.03014467  0.02834155\n",
      "   0.02725275  0.          0.02627812  0.02608348]\n",
      " [ 0.04378454  0.03996772  0.03592157  0.0323583   0.02969766  0.0279461\n",
      "   0.02688693  0.02627853  0.          0.0257482 ]\n",
      " [ 0.04324602  0.03951912  0.03555905  0.03206393  0.02944955  0.0277263\n",
      "   0.02668342  0.0260841   0.02574842  0.        ]]\n",
      "('Iteration', 249, 'Train loss:', <autograd.numpy.numpy_boxes.ArrayBox object at 0x7fc4ade670e0>)\n",
      "Test loss:  Autograd ArrayBox with value 145.684958897\n",
      "Target\n"
     ]
    },
    {
     "data": {
      "image/png": "[encoded data removed]",
      "text/plain": [
       "<matplotlib.figure.Figure at 0x7fc4ad6d6d50>"
      ]
     },
     "metadata": {},
     "output_type": "display_data"
    },
    {
     "name": "stdout",
     "output_type": "stream",
     "text": [
      "Predicted\n"
     ]
    },
    {
     "data": {
      "image/png": "[encoded data removed]",
      "text/plain": [
       "<matplotlib.figure.Figure at 0x7fc4b47ab390>"
      ]
     },
     "metadata": {},
     "output_type": "display_data"
    },
    {
     "name": "stdout",
     "output_type": "stream",
     "text": [
      "L\n",
      "Autograd ArrayBox with value [[ 0.          0.10746744  0.08252948  0.06589399  0.05573645  0.04986777\n",
      "   0.04658593  0.04478269  0.04379737  0.04325616]\n",
      " [ 0.10744711  0.          0.06993572  0.05760431  0.04968464  0.04496615\n",
      "   0.04228053  0.04079042  0.03997184  0.03952089]\n",
      " [ 0.08250253  0.06992632  0.          0.04955793  0.04357933  0.03990566\n",
      "   0.03777623  0.0365825   0.03592301  0.03555855]\n",
      " [ 0.06586802  0.05759294  0.04955489  0.          0.03844334  0.03555554\n",
      "   0.0338552   0.03289339  0.03235937  0.03206342]\n",
      " [ 0.05571411  0.04967459  0.04357639  0.03844302  0.          0.03236811\n",
      "   0.03095293  0.03014708  0.02969796  0.02944855]\n",
      " [ 0.04984918  0.04495824  0.03990384  0.03555589  0.03236864  0.\n",
      "   0.02905342  0.02834236  0.02794509  0.02772417]\n",
      " [ 0.04657029  0.04227456  0.03777562  0.03385638  0.03095413  0.02905405\n",
      "   0.          0.02725206  0.0268846   0.02668008]\n",
      " [ 0.04476911  0.04078587  0.03658283  0.03289525  0.03014884  0.0283435\n",
      "   0.02725256  0.          0.02627517  0.02607979]\n",
      " [ 0.04378507  0.03996822  0.03592397  0.03236168  0.0297001   0.02794658\n",
      "   0.02688544  0.0262755   0.          0.02574343]\n",
      " [ 0.04324461  0.03951781  0.03555988  0.03206601  0.02945091  0.02772586\n",
      "   0.02668112  0.02608032  0.02574362  0.        ]]\n",
      "('Iteration', 252, 'Train loss:', <autograd.numpy.numpy_boxes.ArrayBox object at 0x7fc4ac15e758>)\n",
      "Test loss:  Autograd ArrayBox with value 145.739864668\n",
      "Target\n"
     ]
    },
    {
     "data": {
      "image/png": "[encoded data removed]",
      "text/plain": [
       "<matplotlib.figure.Figure at 0x7fc4aba49990>"
      ]
     },
     "metadata": {},
     "output_type": "display_data"
    },
    {
     "name": "stdout",
     "output_type": "stream",
     "text": [
      "Predicted\n"
     ]
    },
    {
     "data": {
      "image/png": "[encoded data removed]",
      "text/plain": [
       "<matplotlib.figure.Figure at 0x7fc4ab9ebbd0>"
      ]
     },
     "metadata": {},
     "output_type": "display_data"
    },
    {
     "name": "stdout",
     "output_type": "stream",
     "text": [
      "L\n",
      "Autograd ArrayBox with value [[ 0.          0.10748364  0.08252964  0.06588788  0.05572988  0.04986294\n",
      "   0.04658314  0.04478155  0.04379739  0.04325701]\n",
      " [ 0.10746121  0.          0.06992952  0.05759517  0.04967652  0.04496046\n",
      "   0.0422772   0.04078888  0.03997151  0.03952138]\n",
      " [ 0.08250018  0.06991965  0.          0.04954746  0.04357105  0.03990023\n",
      "   0.03777329  0.03658134  0.03592303  0.03555933]\n",
      " [ 0.06585981  0.05758367  0.04954474  0.          0.03843665  0.0355516\n",
      "   0.03385353  0.03289334  0.03236036  0.03206508]\n",
      " [ 0.05570601  0.04966685  0.0435689   0.03843678  0.          0.03236644\n",
      "   0.03095321  0.03014874  0.02970052  0.02945167]\n",
      " [ 0.04984332  0.04495337  0.03989959  0.03555273  0.03236729  0.\n",
      "   0.0290557   0.02834582  0.02794933  0.0277289 ]\n",
      " [ 0.04656684  0.04227235  0.03777409  0.03385571  0.03095494  0.02905653\n",
      "   0.          0.02725702  0.02689025  0.02668617]\n",
      " [ 0.04476755  0.04078565  0.03658325  0.03289632  0.03015114  0.02834728\n",
      "   0.02725764  0.          0.02628184  0.02608687]\n",
      " [ 0.0437848   0.03996932  0.03592565  0.03236388  0.02970337  0.0279512\n",
      "   0.02689127  0.02628223  0.          0.02575115]\n",
      " [ 0.04324524  0.03951977  0.03556236  0.0320689   0.02945478  0.027731\n",
      "   0.02668742  0.02608749  0.02575137  0.        ]]\n",
      "('Iteration', 255, 'Train loss:', <autograd.numpy.numpy_boxes.ArrayBox object at 0x7fc4a9c7e680>)\n",
      "Test loss:  Autograd ArrayBox with value 145.702313473\n",
      "Target\n"
     ]
    },
    {
     "data": {
      "image/png": "[encoded data removed]",
      "text/plain": [
       "<matplotlib.figure.Figure at 0x7fc4a94eab50>"
      ]
     },
     "metadata": {},
     "output_type": "display_data"
    },
    {
     "name": "stdout",
     "output_type": "stream",
     "text": [
      "Predicted\n"
     ]
    },
    {
     "data": {
      "image/png": "[encoded data removed]",
      "text/plain": [
       "<matplotlib.figure.Figure at 0x7fc4a950f750>"
      ]
     },
     "metadata": {},
     "output_type": "display_data"
    },
    {
     "name": "stdout",
     "output_type": "stream",
     "text": [
      "L\n",
      "Autograd ArrayBox with value [[ 0.          0.10747356  0.08253004  0.06589217  0.05573426  0.04986605\n",
      "   0.04658485  0.04478218  0.04379728  0.04325641]\n",
      " [ 0.10745233  0.          0.06993409  0.05760121  0.0496815   0.04496361\n",
      "   0.0422787   0.04078917  0.03997104  0.03952041]\n",
      " [ 0.08250187  0.06992426  0.          0.0495537   0.04357541  0.03990247\n",
      "   0.0377738   0.03658066  0.03592161  0.03555745]\n",
      " [ 0.06586501  0.05758934  0.04955056  0.          0.03843926  0.03555221\n",
      "   0.03385258  0.03289134  0.03235771  0.03206203]\n",
      " [ 0.05571088  0.04967104  0.04357242  0.03843899  0.          0.03236516\n",
      "   0.03095062  0.03014525  0.02969649  0.02944731]\n",
      " [ 0.04984658  0.04495541  0.0399007   0.03555267  0.03236575  0.\n",
      "   0.02905164  0.02834101  0.02794405  0.02772334]\n",
      " [ 0.04656846  0.04227254  0.03777331  0.03385394  0.03095194  0.02905233\n",
      "   0.          0.0272512   0.02688402  0.02667969]\n",
      " [ 0.04476792  0.04078451  0.03658118  0.03289343  0.03014718  0.02834224\n",
      "   0.02725174  0.          0.02627496  0.02607976]\n",
      " [ 0.04378437  0.03996734  0.03592279  0.03236029  0.02969882  0.02794566\n",
      "   0.02688492  0.02627531  0.          0.02574366]\n",
      " [ 0.04324427  0.03951727  0.03555903  0.0320649   0.02944989  0.02772517\n",
      "   0.0266808   0.02608033  0.02574386  0.        ]]\n",
      "('Iteration', 258, 'Train loss:', <autograd.numpy.numpy_boxes.ArrayBox object at 0x7fc4a771f368>)\n",
      "Test loss:  Autograd ArrayBox with value 145.722200466\n",
      "Target\n"
     ]
    },
    {
     "data": {
      "image/png": "[encoded data removed]",
      "text/plain": [
       "<matplotlib.figure.Figure at 0x7fc4a7007d10>"
      ]
     },
     "metadata": {},
     "output_type": "display_data"
    },
    {
     "name": "stdout",
     "output_type": "stream",
     "text": [
      "Predicted\n"
     ]
    },
    {
     "data": {
      "image/png": "[encoded data removed]",
      "text/plain": [
       "<matplotlib.figure.Figure at 0x7fc4ad648450>"
      ]
     },
     "metadata": {},
     "output_type": "display_data"
    },
    {
     "name": "stdout",
     "output_type": "stream",
     "text": [
      "L\n",
      "Autograd ArrayBox with value [[ 0.          0.10748009  0.08252889  0.06588848  0.05573084  0.04986383\n",
      "   0.04658383  0.04478207  0.04379778  0.04325731]\n",
      " [ 0.10745818  0.          0.0699295   0.05759614  0.04967786  0.04496182\n",
      "   0.04227847  0.04079004  0.03997261  0.03952242]\n",
      " [ 0.08250021  0.06991994  0.          0.04954875  0.04357244  0.03990156\n",
      "   0.03777451  0.03658248  0.03592411  0.03556038]\n",
      " [ 0.06586128  0.05758509  0.04954618  0.          0.03843785  0.03555262\n",
      "   0.03385441  0.03289412  0.03236109  0.03206578]\n",
      " [ 0.05570788  0.04966872  0.0435705   0.03843804  0.          0.03236713\n",
      "   0.03095373  0.03014915  0.02970088  0.029452  ]\n",
      " [ 0.04984512  0.04495529  0.03990115  0.03555384  0.03236801  0.\n",
      "   0.02905596  0.02834597  0.02794942  0.02772895]\n",
      " [ 0.04656844  0.04227421  0.03777558  0.0338567   0.03095551  0.02905681\n",
      "   0.          0.027257    0.02689016  0.02668605]\n",
      " [ 0.04476896  0.04078741  0.03658467  0.03289724  0.03015163  0.02834746\n",
      "   0.02725763  0.          0.02628165  0.02608665]\n",
      " [ 0.04378609  0.03997102  0.03592704  0.03236476  0.02970381  0.02795133\n",
      "   0.02689121  0.02628206  0.          0.02575088]\n",
      " [ 0.04324643  0.03952143  0.03556373  0.03206976  0.0294552   0.02773111\n",
      "   0.02668733  0.02608729  0.02575111  0.        ]]\n",
      "('Iteration', 261, 'Train loss:', <autograd.numpy.numpy_boxes.ArrayBox object at 0x7fc4a523f098>)\n",
      "Test loss:  Autograd ArrayBox with value 145.700985886\n",
      "Target\n"
     ]
    },
    {
     "data": {
      "image/png": "[encoded data removed]",
      "text/plain": [
       "<matplotlib.figure.Figure at 0x7fc4a4aa4ed0>"
      ]
     },
     "metadata": {},
     "output_type": "display_data"
    },
    {
     "name": "stdout",
     "output_type": "stream",
     "text": [
      "Predicted\n"
     ]
    },
    {
     "data": {
      "image/png": "[encoded data removed]",
      "text/plain": [
       "<matplotlib.figure.Figure at 0x7fc4a6fb1fd0>"
      ]
     },
     "metadata": {},
     "output_type": "display_data"
    },
    {
     "name": "stdout",
     "output_type": "stream",
     "text": [
      "L\n",
      "Autograd ArrayBox with value [[ 0.          0.1074748   0.08252917  0.06589084  0.05573324  0.04986552\n",
      "   0.04658473  0.04478232  0.04379755  0.04325669]\n",
      " [ 0.1074535   0.          0.06993254  0.05759998  0.04968091  0.04496359\n",
      "   0.04227907  0.04078978  0.03997174  0.03952112]\n",
      " [ 0.08250115  0.06992302  0.          0.04955336  0.04357574  0.03990326\n",
      "   0.03777485  0.03658185  0.03592282  0.03555864]\n",
      " [ 0.06586407  0.05758868  0.04955047  0.          0.03844045  0.03555369\n",
      "   0.0338542   0.032893    0.03235935  0.03206363]\n",
      " [ 0.05571041  0.04967114  0.04357312  0.03844028  0.          0.03236701\n",
      "   0.03095252  0.03014715  0.02969835  0.02944912]\n",
      " [ 0.04984668  0.04495613  0.03990187  0.03555427  0.03236762  0.\n",
      "   0.02905362  0.02834296  0.02794595  0.02772518]\n",
      " [ 0.04656903  0.04227366  0.03777473  0.03385565  0.03095385  0.02905429\n",
      "   0.          0.02725311  0.02688587  0.02668149]\n",
      " [ 0.04476879  0.04078587  0.03658271  0.03289515  0.03014905  0.02834416\n",
      "   0.02725363  0.          0.02627675  0.0260815 ]\n",
      " [ 0.04378537  0.03996879  0.03592434  0.03236199  0.02970064  0.02794751\n",
      "   0.02688674  0.02627709  0.          0.02574533]\n",
      " [ 0.04324529  0.03951872  0.03556054  0.03206654  0.02945164  0.02772695\n",
      "   0.02668256  0.02608204  0.02574553  0.        ]]\n",
      "('Iteration', 264, 'Train loss:', <autograd.numpy.numpy_boxes.ArrayBox object at 0x7fc4a2cdadd0>)\n",
      "Test loss:  Autograd ArrayBox with value 145.712424147\n",
      "Target\n"
     ]
    },
    {
     "data": {
      "image/png": "[encoded data removed]",
      "text/plain": [
       "<matplotlib.figure.Figure at 0x7fc4a25cd0d0>"
      ]
     },
     "metadata": {},
     "output_type": "display_data"
    },
    {
     "name": "stdout",
     "output_type": "stream",
     "text": [
      "Predicted\n"
     ]
    },
    {
     "data": {
      "image/png": "[encoded data removed]",
      "text/plain": [
       "<matplotlib.figure.Figure at 0x7fc4a94bc190>"
      ]
     },
     "metadata": {},
     "output_type": "display_data"
    },
    {
     "name": "stdout",
     "output_type": "stream",
     "text": [
      "L\n",
      "Autograd ArrayBox with value [[ 0.          0.10749112  0.08253057  0.06588588  0.05572731  0.04986088\n",
      "   0.04658188  0.04478107  0.04379754  0.04325759]\n",
      " [ 0.10746731  0.          0.06992814  0.05759159  0.04967226  0.04495643\n",
      "   0.04227377  0.04078608  0.03996925  0.0395195 ]\n",
      " [ 0.08249918  0.06991739  0.          0.0495417   0.04356451  0.03989368\n",
      "   0.03776711  0.03657565  0.03591777  0.03555439]\n",
      " [ 0.06585581  0.05757877  0.04953839  0.          0.03842808  0.03554293\n",
      "   0.03384515  0.03288535  0.03235274  0.03205774]\n",
      " [ 0.05570161  0.04966113  0.04356148  0.03842788  0.          0.03235661\n",
      "   0.03094361  0.03013948  0.02969159  0.029443  ]\n",
      " [ 0.04983963  0.04494789  0.03989205  0.03554359  0.03235731  0.\n",
      "   0.02904575  0.02833617  0.02793998  0.02771977]\n",
      " [ 0.04656413  0.04226752  0.03776692  0.03384681  0.03094514  0.02904652\n",
      "   0.          0.02724745  0.02688095  0.02667709]\n",
      " [ 0.04476574  0.04078151  0.03657658  0.03288782  0.03014168  0.02833757\n",
      "   0.02724805  0.          0.02627276  0.026078  ]\n",
      " [ 0.04378371  0.03996577  0.03591945  0.03235576  0.02969425  0.02794179\n",
      "   0.02688196  0.02627317  0.          0.02574252]\n",
      " [ 0.04324464  0.03951665  0.03555651  0.03206108  0.02944592  0.02772183\n",
      "   0.02667833  0.02607864  0.02574276  0.        ]]\n",
      "('Iteration', 267, 'Train loss:', <autograd.numpy.numpy_boxes.ArrayBox object at 0x7fc4a0802ab8>)\n",
      "Test loss:  Autograd ArrayBox with value 145.705811232\n",
      "Target\n"
     ]
    },
    {
     "data": {
      "image/png": "[encoded data removed]",
      "text/plain": [
       "<matplotlib.figure.Figure at 0x7fc4a0077290>"
      ]
     },
     "metadata": {},
     "output_type": "display_data"
    },
    {
     "name": "stdout",
     "output_type": "stream",
     "text": [
      "Predicted\n"
     ]
    },
    {
     "data": {
      "image/png": "[encoded data removed]",
      "text/plain": [
       "<matplotlib.figure.Figure at 0x7fc4a6f5b210>"
      ]
     },
     "metadata": {},
     "output_type": "display_data"
    },
    {
     "name": "stdout",
     "output_type": "stream",
     "text": [
      "L\n",
      "Autograd ArrayBox with value [[ 0.          0.10748518  0.08252959  0.06588727  0.05572926  0.04986255\n",
      "   0.04658298  0.04478156  0.04379747  0.04325711]\n",
      " [ 0.10746245  0.          0.06992896  0.05759439  0.0496758   0.0449599\n",
      "   0.0422768   0.04078858  0.03997125  0.03952112]\n",
      " [ 0.08249979  0.06991901  0.          0.04954682  0.04357049  0.03989973\n",
      "   0.03777282  0.0365809   0.03592258  0.03555885]\n",
      " [ 0.06585889  0.05758281  0.04954408  0.          0.03843623  0.03555117\n",
      "   0.03385307  0.03289285  0.03235984  0.03206451]\n",
      " [ 0.05570516  0.04966606  0.04356828  0.03843631  0.          0.03236596\n",
      "   0.03095268  0.03014816  0.02969989  0.029451  ]\n",
      " [ 0.04984275  0.04495273  0.03989898  0.0355522   0.03236676  0.\n",
      "   0.02905505  0.02834511  0.02794857  0.0277281 ]\n",
      " [ 0.04656655  0.04227186  0.03777349  0.03385511  0.03095431  0.02905583\n",
      "   0.          0.02725619  0.02688938  0.02668526]\n",
      " [ 0.04476745  0.04078526  0.03658265  0.03289567  0.03015044  0.0283465\n",
      "   0.02725678  0.          0.02628088  0.02608587]\n",
      " [ 0.0437848   0.03996897  0.03592503  0.03236317  0.0297026   0.02795035\n",
      "   0.02689035  0.02628126  0.          0.02575009]\n",
      " [ 0.04324525  0.03951941  0.03556169  0.03206813  0.02945395  0.0277301\n",
      "   0.02668644  0.02608646  0.0257503   0.        ]]\n",
      "('Iteration', 270, 'Train loss:', <autograd.numpy.numpy_boxes.ArrayBox object at 0x7fc49e2af7e8>)\n",
      "Test loss:  Autograd ArrayBox with value 145.686780295\n",
      "Target\n"
     ]
    },
    {
     "data": {
      "image/png": "[encoded data removed]",
      "text/plain": [
       "<matplotlib.figure.Figure at 0x7fc49db25450>"
      ]
     },
     "metadata": {},
     "output_type": "display_data"
    },
    {
     "name": "stdout",
     "output_type": "stream",
     "text": [
      "Predicted\n"
     ]
    },
    {
     "data": {
      "image/png": "[encoded data removed]",
      "text/plain": [
       "<matplotlib.figure.Figure at 0x7fc4a00191d0>"
      ]
     },
     "metadata": {},
     "output_type": "display_data"
    },
    {
     "name": "stdout",
     "output_type": "stream",
     "text": [
      "L\n",
      "Autograd ArrayBox with value [[ 0.          0.10745877  0.0825281   0.06589597  0.05573917  0.04987005\n",
      "   0.04658744  0.04478349  0.0437976   0.04325597]\n",
      " [ 0.10743991  0.          0.06993693  0.057608    0.04968903  0.04497023\n",
      "   0.04228399  0.04079325  0.03997417  0.03952285]\n",
      " [ 0.08250327  0.06992845  0.          0.04956366  0.04358549  0.0399115\n",
      "   0.03778151  0.03658722  0.03592729  0.0355625 ]\n",
      " [ 0.06587224  0.05759794  0.04956111  0.          0.03845066  0.03556252\n",
      "   0.03386165  0.03289935  0.03236493  0.03206869]\n",
      " [ 0.05571896  0.04968038  0.04358321  0.03845056  0.          0.03237545\n",
      "   0.0309598   0.0301535   0.02970404  0.02945438]\n",
      " [ 0.04985342  0.0449637   0.03991039  0.03556315  0.03237605  0.\n",
      "   0.02906017  0.02834871  0.02795114  0.02772999]\n",
      " [ 0.04657362  0.04227932  0.03778158  0.03386311  0.03096109  0.02906081\n",
      "   0.          0.02725812  0.02689038  0.02668566]\n",
      " [ 0.04477161  0.04078995  0.03658821  0.03290147  0.03015534  0.02834987\n",
      "   0.02725862  0.          0.02628064  0.02608508]\n",
      " [ 0.04378693  0.03997175  0.03592888  0.0323675   0.02970625  0.02795264\n",
      "   0.02689121  0.02628097  0.          0.02574847]\n",
      " [ 0.04324601  0.03952094  0.03556445  0.03207153  0.02945681  0.02773169\n",
      "   0.02668668  0.0260856   0.02574866  0.        ]]\n",
      "('Iteration', 273, 'Train loss:', <autograd.numpy.numpy_boxes.ArrayBox object at 0x7fc49bd62560>)\n",
      "Test loss:  Autograd ArrayBox with value 145.711217993\n",
      "Target\n"
     ]
    },
    {
     "data": {
      "image/png": "[encoded data removed]",
      "text/plain": [
       "<matplotlib.figure.Figure at 0x7fc49b652610>"
      ]
     },
     "metadata": {},
     "output_type": "display_data"
    },
    {
     "name": "stdout",
     "output_type": "stream",
     "text": [
      "Predicted\n"
     ]
    },
    {
     "data": {
      "image/png": "[encoded data removed]",
      "text/plain": [
       "<matplotlib.figure.Figure at 0x7fc49b652bd0>"
      ]
     },
     "metadata": {},
     "output_type": "display_data"
    },
    {
     "name": "stdout",
     "output_type": "stream",
     "text": [
      "L\n",
      "Autograd ArrayBox with value [[ 0.          0.10747415  0.08252928  0.06589114  0.05573345  0.04986559\n",
      "   0.04658469  0.04478226  0.04379752  0.04325673]\n",
      " [ 0.10745305  0.          0.0699326   0.05760009  0.04968109  0.04496386\n",
      "   0.04227944  0.04079026  0.03997234  0.03952183]\n",
      " [ 0.08250149  0.06992314  0.          0.04955311  0.04357568  0.0399035\n",
      "   0.03777539  0.03658264  0.03592383  0.03555981]\n",
      " [ 0.06586458  0.05758893  0.04955033  0.          0.03844034  0.03555396\n",
      "   0.03385485  0.03289397  0.03236057  0.03206503]\n",
      " [ 0.05571083  0.04967156  0.04357331  0.03844033  0.          0.0323676\n",
      "   0.03095349  0.03014844  0.02969988  0.02945084]\n",
      " [ 0.04984696  0.04495673  0.03990251  0.03555485  0.03236836  0.\n",
      "   0.02905505  0.02834469  0.02794792  0.02772732]\n",
      " [ 0.04656921  0.04227443  0.03777577  0.03385673  0.03095508  0.02905584\n",
      "   0.          0.02725528  0.02688827  0.02668405]\n",
      " [ 0.04476895  0.04078679  0.03658408  0.03289663  0.03015069  0.02834609\n",
      "   0.02725588  0.          0.02627949  0.0260844 ]\n",
      " [ 0.04378557  0.03996986  0.03592596  0.03236376  0.02970258  0.02794973\n",
      "   0.02688927  0.02627989  0.          0.02574849]\n",
      " [ 0.04324557  0.03951994  0.03556236  0.03206853  0.0294538   0.02772938\n",
      "   0.02668529  0.02608503  0.02574872  0.        ]]\n",
      "('Iteration', 276, 'Train loss:', <autograd.numpy.numpy_boxes.ArrayBox object at 0x7fc4997fe290>)\n",
      "Test loss:  Autograd ArrayBox with value 145.750401187\n",
      "Target\n"
     ]
    },
    {
     "data": {
      "image/png": "[encoded data removed]",
      "text/plain": [
       "<matplotlib.figure.Figure at 0x7fc4990717d0>"
      ]
     },
     "metadata": {},
     "output_type": "display_data"
    },
    {
     "name": "stdout",
     "output_type": "stream",
     "text": [
      "Predicted\n"
     ]
    },
    {
     "data": {
      "image/png": "[encoded data removed]",
      "text/plain": [
       "<matplotlib.figure.Figure at 0x7fc499034d90>"
      ]
     },
     "metadata": {},
     "output_type": "display_data"
    },
    {
     "name": "stdout",
     "output_type": "stream",
     "text": [
      "L\n",
      "Autograd ArrayBox with value [[ 0.          0.10749115  0.08253042  0.06588569  0.05572714  0.04986071\n",
      "   0.04658168  0.04478084  0.04379732  0.04325747]\n",
      " [ 0.10746762  0.          0.0699276   0.0575912   0.04967231  0.04495691\n",
      "   0.04227454  0.04078702  0.03997032  0.03952071]\n",
      " [ 0.08249944  0.06991709  0.          0.0495414   0.04356512  0.03989519\n",
      "   0.03776926  0.0365782   0.03592058  0.0355574 ]\n",
      " [ 0.06585608  0.05757888  0.04953845  0.          0.03842992  0.03554585\n",
      "   0.03384886  0.03288955  0.03235725  0.03206246]\n",
      " [ 0.05570192  0.0496619   0.04356279  0.03843009  0.          0.03236108\n",
      "   0.03094887  0.03014523  0.02969764  0.02944925]\n",
      " [ 0.04983995  0.04494925  0.03989451  0.03554716  0.03236206  0.\n",
      "   0.02905226  0.02834315  0.02794724  0.02772722]\n",
      " [ 0.04656441  0.04226928  0.03777018  0.03385134  0.03095085  0.02905322\n",
      "   0.          0.02725528  0.02688904  0.02668535]\n",
      " [ 0.04476597  0.04078349  0.03658033  0.03289295  0.03014799  0.02834483\n",
      "   0.02725598  0.          0.02628137  0.02608677]\n",
      " [ 0.04378395  0.0399679   0.03592351  0.03236125  0.02970091  0.02794939\n",
      "   0.02689021  0.02628182  0.          0.02575159]\n",
      " [ 0.04324498  0.03951894  0.03556079  0.03206681  0.02945281  0.02772965\n",
      "   0.02668679  0.02608749  0.02575185  0.        ]]\n",
      "('Iteration', 279, 'Train loss:', <autograd.numpy.numpy_boxes.ArrayBox object at 0x7fc4971dcf38>)\n",
      "Test loss:  Autograd ArrayBox with value 145.731951447\n",
      "Target\n"
     ]
    },
    {
     "data": {
      "image/png": "[encoded data removed]",
      "text/plain": [
       "<matplotlib.figure.Figure at 0x7fc496ad3990>"
      ]
     },
     "metadata": {},
     "output_type": "display_data"
    },
    {
     "name": "stdout",
     "output_type": "stream",
     "text": [
      "Predicted\n"
     ]
    },
    {
     "data": {
      "image/png": "[encoded data removed]",
      "text/plain": [
       "<matplotlib.figure.Figure at 0x7fc496ad3f90>"
      ]
     },
     "metadata": {},
     "output_type": "display_data"
    },
    {
     "name": "stdout",
     "output_type": "stream",
     "text": [
      "L\n",
      "Autograd ArrayBox with value [[ 0.          0.10765372  0.0825501   0.06584443  0.05567726  0.04982415\n",
      "   0.04656301  0.04477789  0.04380661  0.04327409]\n",
      " [ 0.10759485  0.          0.06985762  0.05747543  0.04954997  0.04484744\n",
      "   0.04218242  0.04071014  0.03990515  0.03946089]\n",
      " [ 0.08247089  0.06983027  0.          0.04935979  0.0433775   0.03971798\n",
      "   0.03760679  0.03642885  0.03578128  0.03542125]\n",
      " [ 0.06576608  0.05744046  0.04934865  0.          0.03820348  0.0353276\n",
      "   0.0336427   0.03269427  0.03217028  0.03187733]\n",
      " [ 0.05560792  0.0495172   0.04336474  0.03820062  0.          0.03213011\n",
      "   0.0307277   0.02993308  0.0294924   0.02924518]\n",
      " [ 0.04976458  0.04481983  0.03970735  0.03532556  0.03213055  0.\n",
      "   0.02883225  0.02813071  0.02774069  0.02752147]\n",
      " [ 0.04651123  0.04215976  0.03759901  0.03364245  0.03072953  0.02883353\n",
      "   0.          0.02704854  0.02668751  0.02648436]\n",
      " [ 0.04473148  0.04069118  0.03642343  0.03269565  0.02993622  0.0281332\n",
      "   0.02704972  0.          0.02608568  0.02589146]\n",
      " [ 0.0437636   0.03988862  0.03577746  0.0321728   0.02949648  0.02774404\n",
      "   0.02668952  0.0260865   0.          0.02556099]\n",
      " [ 0.04323259  0.03944478  0.03541718  0.03187929  0.02924858  0.02752409\n",
      "   0.02648563  0.02589154  0.02556024  0.        ]]\n",
      "('Iteration', 282, 'Train loss:', <autograd.numpy.numpy_boxes.ArrayBox object at 0x7fc494c39c68>)\n",
      "Test loss:  Autograd ArrayBox with value 145.709631859\n",
      "Target\n"
     ]
    },
    {
     "data": {
      "image/png": "[encoded data removed]",
      "text/plain": [
       "<matplotlib.figure.Figure at 0x7fc4944aeb50>"
      ]
     },
     "metadata": {},
     "output_type": "display_data"
    },
    {
     "name": "stdout",
     "output_type": "stream",
     "text": [
      "Predicted\n"
     ]
    },
    {
     "data": {
      "image/png": "[encoded data removed]",
      "text/plain": [
       "<matplotlib.figure.Figure at 0x7fc49441a850>"
      ]
     },
     "metadata": {},
     "output_type": "display_data"
    },
    {
     "name": "stdout",
     "output_type": "stream",
     "text": [
      "L\n",
      "Autograd ArrayBox with value [[ 0.          0.10748067  0.08253032  0.06588967  0.05573142  0.04986384\n",
      "   0.04658346  0.04478151  0.04379714  0.0432566 ]\n",
      " [ 0.10745852  0.          0.06993221  0.05759787  0.04967817  0.04496092\n",
      "   0.04227675  0.04078785  0.03997018  0.03951984]\n",
      " [ 0.08250104  0.06992213  0.          0.04954989  0.04357194  0.03989968\n",
      "   0.0377717   0.03657912  0.03592047  0.03555658]\n",
      " [ 0.06586152  0.05758575  0.04954672  0.          0.03843601  0.03554964\n",
      "   0.03385067  0.03288994  0.03235669  0.03206126]\n",
      " [ 0.05570723  0.04966752  0.04356896  0.03843577  0.          0.03236312\n",
      "   0.03094918  0.0301443   0.02969588  0.02944693]\n",
      " [ 0.0498437   0.04495259  0.03989796  0.03555018  0.03236375  0.\n",
      "   0.02905082  0.02834063  0.027944    0.0277235 ]\n",
      " [ 0.04656651  0.04227049  0.03777127  0.03385212  0.03095058  0.02905153\n",
      "   0.          0.02725137  0.02688449  0.02668037]\n",
      " [ 0.04476677  0.04078312  0.03657972  0.03289214  0.03014632  0.02834192\n",
      "   0.02725193  0.          0.02627585  0.02608085]\n",
      " [ 0.0437838   0.03996643  0.03592175  0.03235939  0.02969832  0.02794568\n",
      "   0.02688543  0.02627622  0.          0.02574505]\n",
      " [ 0.04324406  0.03951668  0.03555826  0.03206426  0.02944963  0.02772541\n",
      "   0.02668153  0.02608145  0.02574527  0.        ]]\n",
      "('Iteration', 285, 'Train loss:', <autograd.numpy.numpy_boxes.ArrayBox object at 0x7fc49261b998>)\n",
      "Test loss:  Autograd ArrayBox with value 145.69625703\n",
      "Target\n"
     ]
    },
    {
     "data": {
      "image/png": "[encoded data removed]",
      "text/plain": [
       "<matplotlib.figure.Figure at 0x7fc491f0cd10>"
      ]
     },
     "metadata": {},
     "output_type": "display_data"
    },
    {
     "name": "stdout",
     "output_type": "stream",
     "text": [
      "Predicted\n"
     ]
    },
    {
     "data": {
      "image/png": "[encoded data removed]",
      "text/plain": [
       "<matplotlib.figure.Figure at 0x7fc498fb0310>"
      ]
     },
     "metadata": {},
     "output_type": "display_data"
    },
    {
     "name": "stdout",
     "output_type": "stream",
     "text": [
      "L\n",
      "Autograd ArrayBox with value [[ 0.          0.10745876  0.08252816  0.06589602  0.05573916  0.04986999\n",
      "   0.04658735  0.04478339  0.04379749  0.04325584]\n",
      " [ 0.10743995  0.          0.06993724  0.05760829  0.04968922  0.04497032\n",
      "   0.04228399  0.0407932   0.0399741   0.03952275]\n",
      " [ 0.08250341  0.0699288   0.          0.04956415  0.04358588  0.03991179\n",
      "   0.03778171  0.03658738  0.03592742  0.03556262]\n",
      " [ 0.06587236  0.05759828  0.0495616   0.          0.03845109  0.03556288\n",
      "   0.03386195  0.03289963  0.0323652   0.03206896]\n",
      " [ 0.05571899  0.04968059  0.0435836   0.03845099  0.          0.03237579\n",
      "   0.03096011  0.03015381  0.02970435  0.02945469]\n",
      " [ 0.04985335  0.04496376  0.03991065  0.03556349  0.03237639  0.\n",
      "   0.02906047  0.02834902  0.02795146  0.02773032]\n",
      " [ 0.0465735   0.04227926  0.03778174  0.03386339  0.03096139  0.02906112\n",
      "   0.          0.02725844  0.02689072  0.02668601]\n",
      " [ 0.04477146  0.04078982  0.03658831  0.03290173  0.03015564  0.02835018\n",
      "   0.02725894  0.          0.026281    0.02608545]\n",
      " [ 0.04378677  0.03997159  0.03592896  0.03236775  0.02970656  0.02795296\n",
      "   0.02689155  0.02628133  0.          0.02574887]\n",
      " [ 0.04324582  0.03952075  0.03556451  0.03207177  0.02945712  0.02773203\n",
      "   0.02668704  0.02608598  0.02574906  0.        ]]\n",
      "('Iteration', 288, 'Train loss:', <autograd.numpy.numpy_boxes.ArrayBox object at 0x7fc4900756c8>)\n",
      "Test loss:  Autograd ArrayBox with value 145.676559736\n",
      "Target\n"
     ]
    },
    {
     "data": {
      "image/png": "[encoded data removed]",
      "text/plain": [
       "<matplotlib.figure.Figure at 0x7fc48f8e9ed0>"
      ]
     },
     "metadata": {},
     "output_type": "display_data"
    },
    {
     "name": "stdout",
     "output_type": "stream",
     "text": [
      "Predicted\n"
     ]
    },
    {
     "data": {
      "image/png": "[encoded data removed]",
      "text/plain": [
       "<matplotlib.figure.Figure at 0x7fc48f860650>"
      ]
     },
     "metadata": {},
     "output_type": "display_data"
    },
    {
     "name": "stdout",
     "output_type": "stream",
     "text": [
      "L\n",
      "Autograd ArrayBox with value [[ 0.          0.10745761  0.08252914  0.06589742  0.05574021  0.04987053\n",
      "   0.04658747  0.04478325  0.04379724  0.04325557]\n",
      " [ 0.1074388   0.          0.06993892  0.05760954  0.0496897   0.04497014\n",
      "   0.04228336  0.04079233  0.03997312  0.03952176]\n",
      " [ 0.08250411  0.06993009  0.          0.04956433  0.04358518  0.03991048\n",
      "   0.03778005  0.03658555  0.03592554  0.03556075]\n",
      " [ 0.06587322  0.0575988   0.04956143  0.          0.03844922  0.03556053\n",
      "   0.03385937  0.03289695  0.03236251  0.0320663 ]\n",
      " [ 0.05571933  0.04968016  0.04358237  0.03844894  0.          0.03237275\n",
      "   0.03095692  0.03015057  0.02970113  0.02945151]\n",
      " [ 0.0498531   0.04496261  0.03990876  0.03556092  0.0323733   0.\n",
      "   0.02905699  0.02834552  0.02794798  0.02772688]\n",
      " [ 0.04657278  0.04227765  0.03777951  0.03386058  0.03095815  0.02905763\n",
      "   0.          0.02725485  0.02688716  0.02668249]\n",
      " [ 0.04477045  0.04078796  0.03658592  0.03289883  0.03015236  0.02834668\n",
      "   0.02725536  0.          0.02627744  0.02608193]\n",
      " [ 0.04378564  0.03996963  0.03592652  0.03236485  0.0297033   0.02794949\n",
      "   0.02688801  0.02627778  0.          0.02574538]\n",
      " [ 0.04324468  0.03951879  0.0355621   0.03206892  0.02945391  0.02772861\n",
      "   0.02668355  0.02608248  0.02574559  0.        ]]\n",
      "('Iteration', 291, 'Train loss:', <autograd.numpy.numpy_boxes.ArrayBox object at 0x7fc48da553f8>)\n",
      "Test loss:  Autograd ArrayBox with value 145.762504122\n",
      "Target\n"
     ]
    },
    {
     "data": {
      "image/png": "[encoded data removed]",
      "text/plain": [
       "<matplotlib.figure.Figure at 0x7fc48d34b0d0>"
      ]
     },
     "metadata": {},
     "output_type": "display_data"
    },
    {
     "name": "stdout",
     "output_type": "stream",
     "text": [
      "Predicted\n"
     ]
    },
    {
     "data": {
      "image/png": "[encoded data removed]",
      "text/plain": [
       "<matplotlib.figure.Figure at 0x7fc48d2b9e50>"
      ]
     },
     "metadata": {},
     "output_type": "display_data"
    },
    {
     "name": "stdout",
     "output_type": "stream",
     "text": [
      "L\n",
      "Autograd ArrayBox with value [[ 0.          0.10750758  0.08253144  0.0658804   0.05572112  0.04985622\n",
      "   0.04657912  0.04477991  0.04379758  0.04325854]\n",
      " [ 0.10748129  0.          0.069923    0.05758271  0.04966349  0.04494944\n",
      "   0.04226875  0.04078266  0.03996701  0.03951811]\n",
      " [ 0.08249681  0.06991114  0.          0.04952995  0.04355365  0.03988478\n",
      "   0.03776016  0.03657022  0.03591342  0.0355508 ]\n",
      " [ 0.06584726  0.05756861  0.04952635  0.          0.03841687  0.03553364\n",
      "   0.03383764  0.03287921  0.03234754  0.03205319]\n",
      " [ 0.05569283  0.0496513   0.04355041  0.03841671  0.          0.03234831\n",
      "   0.03093688  0.03013393  0.02968685  0.02943881]\n",
      " [ 0.04983285  0.04494014  0.03988313  0.03553446  0.03234912  0.\n",
      "   0.02904035  0.02833179  0.0279363   0.02771657]\n",
      " [ 0.04655962  0.04226199  0.03776012  0.03383959  0.03093861  0.02904121\n",
      "   0.          0.02724422  0.02687835  0.02667491]\n",
      " [ 0.04476307  0.04077776  0.03657142  0.03288205  0.0301364   0.02833334\n",
      "   0.02724488  0.          0.026271    0.02607662]\n",
      " [ 0.0437824   0.0399633   0.03591543  0.03235098  0.02968981  0.02793829\n",
      "   0.02687945  0.02627143  0.          0.0257417 ]\n",
      " [ 0.04324433  0.03951509  0.03555329  0.03205697  0.02944205  0.02771883\n",
      "   0.02667626  0.0260773   0.02574195  0.        ]]\n",
      "('Iteration', 294, 'Train loss:', <autograd.numpy.numpy_boxes.ArrayBox object at 0x7fc48b4b2128>)\n",
      "Test loss:  Autograd ArrayBox with value 145.701794664\n",
      "Target\n"
     ]
    },
    {
     "data": {
      "image/png": "[encoded data removed]",
      "text/plain": [
       "<matplotlib.figure.Figure at 0x7fc48ad28290>"
      ]
     },
     "metadata": {},
     "output_type": "display_data"
    },
    {
     "name": "stdout",
     "output_type": "stream",
     "text": [
      "Predicted\n"
     ]
    },
    {
     "data": {
      "image/png": "[encoded data removed]",
      "text/plain": [
       "<matplotlib.figure.Figure at 0x7fc48f856dd0>"
      ]
     },
     "metadata": {},
     "output_type": "display_data"
    },
    {
     "name": "stdout",
     "output_type": "stream",
     "text": [
      "L\n",
      "Autograd ArrayBox with value [[ 0.          0.10746713  0.08252882  0.06589343  0.05573612  0.04986765\n",
      "   0.04658594  0.04478281  0.04379753  0.04325634]\n",
      " [ 0.10744702  0.          0.06993485  0.0576039   0.04968475  0.04496666\n",
      "   0.04228129  0.04079133  0.03997285  0.03952194]\n",
      " [ 0.08250232  0.06992578  0.          0.04955808  0.04358005  0.03990681\n",
      "   0.03777766  0.0365841   0.0359247   0.0355603 ]\n",
      " [ 0.06586808  0.05759312  0.04955531  0.          0.03844466  0.03555722\n",
      "   0.03385713  0.03289548  0.03236155  0.03206565]\n",
      " [ 0.05571449  0.04967543  0.04357754  0.03844451  0.          0.03237024\n",
      "   0.03095527  0.03014955  0.02970052  0.02945115]\n",
      " [ 0.0498498   0.04495955  0.03990552  0.03555784  0.03237087  0.\n",
      "   0.02905607  0.02834512  0.02794793  0.02772705]\n",
      " [ 0.04657108  0.04227616  0.03777762  0.03385862  0.03095662  0.02905675\n",
      "   0.          0.02725502  0.02688763  0.02668315]\n",
      " [ 0.04476999  0.04078764  0.03658502  0.03289768  0.03015148  0.02834634\n",
      "   0.02725555  0.          0.02627832  0.02608299]\n",
      " [ 0.04378601  0.03997008  0.03592628  0.03236422  0.02970285  0.02794952\n",
      "   0.02688852  0.02627868  0.          0.0257467 ]\n",
      " [ 0.04324557  0.03951972  0.03556225  0.03206861  0.02945372  0.02772885\n",
      "   0.02668425  0.02608355  0.02574691  0.        ]]\n",
      "('Iteration', 297, 'Train loss:', <autograd.numpy.numpy_boxes.ArrayBox object at 0x7fc488f09e18>)\n",
      "Test loss:  Autograd ArrayBox with value 145.670373152\n",
      "Target\n"
     ]
    },
    {
     "data": {
      "image/png": "[encoded data removed]",
      "text/plain": [
       "<matplotlib.figure.Figure at 0x7fc488782450>"
      ]
     },
     "metadata": {},
     "output_type": "display_data"
    },
    {
     "name": "stdout",
     "output_type": "stream",
     "text": [
      "Predicted\n"
     ]
    },
    {
     "data": {
      "image/png": "[encoded data removed]",
      "text/plain": [
       "<matplotlib.figure.Figure at 0x7fc48ac9eb90>"
      ]
     },
     "metadata": {},
     "output_type": "display_data"
    },
    {
     "name": "stdout",
     "output_type": "stream",
     "text": [
      "L\n",
      "Autograd ArrayBox with value [[ 0.          0.10745535  0.08252704  0.06589623  0.05573987  0.04987073\n",
      "   0.04658794  0.04478378  0.04379766  0.04325578]\n",
      " [ 0.10743727  0.          0.06993697  0.05760948  0.04969123  0.04497257\n",
      "   0.0422862   0.04079527  0.03997599  0.03952445]\n",
      " [ 0.0825035   0.06992926  0.          0.0495671   0.04358964  0.03991582\n",
      "   0.03778572  0.03659125  0.03593114  0.03556617]\n",
      " [ 0.065874    0.05760064  0.04956506  0.          0.03845619  0.03556812\n",
      "   0.03386711  0.03290463  0.03237004  0.03207366]\n",
      " [ 0.05572116  0.04968394  0.0435881   0.03845633  0.          0.03238154\n",
      "   0.03096573  0.03015925  0.02970964  0.02945984]\n",
      " [ 0.04985552  0.04496739  0.0399155   0.03556907  0.03238224  0.\n",
      "   0.02906612  0.02835449  0.02795677  0.0277355 ]\n",
      " [ 0.04657546  0.04228283  0.03778657  0.03386891  0.03096713  0.02906679\n",
      "   0.          0.02726375  0.02689588  0.02669105]\n",
      " [ 0.04477319  0.04079322  0.03659299  0.03290709  0.03016121  0.02835568\n",
      "   0.02726426  0.          0.026286    0.02609032]\n",
      " [ 0.04378824  0.03997478  0.03593346  0.03237294  0.02971197  0.02795831\n",
      "   0.02689672  0.02628633  0.          0.0257536 ]\n",
      " [ 0.04324703  0.03952373  0.03556884  0.03207681  0.02946239  0.02773724\n",
      "   0.02669208  0.02609085  0.02575379  0.        ]]\n",
      "('Iteration', 300, 'Train loss:', <autograd.numpy.numpy_boxes.ArrayBox object at 0x7fc4868e6b48>)\n",
      "Test loss:  Autograd ArrayBox with value 145.752428813\n",
      "Target\n"
     ]
    },
    {
     "data": {
      "image/png": "[encoded data removed]",
      "text/plain": [
       "<matplotlib.figure.Figure at 0x7fc486160610>"
      ]
     },
     "metadata": {},
     "output_type": "display_data"
    },
    {
     "name": "stdout",
     "output_type": "stream",
     "text": [
      "Predicted\n"
     ]
    },
    {
     "data": {
      "image/png": "[encoded data removed]",
      "text/plain": [
       "<matplotlib.figure.Figure at 0x7fc486144c90>"
      ]
     },
     "metadata": {},
     "output_type": "display_data"
    },
    {
     "name": "stdout",
     "output_type": "stream",
     "text": [
      "L\n",
      "Autograd ArrayBox with value [[ 0.          0.1075039   0.0825306   0.06588101  0.05572216  0.04985717\n",
      "   0.04657981  0.0447803   0.04379766  0.04325834]\n",
      " [ 0.10747828  0.          0.06992336  0.05758442  0.0496657   0.0449516\n",
      "   0.04227064  0.04078424  0.03996828  0.03951911]\n",
      " [ 0.08249703  0.06991208  0.          0.04953335  0.04355749  0.03988852\n",
      "   0.03776359  0.0365733   0.0359162   0.03555332]\n",
      " [ 0.06584905  0.05757119  0.04953011  0.          0.03842188  0.03553846\n",
      "   0.03384211  0.03288331  0.03235135  0.03205675]\n",
      " [ 0.05569501  0.04965445  0.04355472  0.03842183  0.          0.03235343\n",
      "   0.03094164  0.03013834  0.02969097  0.02944271]\n",
      " [ 0.04983486  0.04494319  0.03988731  0.0355394   0.03235425  0.\n",
      "   0.02904491  0.02833603  0.02794028  0.02772035]\n",
      " [ 0.04656129  0.04226472  0.03776393  0.03384413  0.03094334  0.02904574\n",
      "   0.          0.02724813  0.02688201  0.02667839]\n",
      " [ 0.04476439  0.04078012  0.03657484  0.03288619  0.03014075  0.02833751\n",
      "   0.02724876  0.          0.02627436  0.02607981]\n",
      " [ 0.04378337  0.03996531  0.03591852  0.0323548   0.02969385  0.02794219\n",
      "   0.02688306  0.02627477  0.          0.02574465]\n",
      " [ 0.04324498  0.0395168   0.03555608  0.03206052  0.02944585  0.0277225\n",
      "   0.02667967  0.02608045  0.02574488  0.        ]]\n",
      "('Iteration', 303, 'Train loss:', <autograd.numpy.numpy_boxes.ArrayBox object at 0x7fc484346878>)\n",
      "Test loss:  Autograd ArrayBox with value 145.753364089\n",
      "Target\n"
     ]
    },
    {
     "data": {
      "image/png": "[encoded data removed]",
      "text/plain": [
       "<matplotlib.figure.Figure at 0x7fc483bbc7d0>"
      ]
     },
     "metadata": {},
     "output_type": "display_data"
    },
    {
     "name": "stdout",
     "output_type": "stream",
     "text": [
      "Predicted\n"
     ]
    },
    {
     "data": {
      "image/png": "[encoded data removed]",
      "text/plain": [
       "<matplotlib.figure.Figure at 0x7fc4886ef1d0>"
      ]
     },
     "metadata": {},
     "output_type": "display_data"
    },
    {
     "name": "stdout",
     "output_type": "stream",
     "text": [
      "L\n",
      "Autograd ArrayBox with value [[ 0.          0.10749669  0.08253129  0.06588447  0.05572553  0.04985943\n",
      "   0.04658087  0.04478043  0.04379719  0.04325755]\n",
      " [ 0.10747211  0.          0.0699269   0.05758894  0.04966956  0.04495426\n",
      "   0.04227218  0.04078493  0.03996843  0.03951896]\n",
      " [ 0.08249879  0.06991572  0.          0.04953802  0.04356137  0.03989142\n",
      "   0.03776563  0.03657471  0.03591719  0.03555409]\n",
      " [ 0.06585325  0.05757563  0.04953468  0.          0.03842555  0.03554147\n",
      "   0.03384454  0.0328853   0.03235305  0.03205829]\n",
      " [ 0.05569875  0.04965804  0.04355843  0.03842548  0.          0.0323564\n",
      "   0.03094423  0.03014064  0.02969307  0.02944469]\n",
      " [ 0.04983721  0.04494547  0.03989003  0.0355424   0.03235724  0.\n",
      "   0.02904749  0.0283384   0.02794249  0.02772248]\n",
      " [ 0.04656224  0.04226578  0.03776578  0.03384656  0.03094598  0.02904835\n",
      "   0.          0.02725044  0.02688421  0.02668051]\n",
      " [ 0.04476426  0.04078027  0.03657604  0.03288819  0.0301431   0.02833992\n",
      "   0.02725109  0.          0.02627647  0.02608187]\n",
      " [ 0.04378256  0.03996488  0.0359193   0.03235651  0.02969601  0.02794446\n",
      "   0.02688528  0.02627689  0.          0.02574664]\n",
      " [ 0.04324381  0.03951606  0.03555664  0.03206209  0.0294479   0.02772469\n",
      "   0.02668183  0.02608252  0.02574688  0.        ]]\n",
      "('Iteration', 306, 'Train loss:', <autograd.numpy.numpy_boxes.ArrayBox object at 0x7fc481d255a8>)\n",
      "Test loss:  Autograd ArrayBox with value 145.696894608\n",
      "Target\n"
     ]
    },
    {
     "data": {
      "image/png": "[encoded data removed]",
      "text/plain": [
       "<matplotlib.figure.Figure at 0x7fc481594990>"
      ]
     },
     "metadata": {},
     "output_type": "display_data"
    },
    {
     "name": "stdout",
     "output_type": "stream",
     "text": [
      "Predicted\n"
     ]
    },
    {
     "data": {
      "image/png": "[encoded data removed]",
      "text/plain": [
       "<matplotlib.figure.Figure at 0x7fc481594f90>"
      ]
     },
     "metadata": {},
     "output_type": "display_data"
    },
    {
     "name": "stdout",
     "output_type": "stream",
     "text": [
      "L\n",
      "Autograd ArrayBox with value [[ 0.          0.10732424  0.08251766  0.06593561  0.05578508  0.04990431\n",
      "   0.04660648  0.04478906  0.04379255  0.0432456 ]\n",
      " [ 0.10733195  0.          0.06999186  0.05769168  0.04977177  0.04503838\n",
      "   0.0423354   0.04083048  0.04000091  0.03954734]\n",
      " [ 0.08252598  0.0699945   0.          0.04968057  0.04369742  0.04000806\n",
      "   0.03786149  0.0366535   0.03598407  0.03562003]\n",
      " [ 0.0659434   0.05769539  0.04968202  0.          0.03857549  0.03567298\n",
      "   0.03395698  0.03298231  0.03243971  0.03214577]\n",
      " [ 0.05579203  0.04977544  0.04369911  0.03857586  0.          0.03248397\n",
      "   0.03105521  0.03023813  0.02978172  0.02953495]\n",
      " [ 0.04991047  0.04504153  0.04000939  0.03567314  0.03248383  0.\n",
      "   0.02914692  0.02842608  0.02802253  0.0278045 ]\n",
      " [ 0.04661206  0.042338    0.03786235  0.03395679  0.03105481  0.02914669\n",
      "   0.          0.02732597  0.02695293  0.02675145]\n",
      " [ 0.04479428  0.04083268  0.03665399  0.03298184  0.03023751  0.02842566\n",
      "   0.02732579  0.          0.02633534  0.0261431 ]\n",
      " [ 0.04379751  0.04000294  0.0359845   0.03243928  0.02978118  0.02802219\n",
      "   0.02695283  0.02633542  0.          0.02580173]\n",
      " [ 0.04325138  0.03955097  0.03562237  0.0321472   0.02953611  0.02780575\n",
      "   0.02675286  0.02614463  0.02580314  0.        ]]\n"
     ]
    },
    {
     "ename": "KeyboardInterrupt",
     "evalue": "",
     "output_type": "error",
     "traceback": [
      "\u001b[0;31m---------------------------------------------------------------------------\u001b[0m",
      "\u001b[0;31mKeyboardInterrupt\u001b[0m                         Traceback (most recent call last)",
      "\u001b[0;32m<ipython-input-100-66a9f824b7a6>\u001b[0m in \u001b[0;36m<module>\u001b[0;34m()\u001b[0m\n\u001b[1;32m     54\u001b[0m \u001b[0;31m#                       num_iters=1000, callback=callback)\u001b[0m\u001b[0;34m\u001b[0m\u001b[0;34m\u001b[0m\u001b[0m\n\u001b[1;32m     55\u001b[0m trained_params = rmsprop(training_loss_grad, dnc_params, step_size=0.001,\n\u001b[0;32m---> 56\u001b[0;31m                       num_iters=1000, callback=callback)\n\u001b[0m",
      "\u001b[0;32m/usr/local/lib/python2.7/dist-packages/autograd/misc/optimizers.pyc\u001b[0m in \u001b[0;36m_optimize\u001b[0;34m(grad, x0, callback, *args, **kwargs)\u001b[0m\n\u001b[1;32m     26\u001b[0m         \u001b[0;32melse\u001b[0m\u001b[0;34m:\u001b[0m\u001b[0;34m\u001b[0m\u001b[0m\n\u001b[1;32m     27\u001b[0m             \u001b[0m_callback\u001b[0m \u001b[0;34m=\u001b[0m \u001b[0mNone\u001b[0m\u001b[0;34m\u001b[0m\u001b[0m\n\u001b[0;32m---> 28\u001b[0;31m         \u001b[0;32mreturn\u001b[0m \u001b[0munflatten\u001b[0m\u001b[0;34m(\u001b[0m\u001b[0moptimize\u001b[0m\u001b[0;34m(\u001b[0m\u001b[0m_grad\u001b[0m\u001b[0;34m,\u001b[0m \u001b[0m_x0\u001b[0m\u001b[0;34m,\u001b[0m \u001b[0m_callback\u001b[0m\u001b[0;34m,\u001b[0m \u001b[0;34m*\u001b[0m\u001b[0margs\u001b[0m\u001b[0;34m,\u001b[0m \u001b[0;34m**\u001b[0m\u001b[0mkwargs\u001b[0m\u001b[0;34m)\u001b[0m\u001b[0;34m)\u001b[0m\u001b[0;34m\u001b[0m\u001b[0m\n\u001b[0m\u001b[1;32m     29\u001b[0m \u001b[0;34m\u001b[0m\u001b[0m\n\u001b[1;32m     30\u001b[0m     \u001b[0;32mreturn\u001b[0m \u001b[0m_optimize\u001b[0m\u001b[0;34m\u001b[0m\u001b[0m\n",
      "\u001b[0;32m/usr/local/lib/python2.7/dist-packages/autograd/misc/optimizers.pyc\u001b[0m in \u001b[0;36mrmsprop\u001b[0;34m(grad, x, callback, num_iters, step_size, gamma, eps)\u001b[0m\n\u001b[1;32m     48\u001b[0m     \u001b[0mavg_sq_grad\u001b[0m \u001b[0;34m=\u001b[0m \u001b[0mnp\u001b[0m\u001b[0;34m.\u001b[0m\u001b[0mones\u001b[0m\u001b[0;34m(\u001b[0m\u001b[0mlen\u001b[0m\u001b[0;34m(\u001b[0m\u001b[0mx\u001b[0m\u001b[0;34m)\u001b[0m\u001b[0;34m)\u001b[0m\u001b[0;34m\u001b[0m\u001b[0m\n\u001b[1;32m     49\u001b[0m     \u001b[0;32mfor\u001b[0m \u001b[0mi\u001b[0m \u001b[0;32min\u001b[0m \u001b[0mrange\u001b[0m\u001b[0;34m(\u001b[0m\u001b[0mnum_iters\u001b[0m\u001b[0;34m)\u001b[0m\u001b[0;34m:\u001b[0m\u001b[0;34m\u001b[0m\u001b[0m\n\u001b[0;32m---> 50\u001b[0;31m         \u001b[0mg\u001b[0m \u001b[0;34m=\u001b[0m \u001b[0mgrad\u001b[0m\u001b[0;34m(\u001b[0m\u001b[0mx\u001b[0m\u001b[0;34m,\u001b[0m \u001b[0mi\u001b[0m\u001b[0;34m)\u001b[0m\u001b[0;34m\u001b[0m\u001b[0m\n\u001b[0m\u001b[1;32m     51\u001b[0m         \u001b[0;32mif\u001b[0m \u001b[0mcallback\u001b[0m\u001b[0;34m:\u001b[0m \u001b[0mcallback\u001b[0m\u001b[0;34m(\u001b[0m\u001b[0mx\u001b[0m\u001b[0;34m,\u001b[0m \u001b[0mi\u001b[0m\u001b[0;34m,\u001b[0m \u001b[0mg\u001b[0m\u001b[0;34m)\u001b[0m\u001b[0;34m\u001b[0m\u001b[0m\n\u001b[1;32m     52\u001b[0m         \u001b[0mavg_sq_grad\u001b[0m \u001b[0;34m=\u001b[0m \u001b[0mavg_sq_grad\u001b[0m \u001b[0;34m*\u001b[0m \u001b[0mgamma\u001b[0m \u001b[0;34m+\u001b[0m \u001b[0mg\u001b[0m\u001b[0;34m**\u001b[0m\u001b[0;36m2\u001b[0m \u001b[0;34m*\u001b[0m \u001b[0;34m(\u001b[0m\u001b[0;36m1\u001b[0m \u001b[0;34m-\u001b[0m \u001b[0mgamma\u001b[0m\u001b[0;34m)\u001b[0m\u001b[0;34m\u001b[0m\u001b[0m\n",
      "\u001b[0;32m/usr/local/lib/python2.7/dist-packages/autograd/misc/optimizers.pyc\u001b[0m in \u001b[0;36m<lambda>\u001b[0;34m(x, i)\u001b[0m\n\u001b[1;32m     21\u001b[0m     \u001b[0;32mdef\u001b[0m \u001b[0m_optimize\u001b[0m\u001b[0;34m(\u001b[0m\u001b[0mgrad\u001b[0m\u001b[0;34m,\u001b[0m \u001b[0mx0\u001b[0m\u001b[0;34m,\u001b[0m \u001b[0mcallback\u001b[0m\u001b[0;34m=\u001b[0m\u001b[0mNone\u001b[0m\u001b[0;34m,\u001b[0m \u001b[0;34m*\u001b[0m\u001b[0margs\u001b[0m\u001b[0;34m,\u001b[0m \u001b[0;34m**\u001b[0m\u001b[0mkwargs\u001b[0m\u001b[0;34m)\u001b[0m\u001b[0;34m:\u001b[0m\u001b[0;34m\u001b[0m\u001b[0m\n\u001b[1;32m     22\u001b[0m         \u001b[0m_x0\u001b[0m\u001b[0;34m,\u001b[0m \u001b[0munflatten\u001b[0m \u001b[0;34m=\u001b[0m \u001b[0mflatten\u001b[0m\u001b[0;34m(\u001b[0m\u001b[0mx0\u001b[0m\u001b[0;34m)\u001b[0m\u001b[0;34m\u001b[0m\u001b[0m\n\u001b[0;32m---> 23\u001b[0;31m         \u001b[0m_grad\u001b[0m \u001b[0;34m=\u001b[0m \u001b[0;32mlambda\u001b[0m \u001b[0mx\u001b[0m\u001b[0;34m,\u001b[0m \u001b[0mi\u001b[0m\u001b[0;34m:\u001b[0m \u001b[0mflatten\u001b[0m\u001b[0;34m(\u001b[0m\u001b[0mgrad\u001b[0m\u001b[0;34m(\u001b[0m\u001b[0munflatten\u001b[0m\u001b[0;34m(\u001b[0m\u001b[0mx\u001b[0m\u001b[0;34m)\u001b[0m\u001b[0;34m,\u001b[0m \u001b[0mi\u001b[0m\u001b[0;34m)\u001b[0m\u001b[0;34m)\u001b[0m\u001b[0;34m[\u001b[0m\u001b[0;36m0\u001b[0m\u001b[0;34m]\u001b[0m\u001b[0;34m\u001b[0m\u001b[0m\n\u001b[0m\u001b[1;32m     24\u001b[0m         \u001b[0;32mif\u001b[0m \u001b[0mcallback\u001b[0m\u001b[0;34m:\u001b[0m\u001b[0;34m\u001b[0m\u001b[0m\n\u001b[1;32m     25\u001b[0m             \u001b[0m_callback\u001b[0m \u001b[0;34m=\u001b[0m \u001b[0;32mlambda\u001b[0m \u001b[0mx\u001b[0m\u001b[0;34m,\u001b[0m \u001b[0mi\u001b[0m\u001b[0;34m,\u001b[0m \u001b[0mg\u001b[0m\u001b[0;34m:\u001b[0m \u001b[0mcallback\u001b[0m\u001b[0;34m(\u001b[0m\u001b[0munflatten\u001b[0m\u001b[0;34m(\u001b[0m\u001b[0mx\u001b[0m\u001b[0;34m)\u001b[0m\u001b[0;34m,\u001b[0m \u001b[0mi\u001b[0m\u001b[0;34m,\u001b[0m \u001b[0munflatten\u001b[0m\u001b[0;34m(\u001b[0m\u001b[0mg\u001b[0m\u001b[0;34m)\u001b[0m\u001b[0;34m)\u001b[0m\u001b[0;34m\u001b[0m\u001b[0m\n",
      "\u001b[0;32m/usr/local/lib/python2.7/dist-packages/autograd/wrap_util.pyc\u001b[0m in \u001b[0;36mnary_f\u001b[0;34m(*args, **kwargs)\u001b[0m\n\u001b[1;32m     18\u001b[0m             \u001b[0;32melse\u001b[0m\u001b[0;34m:\u001b[0m\u001b[0;34m\u001b[0m\u001b[0m\n\u001b[1;32m     19\u001b[0m                 \u001b[0mx\u001b[0m \u001b[0;34m=\u001b[0m \u001b[0mtuple\u001b[0m\u001b[0;34m(\u001b[0m\u001b[0margs\u001b[0m\u001b[0;34m[\u001b[0m\u001b[0mi\u001b[0m\u001b[0;34m]\u001b[0m \u001b[0;32mfor\u001b[0m \u001b[0mi\u001b[0m \u001b[0;32min\u001b[0m \u001b[0margnum\u001b[0m\u001b[0;34m)\u001b[0m\u001b[0;34m\u001b[0m\u001b[0m\n\u001b[0;32m---> 20\u001b[0;31m             \u001b[0;32mreturn\u001b[0m \u001b[0munary_operator\u001b[0m\u001b[0;34m(\u001b[0m\u001b[0munary_f\u001b[0m\u001b[0;34m,\u001b[0m \u001b[0mx\u001b[0m\u001b[0;34m,\u001b[0m \u001b[0;34m*\u001b[0m\u001b[0mnary_op_args\u001b[0m\u001b[0;34m,\u001b[0m \u001b[0;34m**\u001b[0m\u001b[0mnary_op_kwargs\u001b[0m\u001b[0;34m)\u001b[0m\u001b[0;34m\u001b[0m\u001b[0m\n\u001b[0m\u001b[1;32m     21\u001b[0m         \u001b[0;32mreturn\u001b[0m \u001b[0mnary_f\u001b[0m\u001b[0;34m\u001b[0m\u001b[0m\n\u001b[1;32m     22\u001b[0m     \u001b[0;32mreturn\u001b[0m \u001b[0mnary_operator\u001b[0m\u001b[0;34m\u001b[0m\u001b[0m\n",
      "\u001b[0;32m/usr/local/lib/python2.7/dist-packages/autograd/differential_operators.pyc\u001b[0m in \u001b[0;36mgrad\u001b[0;34m(fun, x)\u001b[0m\n\u001b[1;32m     26\u001b[0m         raise TypeError(\"Grad only applies to real scalar-output functions. \"\n\u001b[1;32m     27\u001b[0m                         \"Try jacobian or elementwise_grad.\")\n\u001b[0;32m---> 28\u001b[0;31m     \u001b[0;32mreturn\u001b[0m \u001b[0mvjp\u001b[0m\u001b[0;34m(\u001b[0m\u001b[0mvspace\u001b[0m\u001b[0;34m(\u001b[0m\u001b[0mans\u001b[0m\u001b[0;34m)\u001b[0m\u001b[0;34m.\u001b[0m\u001b[0mones\u001b[0m\u001b[0;34m(\u001b[0m\u001b[0;34m)\u001b[0m\u001b[0;34m)\u001b[0m\u001b[0;34m\u001b[0m\u001b[0m\n\u001b[0m\u001b[1;32m     29\u001b[0m \u001b[0;34m\u001b[0m\u001b[0m\n\u001b[1;32m     30\u001b[0m \u001b[0;34m@\u001b[0m\u001b[0munary_to_nary\u001b[0m\u001b[0;34m\u001b[0m\u001b[0m\n",
      "\u001b[0;32m/usr/local/lib/python2.7/dist-packages/autograd/core.pyc\u001b[0m in \u001b[0;36mvjp\u001b[0;34m(g)\u001b[0m\n\u001b[1;32m     12\u001b[0m         \u001b[0;32mdef\u001b[0m \u001b[0mvjp\u001b[0m\u001b[0;34m(\u001b[0m\u001b[0mg\u001b[0m\u001b[0;34m)\u001b[0m\u001b[0;34m:\u001b[0m \u001b[0;32mreturn\u001b[0m \u001b[0mvspace\u001b[0m\u001b[0;34m(\u001b[0m\u001b[0mx\u001b[0m\u001b[0;34m)\u001b[0m\u001b[0;34m.\u001b[0m\u001b[0mzeros\u001b[0m\u001b[0;34m(\u001b[0m\u001b[0;34m)\u001b[0m\u001b[0;34m\u001b[0m\u001b[0m\n\u001b[1;32m     13\u001b[0m     \u001b[0;32melse\u001b[0m\u001b[0;34m:\u001b[0m\u001b[0;34m\u001b[0m\u001b[0m\n\u001b[0;32m---> 14\u001b[0;31m         \u001b[0;32mdef\u001b[0m \u001b[0mvjp\u001b[0m\u001b[0;34m(\u001b[0m\u001b[0mg\u001b[0m\u001b[0;34m)\u001b[0m\u001b[0;34m:\u001b[0m \u001b[0;32mreturn\u001b[0m \u001b[0mbackward_pass\u001b[0m\u001b[0;34m(\u001b[0m\u001b[0mg\u001b[0m\u001b[0;34m,\u001b[0m \u001b[0mend_node\u001b[0m\u001b[0;34m)\u001b[0m\u001b[0;34m\u001b[0m\u001b[0m\n\u001b[0m\u001b[1;32m     15\u001b[0m     \u001b[0;32mreturn\u001b[0m \u001b[0mvjp\u001b[0m\u001b[0;34m,\u001b[0m \u001b[0mend_value\u001b[0m\u001b[0;34m\u001b[0m\u001b[0m\n\u001b[1;32m     16\u001b[0m \u001b[0;34m\u001b[0m\u001b[0m\n",
      "\u001b[0;32m/usr/local/lib/python2.7/dist-packages/autograd/core.pyc\u001b[0m in \u001b[0;36mbackward_pass\u001b[0;34m(g, end_node)\u001b[0m\n\u001b[1;32m     19\u001b[0m     \u001b[0;32mfor\u001b[0m \u001b[0mnode\u001b[0m \u001b[0;32min\u001b[0m \u001b[0mtoposort\u001b[0m\u001b[0;34m(\u001b[0m\u001b[0mend_node\u001b[0m\u001b[0;34m)\u001b[0m\u001b[0;34m:\u001b[0m\u001b[0;34m\u001b[0m\u001b[0m\n\u001b[1;32m     20\u001b[0m         \u001b[0moutgrad\u001b[0m \u001b[0;34m=\u001b[0m \u001b[0moutgrads\u001b[0m\u001b[0;34m.\u001b[0m\u001b[0mpop\u001b[0m\u001b[0;34m(\u001b[0m\u001b[0mnode\u001b[0m\u001b[0;34m)\u001b[0m\u001b[0;34m\u001b[0m\u001b[0m\n\u001b[0;32m---> 21\u001b[0;31m         \u001b[0mingrads\u001b[0m \u001b[0;34m=\u001b[0m \u001b[0mnode\u001b[0m\u001b[0;34m.\u001b[0m\u001b[0mvjp\u001b[0m\u001b[0;34m(\u001b[0m\u001b[0moutgrad\u001b[0m\u001b[0;34m[\u001b[0m\u001b[0;36m0\u001b[0m\u001b[0;34m]\u001b[0m\u001b[0;34m)\u001b[0m\u001b[0;34m\u001b[0m\u001b[0m\n\u001b[0m\u001b[1;32m     22\u001b[0m         \u001b[0;32mfor\u001b[0m \u001b[0mparent\u001b[0m\u001b[0;34m,\u001b[0m \u001b[0mingrad\u001b[0m \u001b[0;32min\u001b[0m \u001b[0mzip\u001b[0m\u001b[0;34m(\u001b[0m\u001b[0mnode\u001b[0m\u001b[0;34m.\u001b[0m\u001b[0mparents\u001b[0m\u001b[0;34m,\u001b[0m \u001b[0mingrads\u001b[0m\u001b[0;34m)\u001b[0m\u001b[0;34m:\u001b[0m\u001b[0;34m\u001b[0m\u001b[0m\n\u001b[1;32m     23\u001b[0m             \u001b[0moutgrads\u001b[0m\u001b[0;34m[\u001b[0m\u001b[0mparent\u001b[0m\u001b[0;34m]\u001b[0m \u001b[0;34m=\u001b[0m \u001b[0madd_outgrads\u001b[0m\u001b[0;34m(\u001b[0m\u001b[0moutgrads\u001b[0m\u001b[0;34m.\u001b[0m\u001b[0mget\u001b[0m\u001b[0;34m(\u001b[0m\u001b[0mparent\u001b[0m\u001b[0;34m)\u001b[0m\u001b[0;34m,\u001b[0m \u001b[0mingrad\u001b[0m\u001b[0;34m)\u001b[0m\u001b[0;34m\u001b[0m\u001b[0m\n",
      "\u001b[0;32m/usr/local/lib/python2.7/dist-packages/autograd/core.pyc\u001b[0m in \u001b[0;36m<lambda>\u001b[0;34m(g)\u001b[0m\n\u001b[1;32m     59\u001b[0m                     \"VJP of {} wrt argnum 0 not defined\".format(fun.__name__))\n\u001b[1;32m     60\u001b[0m             \u001b[0mvjp\u001b[0m \u001b[0;34m=\u001b[0m \u001b[0mvjpfun\u001b[0m\u001b[0;34m(\u001b[0m\u001b[0mans\u001b[0m\u001b[0;34m,\u001b[0m \u001b[0;34m*\u001b[0m\u001b[0margs\u001b[0m\u001b[0;34m,\u001b[0m \u001b[0;34m**\u001b[0m\u001b[0mkwargs\u001b[0m\u001b[0;34m)\u001b[0m\u001b[0;34m\u001b[0m\u001b[0m\n\u001b[0;32m---> 61\u001b[0;31m             \u001b[0;32mreturn\u001b[0m \u001b[0;32mlambda\u001b[0m \u001b[0mg\u001b[0m\u001b[0;34m:\u001b[0m \u001b[0;34m(\u001b[0m\u001b[0mvjp\u001b[0m\u001b[0;34m(\u001b[0m\u001b[0mg\u001b[0m\u001b[0;34m)\u001b[0m\u001b[0;34m,\u001b[0m\u001b[0;34m)\u001b[0m\u001b[0;34m\u001b[0m\u001b[0m\n\u001b[0m\u001b[1;32m     62\u001b[0m         \u001b[0;32melif\u001b[0m \u001b[0mL\u001b[0m \u001b[0;34m==\u001b[0m \u001b[0;36m2\u001b[0m\u001b[0;34m:\u001b[0m\u001b[0;34m\u001b[0m\u001b[0m\n\u001b[1;32m     63\u001b[0m             \u001b[0margnum_0\u001b[0m\u001b[0;34m,\u001b[0m \u001b[0margnum_1\u001b[0m \u001b[0;34m=\u001b[0m \u001b[0margnums\u001b[0m\u001b[0;34m\u001b[0m\u001b[0m\n",
      "\u001b[0;32m/usr/local/lib/python2.7/dist-packages/autograd/numpy/numpy_vjps.pyc\u001b[0m in \u001b[0;36mvjp\u001b[0;34m(g)\u001b[0m\n\u001b[1;32m    276\u001b[0m     \u001b[0;32mdef\u001b[0m \u001b[0mvjp\u001b[0m\u001b[0;34m(\u001b[0m\u001b[0mg\u001b[0m\u001b[0;34m)\u001b[0m\u001b[0;34m:\u001b[0m\u001b[0;34m\u001b[0m\u001b[0m\n\u001b[1;32m    277\u001b[0m         \u001b[0;34m\"\"\"Builds gradient of functions that choose a single item, such as min or max.\"\"\"\u001b[0m\u001b[0;34m\u001b[0m\u001b[0m\n\u001b[0;32m--> 278\u001b[0;31m         \u001b[0mg_repeated\u001b[0m\u001b[0;34m,\u001b[0m \u001b[0m_\u001b[0m \u001b[0;34m=\u001b[0m \u001b[0mrepeat_to_match_shape\u001b[0m\u001b[0;34m(\u001b[0m\u001b[0mg\u001b[0m\u001b[0;34m,\u001b[0m \u001b[0mshape\u001b[0m\u001b[0;34m,\u001b[0m \u001b[0mdtype\u001b[0m\u001b[0;34m,\u001b[0m \u001b[0maxis\u001b[0m\u001b[0;34m,\u001b[0m \u001b[0mkeepdims\u001b[0m\u001b[0;34m)\u001b[0m\u001b[0;34m\u001b[0m\u001b[0m\n\u001b[0m\u001b[1;32m    279\u001b[0m         \u001b[0margmax_locations\u001b[0m \u001b[0;34m=\u001b[0m \u001b[0mx\u001b[0m \u001b[0;34m==\u001b[0m \u001b[0mrepeat_to_match_shape\u001b[0m\u001b[0;34m(\u001b[0m\u001b[0mans\u001b[0m\u001b[0;34m,\u001b[0m \u001b[0mshape\u001b[0m\u001b[0;34m,\u001b[0m \u001b[0mdtype\u001b[0m\u001b[0;34m,\u001b[0m \u001b[0maxis\u001b[0m\u001b[0;34m,\u001b[0m \u001b[0mkeepdims\u001b[0m\u001b[0;34m)\u001b[0m\u001b[0;34m[\u001b[0m\u001b[0;36m0\u001b[0m\u001b[0;34m]\u001b[0m\u001b[0;34m\u001b[0m\u001b[0m\n\u001b[1;32m    280\u001b[0m         \u001b[0;32mreturn\u001b[0m \u001b[0mg_repeated\u001b[0m \u001b[0;34m*\u001b[0m \u001b[0margmax_locations\u001b[0m\u001b[0;31m \u001b[0m\u001b[0;31m\\\u001b[0m\u001b[0;34m\u001b[0m\u001b[0m\n",
      "\u001b[0;32m/usr/local/lib/python2.7/dist-packages/autograd/numpy/numpy_vjps.pyc\u001b[0m in \u001b[0;36mrepeat_to_match_shape\u001b[0;34m(g, shape, dtype, axis, keepdims)\u001b[0m\n\u001b[1;32m    220\u001b[0m       \u001b[0;32mreturn\u001b[0m \u001b[0mg\u001b[0m\u001b[0;34m,\u001b[0m \u001b[0;36m1\u001b[0m\u001b[0;34m\u001b[0m\u001b[0m\n\u001b[1;32m    221\u001b[0m     \u001b[0maxis\u001b[0m \u001b[0;34m=\u001b[0m \u001b[0mlist\u001b[0m\u001b[0;34m(\u001b[0m\u001b[0maxis\u001b[0m\u001b[0;34m)\u001b[0m \u001b[0;32mif\u001b[0m \u001b[0misinstance\u001b[0m\u001b[0;34m(\u001b[0m\u001b[0maxis\u001b[0m\u001b[0;34m,\u001b[0m \u001b[0mtuple\u001b[0m\u001b[0;34m)\u001b[0m \u001b[0;32melse\u001b[0m \u001b[0maxis\u001b[0m\u001b[0;34m\u001b[0m\u001b[0m\n\u001b[0;32m--> 222\u001b[0;31m     \u001b[0mnew_shape\u001b[0m \u001b[0;34m=\u001b[0m \u001b[0monp\u001b[0m\u001b[0;34m.\u001b[0m\u001b[0marray\u001b[0m\u001b[0;34m(\u001b[0m\u001b[0mshape\u001b[0m\u001b[0;34m)\u001b[0m\u001b[0;34m\u001b[0m\u001b[0m\n\u001b[0m\u001b[1;32m    223\u001b[0m     \u001b[0mnew_shape\u001b[0m\u001b[0;34m[\u001b[0m\u001b[0maxis\u001b[0m\u001b[0;34m]\u001b[0m \u001b[0;34m=\u001b[0m \u001b[0;36m1\u001b[0m\u001b[0;34m\u001b[0m\u001b[0m\n\u001b[1;32m    224\u001b[0m     \u001b[0mnum_reps\u001b[0m \u001b[0;34m=\u001b[0m \u001b[0monp\u001b[0m\u001b[0;34m.\u001b[0m\u001b[0mprod\u001b[0m\u001b[0;34m(\u001b[0m\u001b[0monp\u001b[0m\u001b[0;34m.\u001b[0m\u001b[0marray\u001b[0m\u001b[0;34m(\u001b[0m\u001b[0mshape\u001b[0m\u001b[0;34m)\u001b[0m\u001b[0;34m[\u001b[0m\u001b[0maxis\u001b[0m\u001b[0;34m]\u001b[0m\u001b[0;34m)\u001b[0m\u001b[0;34m\u001b[0m\u001b[0m\n",
      "\u001b[0;31mKeyboardInterrupt\u001b[0m: "
     ]
    }
   ],
   "source": [
    "def loss_fn(pred, target):\n",
    "    pred = sigmoid(pred)\n",
    "    one = np.ones_like(pred)\n",
    "    epsilon = 1.e-20 # to prevent log(0)\n",
    "    a = target * np.log(pred + epsilon)\n",
    "    b = (one - target) * np.log(one - pred + epsilon)\n",
    "    return - (a + b)\n",
    "\n",
    "dnc = DNCFF(input_size=7, output_size=5, hidden_size=32, R=1, N=10, W=1)\n",
    "# dnc = DNC(input_size=12, output_size=10, hidden_size=10, R=1, N=10, W=1)\n",
    "dnc_params = dnc._init_params()\n",
    "\n",
    "def print_training_prediction(params):\n",
    "    \n",
    "    inputs, targets, seqlen = copy_sequence(20, 5)\n",
    "    result = []\n",
    "    loss = 0\n",
    "#     print \"Tar: \", targets\n",
    "    for t in range(inputs.shape[0]):\n",
    "        out = dnc.step_forward(params, inputs[np.newaxis, t])\n",
    "#         if t >= inputs.shape[0] - seqlen:\n",
    "        loss = loss + loss_fn(out, targets[np.newaxis, t])\n",
    "        result.append(out)\n",
    "    print \"Test loss: \", np.sum(loss)\n",
    "#     print \"Tar: \", targets\n",
    "    result = np.concatenate(result, axis=0)\n",
    "    print \"Target\"\n",
    "    display(targets.T)\n",
    "    print \"Predicted\"\n",
    "    display(np.around(sigmoid(result._value), decimals=0).astype('int').T)\n",
    "    print \"L\"\n",
    "    print(dnc.accessor.states[-1]['L'])\n",
    "    \n",
    "    \n",
    "def training_loss(params, iter):\n",
    "    loss = 0\n",
    "    inputs, targets, seqlen = copy_sequence(20, 5)\n",
    "    for t in range(inputs.shape[0]):\n",
    "        out = dnc.step_forward(params, inputs[np.newaxis, t])\n",
    "#         if t >= inputs.shape[0] - seqlen:\n",
    "        loss = loss + loss_fn(out, targets[np.newaxis, t])\n",
    "    return np.sum(loss)\n",
    "\n",
    "def callback(weights, iter, gradient):\n",
    "    if iter % 3 == 0:\n",
    "        print(\"Iteration\", iter, \"Train loss:\", training_loss(weights, 0))\n",
    "        print_training_prediction(weights)\n",
    "\n",
    "# Build gradient of loss function using autograd.\n",
    "training_loss_grad = grad(training_loss)\n",
    "\n",
    "print(\"Training DNC...\")\n",
    "# trained_params = adam(training_loss_grad, dnc_params, step_size=0.001,\n",
    "#                       num_iters=1000, callback=callback)\n",
    "trained_params = rmsprop(training_loss_grad, dnc_params, step_size=0.001,\n",
    "                      num_iters=1000, callback=callback)"
   ]
  }
 ],
 "metadata": {
  "kernelspec": {
   "display_name": "Python 2",
   "language": "python",
   "name": "python2"
  },
  "language_info": {
   "codemirror_mode": {
    "name": "ipython",
    "version": 2
   },
   "file_extension": ".py",
   "mimetype": "text/x-python",
   "name": "python",
   "nbconvert_exporter": "python",
   "pygments_lexer": "ipython2",
   "version": "2.7.12"
  }
 },
 "nbformat": 4,
 "nbformat_minor": 2
}
